{
 "cells": [
  {
   "cell_type": "markdown",
   "metadata": {
    "deletable": true,
    "editable": true
   },
   "source": [
    "\n",
    "<table>\n",
    "<tr>\n",
    "<td width=15%><img src=\"./img/UGA.png\"></img></td>\n",
    "<td><center><h1>Introduction to Python for Data Sciences</h1></center></td>\n",
    "<td width=15%><a href=\"http://www.iutzeler.org\" style=\"font-size: 16px; font-weight: bold\">Franck Iutzeler</a><br/> Fall. 2018 </td>\n",
    "</tr>\n",
    "</table>\n"
   ]
  },
  {
   "cell_type": "markdown",
   "metadata": {
    "deletable": true,
    "editable": true
   },
   "source": [
    "<br/><br/><div id=\"top\"></div>\n",
    "\n",
    "<center><a style=\"font-size: 40pt; font-weight: bold\">Chap. 4 - Machine Learning with ScikitLearn </a></center>\n",
    "\n",
    "<br/>\n",
    "\n",
    "# ``1. Scikit Learn``\n",
    "\n",
    "---"
   ]
  },
  {
   "cell_type": "markdown",
   "metadata": {
    "deletable": true,
    "editable": true
   },
   "source": [
    "<a href=\"#style\"><b>Package check and Styling</b></a><br/><br/><b>Outline</b><br/><br/>\n",
    "&nbsp;&nbsp;&nbsp; a) <a href=\"#introML\"> Machine Learning problems</a><br/>&nbsp;&nbsp;&nbsp; b) <a href=\"#introSkl\"> Scikit Learn overview </a><br/>&nbsp;&nbsp;&nbsp; c) <a href=\"#introPre\"> Preprocessing Data</a><br/>"
   ]
  },
  {
   "cell_type": "markdown",
   "metadata": {
    "deletable": true,
    "editable": true
   },
   "source": [
    "\n",
    "\n",
    "Now that we explored data structures provided by the Pandas library, we will investigate how to learn over it using **Scikit-learn**.\n",
    "\n",
    "Scikit-learn is ont of the most celebrated and used machine learning library. It features a complete set of efficiently implemented machine learning algorithms for classification, regression, and clustering. Scikit-learn is designed to operate over Numpy, Scipy, and Pandas data structures.  \n",
    "\n",
    "**Links:** [Scikit-learn webpage](http://scikit-learn.org)  [Wikipedia article](https://en.wikipedia.org/wiki/Scikit-learn)"
   ]
  },
  {
   "cell_type": "code",
   "execution_count": 1,
   "metadata": {
    "collapsed": true,
    "deletable": true,
    "editable": true
   },
   "outputs": [],
   "source": [
    "import pandas as pd\n",
    "import numpy as np\n",
    "import matplotlib.pyplot as plt\n",
    "%matplotlib inline"
   ]
  },
  {
   "cell_type": "markdown",
   "metadata": {
    "collapsed": true,
    "deletable": true,
    "editable": true
   },
   "source": [
    "## <a id=\"introML\"> a) Machine Learning problems</a>  \n",
    "\n",
    "\n",
    "<p style=\"text-align: right; font-size: 10px;\"><a href=\"#top\">Go to top</a></p>\n"
   ]
  },
  {
   "cell_type": "markdown",
   "metadata": {
    "deletable": true,
    "editable": true
   },
   "source": [
    "*Machine learning* is the task of predicting properties out of some data. The *dataset* consists in several *examples* or *samples* and the associated target properties can be available, partially available, or not at all; we respectively call these setting *supervised*, *semi-supervised*, *unsupervised*. The examples are made out of one or several *features* or *attributes* that can be of different types (real number, discretes values, strings, booleans, etc.). \n",
    "\n",
    "Learning problems can be broadly divided in a few categories:\n",
    "* **supervised learning** \n",
    " * \n",
    "    *  ** *classification:* ** Place incoming data into a finite number or classes by learning over labeled data. Example: Classifying iris into species based on recorded petal and sentil sizes from the 3 species. \n",
    "    *  ** *regression:* ** Predict a value from example data. To the difference of classification, the output value is continuous. Example: Predict the carbon monoxide concentration for next years based on previous measures.\n",
    "* **unsupervised learning**\n",
    " * \n",
    "   *  ** *clustering:* ** Place the data (both new and the dataset) into a finite number of classes. To the difference with classification, no labeled data is provided. Example: Create market segments from customer information for targeted advertising.\n",
    "   *  ** *dimension reduction:* ** Discard uniformative features for the purpose of visualization or efficient storage. Example: Creation of eigenfaces in visage recognition.  \n",
    "   \n",
    "\n",
    "The following flowchart can be found on the [Scikit Learn website](http://scikit-learn.org/stable/tutorial/machine_learning_map/index.html):\n",
    "\n",
    "![Scikit Learn Algorithm cheatsheet](img/ml_map.png \"Scikit Learn Algorithm cheatsheet\")"
   ]
  },
  {
   "cell_type": "markdown",
   "metadata": {
    "deletable": true,
    "editable": true
   },
   "source": [
    "## <a id=\"introSkl\"> b) Scikit Learn overview </a>  \n",
    "\n",
    "\n",
    "<p style=\"text-align: right; font-size: 10px;\"> <a href=\"#top\">Go to top</a></p>\n",
    "\n",
    "\n",
    "The package features<br/>\n",
    "**Learning modules:** Classification, Regression, Clustering, Dimentionality reduction<br/>\n",
    "**Annex modules:** Model selection, Preprocessing\n",
    "\n"
   ]
  },
  {
   "cell_type": "markdown",
   "metadata": {
    "deletable": true,
    "editable": true
   },
   "source": [
    "\n",
    "### Learning with Scikit Learn\n",
    "\n",
    "The process of learning and predicting with Scikit Learn follows three main steps:<br/>\n",
    "**1. Selecting and adjusting a model**<br/>\n",
    "**2. Fitting the model to the data**<br/>\n",
    "**3. Predicting from this fitted model**"
   ]
  },
  {
   "cell_type": "markdown",
   "metadata": {
    "deletable": true,
    "editable": true
   },
   "source": [
    "We will illustrate this process on a simple *linear model*\n",
    "$$ y = a x + b + \\nu$$\n",
    "where \n",
    "* $(x,y)\\in\\mathbb{R}^m\\times\\mathbb{R}^m$ are the data points. $x$ contains the examples and $y$ the associated outputs  \n",
    "* $a,b$ are the model coefficients to estimate\n",
    "* $\\nu$ is a standard centered white Gaussian noise"
   ]
  },
  {
   "cell_type": "code",
   "execution_count": 3,
   "metadata": {
    "collapsed": false,
    "deletable": true,
    "editable": true
   },
   "outputs": [
    {
     "data": {
      "text/plain": [
       "<matplotlib.collections.PathCollection at 0x7f7033f3d470>"
      ]
     },
     "execution_count": 3,
     "metadata": {},
     "output_type": "execute_result"
    },
    {
     "data": {
      "image/png": "[encoded data removed]",
      "text/plain": [
       "<matplotlib.figure.Figure at 0x7f7035fa8b00>"
      ]
     },
     "metadata": {},
     "output_type": "display_data"
    }
   ],
   "source": [
    "a = np.random.randn()*5             # Drawing randomly the slope\n",
    "b = np.random.rand()*10             # Drawing randomly the initial point\n",
    "\n",
    "m = 50                              # number of points\n",
    "\n",
    "x = np.random.rand(m,1)*10          # Drawing randomly abscisses\n",
    "y = a*x + b + np.random.randn(m,1)  # y = ax+b + noise\n",
    "\n",
    "plt.scatter(x, y)"
   ]
  },
  {
   "cell_type": "markdown",
   "metadata": {
    "collapsed": true,
    "deletable": true,
    "editable": true
   },
   "source": [
    "**1. Selecting and adjusting a model**<br/>\n",
    "\n",
    "As we want to fit a linear model $y=ax+b$ through the data, we will import the <tt>Linear Regression</tt> module from scikit learn with <tt>sklearn.linear_model import LinearRegression</tt>.\n",
    "\n",
    "As our model has a non null coefficient at the origin, the model needs an *intercept*. This can be tuned, along with several other parameters, see Scikit Learn's  [linear_model documentation](http://Scikit-Learn.org/stable/modules/linear_model.html)."
   ]
  },
  {
   "cell_type": "code",
   "execution_count": 4,
   "metadata": {
    "collapsed": false,
    "deletable": true,
    "editable": true
   },
   "outputs": [
    {
     "name": "stdout",
     "output_type": "stream",
     "text": [
      "LinearRegression(copy_X=True, fit_intercept=True, n_jobs=1, normalize=False)\n"
     ]
    }
   ],
   "source": [
    "from sklearn.linear_model import LinearRegression\n",
    "\n",
    "model = LinearRegression(fit_intercept=True)\n",
    "print(model)"
   ]
  },
  {
   "cell_type": "markdown",
   "metadata": {
    "deletable": true,
    "editable": true
   },
   "source": [
    "This terminates our model tuning. Notice that we have described our model, but no learning or fitting has been done."
   ]
  },
  {
   "cell_type": "markdown",
   "metadata": {
    "deletable": true,
    "editable": true
   },
   "source": [
    "**2. Fitting the model to the data**\n",
    "\n",
    "\n",
    "Applying our model to the data $(x,y)$ is done using the <tt>fit</tt> method."
   ]
  },
  {
   "cell_type": "code",
   "execution_count": 6,
   "metadata": {
    "collapsed": false,
    "deletable": true,
    "editable": true
   },
   "outputs": [
    {
     "data": {
      "text/plain": [
       "LinearRegression(copy_X=True, fit_intercept=True, n_jobs=1, normalize=False)"
      ]
     },
     "execution_count": 6,
     "metadata": {},
     "output_type": "execute_result"
    }
   ],
   "source": [
    "model.fit(x,y)"
   ]
  },
  {
   "cell_type": "markdown",
   "metadata": {
    "deletable": true,
    "editable": true
   },
   "source": [
    "Once the model is fitted, one can observe the learned coefficients:\n",
    "* <tt>coef_</tt> for the model coefficients ($a$ here)\n",
    "* <tt>intercept_</tt> foe the intercept ($b$ here)"
   ]
  },
  {
   "cell_type": "code",
   "execution_count": 7,
   "metadata": {
    "collapsed": false,
    "deletable": true,
    "editable": true
   },
   "outputs": [
    {
     "name": "stdout",
     "output_type": "stream",
     "text": [
      "Learned coefficients: a = 1.463640 \t b = 0.628804\n",
      "True coefficients:    a = 1.523498 \t b = 0.116695\n"
     ]
    }
   ],
   "source": [
    "print(\"Learned coefficients: a = {:.6f} \\t b = {:.6f}\".format(float(model.coef_),float(model.intercept_)))\n",
    "print(\"True coefficients:    a = {:.6f} \\t b = {:.6f}\".format(a,b))"
   ]
  },
  {
   "cell_type": "markdown",
   "metadata": {
    "deletable": true,
    "editable": true
   },
   "source": [
    "**3. Predicting from this fitted model**\n",
    "\n",
    "\n",
    "From a feature matrix, the method <tt>predict</tt> returns the predicted output from the fitted model. "
   ]
  },
  {
   "cell_type": "code",
   "execution_count": 8,
   "metadata": {
    "collapsed": true,
    "deletable": true,
    "editable": true
   },
   "outputs": [],
   "source": [
    "xFit = np.linspace(-2,12,21).reshape(-1, 1)"
   ]
  },
  {
   "cell_type": "code",
   "execution_count": 9,
   "metadata": {
    "collapsed": true,
    "deletable": true,
    "editable": true
   },
   "outputs": [],
   "source": [
    "yFit = model.predict(xFit)"
   ]
  },
  {
   "cell_type": "code",
   "execution_count": 10,
   "metadata": {
    "collapsed": false,
    "deletable": true,
    "editable": true
   },
   "outputs": [
    {
     "data": {
      "text/plain": [
       "<matplotlib.legend.Legend at 0x7f70296a4cc0>"
      ]
     },
     "execution_count": 10,
     "metadata": {},
     "output_type": "execute_result"
    },
    {
     "data": {
      "image/png": "[encoded data removed]",
      "text/plain": [
       "<matplotlib.figure.Figure at 0x7f70296f85c0>"
      ]
     },
     "metadata": {},
     "output_type": "display_data"
    }
   ],
   "source": [
    "plt.scatter(x, y , label=\"data\")\n",
    "plt.plot(xFit, yFit , label=\"model\")\n",
    "plt.legend()"
   ]
  },
  {
   "cell_type": "markdown",
   "metadata": {
    "deletable": true,
    "editable": true
   },
   "source": [
    "## <a id=\"introPre\"> c) Preprocessing Data</a>  \n",
    "\n",
    "\n",
    "<p style=\"text-align: right; font-size: 10px;\"><a href=\"#top\">Go to top</a></p>\n"
   ]
  },
  {
   "cell_type": "markdown",
   "metadata": {
    "deletable": true,
    "editable": true
   },
   "source": [
    "### Data format\n",
    "\n",
    "Scikit Learn can take as an input (*i.e.* passed to <tt>fit</tt> and </tt>predict</tt>) several format including:\n",
    "* Numpy arrays. **Warning:** the data *has to be **2D** * even if there is only one example or one feature.\n",
    "* Pandas dataframes.\n",
    "* SciPy sparse matrices.\n",
    "\n",
    "The *examples/samples* of the datasets are stored as *rows*.<br/>\n",
    "The *features* are the *columns*.\n",
    "\n",
    "### Training/Testing sets\n",
    "\n",
    "In order to *cross-validate* our model, it is customary to split the dataset into training and testing subsets. It can be done manually but there is also a dedicated method."
   ]
  },
  {
   "cell_type": "code",
   "execution_count": 11,
   "metadata": {
    "collapsed": true,
    "deletable": true,
    "editable": true
   },
   "outputs": [],
   "source": [
    "try:\n",
    "    from sklearn.model_selection import train_test_split    # sklearn > ...\n",
    "except:\n",
    "    from sklearn.cross_validation import train_test_split   # sklearn < ...\n",
    "\n",
    "xTrain, xTest, yTrain, yTest = train_test_split(x,y)"
   ]
  },
  {
   "cell_type": "code",
   "execution_count": 12,
   "metadata": {
    "collapsed": false,
    "deletable": true,
    "editable": true
   },
   "outputs": [
    {
     "name": "stdout",
     "output_type": "stream",
     "text": [
      "(37, 1) (37, 1)\n",
      "(13, 1) (13, 1)\n"
     ]
    }
   ],
   "source": [
    "print(xTrain.shape,yTrain.shape)\n",
    "print(xTest.shape,yTest.shape)"
   ]
  },
  {
   "cell_type": "markdown",
   "metadata": {
    "deletable": true,
    "editable": true
   },
   "source": [
    "Let us use cross validation to compare linear model and linear model with intercept."
   ]
  },
  {
   "cell_type": "code",
   "execution_count": 13,
   "metadata": {
    "collapsed": false,
    "deletable": true,
    "editable": true
   },
   "outputs": [
    {
     "name": "stdout",
     "output_type": "stream",
     "text": [
      "Testing Error with intercept: 4.58463356923 \t without intercept: 4.44332541616\n"
     ]
    }
   ],
   "source": [
    "from sklearn.linear_model import LinearRegression\n",
    "\n",
    "model1 = LinearRegression(fit_intercept=True)\n",
    "model2 = LinearRegression(fit_intercept=False)\n",
    "\n",
    "model1.fit(xTrain,yTrain)\n",
    "yPre1 = model1.predict(xTest)\n",
    "error1 = np.linalg.norm(yTest-yPre1)\n",
    "\n",
    "model2.fit(xTrain,yTrain)\n",
    "yPre2 = model2.predict(xTest)\n",
    "error2 = np.linalg.norm(yTest-yPre2)\n",
    "\n",
    "print(\"Testing Error with intercept:\", error1, \"\\t without intercept:\" ,error2)"
   ]
  },
  {
   "cell_type": "code",
   "execution_count": 14,
   "metadata": {
    "collapsed": false,
    "deletable": true,
    "editable": true
   },
   "outputs": [
    {
     "data": {
      "text/plain": [
       "<matplotlib.legend.Legend at 0x7f7029682748>"
      ]
     },
     "execution_count": 14,
     "metadata": {},
     "output_type": "execute_result"
    },
    {
     "data": {
      "image/png": "[encoded data removed]",
      "text/plain": [
       "<matplotlib.figure.Figure at 0x7f70296b5128>"
      ]
     },
     "metadata": {},
     "output_type": "display_data"
    }
   ],
   "source": [
    "plt.scatter(xTrain, yTrain ,  label=\"Train data\")\n",
    "plt.scatter(xTest, yTest , color= 'k' , label=\"Test data\")\n",
    "plt.plot(xTest, yPre1 , color='r', label=\"model w/ intercept (err = {:.1f})\".format(error1))\n",
    "plt.plot(xTest, yPre2 , color='m', label=\"model w/o intercept (err = {:.1f})\".format(error2))\n",
    "plt.legend()"
   ]
  },
  {
   "cell_type": "markdown",
   "metadata": {
    "deletable": true,
    "editable": true
   },
   "source": [
    "### Learning metrics\n",
    "\n",
    "In order to quantitatively evaluate the models, Scikit Learn provide a wide range of [metrics](http://scikit-learn.org/stable/modules/classes.html#sklearn-metrics-metrics), we will see some of them in the following examples."
   ]
  },
  {
   "cell_type": "markdown",
   "metadata": {
    "deletable": true,
    "editable": true
   },
   "source": [
    "---\n",
    "<div id=\"style\"></div>\n",
    "### Package Check and Styling\n",
    "\n",
    "\n",
    "<p style=\"text-align: right; font-size: 10px;\"><a href=\"#top\">Go to top</a></p>\n"
   ]
  },
  {
   "cell_type": "code",
   "execution_count": 15,
   "metadata": {
    "collapsed": false,
    "deletable": true,
    "editable": true
   },
   "outputs": [
    {
     "name": "stdout",
     "output_type": "stream",
     "text": [
      "[Python version] \t3.5.6 (default, Nov 16 2018, 15:51:11) \n",
      "[GCC 4.8.5 20150623 (Red Hat 4.8.5-28)]\n",
      "\n",
      "[Packages versions]\n",
      "\n",
      "IPython             :\t5.0.0\n",
      "numpy               :\t1.13.3\n",
      "scipy               :\t1.0.0\n",
      "matplotlib          :\t2.1.0\n",
      "cvxopt              :\trefs/__gh__/pull/11/rebase\n",
      "pandas              :\t0.19.2\n",
      "seaborn has to be installed\n",
      "sklearn             :\t0.18.1\n",
      "tensorflow has to be installed\n"
     ]
    },
    {
     "data": {
      "text/html": [
       "<style>\n",
       "div.warn {    \n",
       "    background-color: #fcf2f2;\n",
       "    border-color: #dFb5b4;\n",
       "    border-left: 5px solid #dfb5b4;\n",
       "    padding: 0.5em;\n",
       "    }\n",
       "\n",
       "\n",
       "div.exo {    \n",
       "    background-color: #e6ffe6;\n",
       "    border-color: #006400;\n",
       "    border-left: 5px solid #006400;\n",
       "    padding: 0.5em;\n",
       "    }\n",
       "\n",
       "\n",
       "\n",
       "tt {    \n",
       "    background-color: #e7e7e7;\n",
       "    font-size: 13px;\n",
       "    }\n",
       " </style>\n",
       "\n",
       "\n",
       "\n"
      ],
      "text/plain": [
       "<IPython.core.display.HTML object>"
      ]
     },
     "execution_count": 15,
     "metadata": {},
     "output_type": "execute_result"
    }
   ],
   "source": [
    "import lib.notebook_setting as nbs\n",
    "\n",
    "packageList = ['IPython', 'numpy', 'scipy', 'matplotlib', 'cvxopt', 'pandas', 'seaborn', 'sklearn', 'tensorflow']\n",
    "nbs.packageCheck(packageList)\n",
    "\n",
    "nbs.cssStyling()"
   ]
  }
 ],
 "metadata": {
  "kernelspec": {
   "display_name": "Python 3",
   "language": "python",
   "name": "python3"
  },
  "language_info": {
   "codemirror_mode": {
    "name": "ipython",
    "version": 3
   },
   "file_extension": ".py",
   "mimetype": "text/x-python",
   "name": "python",
   "nbconvert_exporter": "python",
   "pygments_lexer": "ipython3",
   "version": "3.5.6"
  },
  "varInspector": {
   "cols": {
    "lenName": 16,
    "lenType": 16,
    "lenVar": 40
   },
   "kernels_config": {
    "python": {
     "delete_cmd_postfix": "",
     "delete_cmd_prefix": "del ",
     "library": "var_list.py",
     "varRefreshCmd": "print(var_dic_list())"
    },
    "r": {
     "delete_cmd_postfix": ") ",
     "delete_cmd_prefix": "rm(",
     "library": "var_list.r",
     "varRefreshCmd": "cat(var_dic_list()) "
    }
   },
   "position": {
    "height": "462px",
    "left": "1160px",
    "right": "47px",
    "top": "174px",
    "width": "553px"
   },
   "types_to_exclude": [
    "module",
    "function",
    "builtin_function_or_method",
    "instance",
    "_Feature"
   ],
   "window_display": false
  }
 },
 "nbformat": 4,
 "nbformat_minor": 1
}
