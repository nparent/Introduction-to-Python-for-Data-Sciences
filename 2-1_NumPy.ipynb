{
 "cells": [
  {
   "cell_type": "markdown",
   "metadata": {
    "deletable": true,
    "editable": true
   },
   "source": [
    "\n",
    "<table>\n",
    "<tr>\n",
    "<td width=15%><img src=\"./img/UGA.png\"></img></td>\n",
    "<td><center><h1>Introduction to Python for Data Sciences</h1></center></td>\n",
    "<td width=15%><a href=\"http://www.iutzeler.org\" style=\"font-size: 16px; font-weight: bold\">Franck Iutzeler</a><br/> Fall. 2018 </td>\n",
    "</tr>\n",
    "</table>\n"
   ]
  },
  {
   "cell_type": "markdown",
   "metadata": {
    "deletable": true,
    "editable": true
   },
   "source": [
    "<br/><br/><div id=\"top\"></div>\n",
    "\n",
    "<center><a style=\"font-size: 40pt; font-weight: bold\">Chap. 2 - Python for Scientific Computing </a></center>\n",
    "\n",
    "<br/>\n",
    "\n",
    "# ``1. NumPy``\n",
    "\n",
    "---"
   ]
  },
  {
   "cell_type": "markdown",
   "metadata": {
    "deletable": true,
    "editable": true
   },
   "source": [
    "<a href=\"#style\"><b>Package check and Styling</b></a><br/><br/><b>Outline</b><br/><br/>\n",
    "&nbsp;&nbsp;&nbsp; a) <a href=\"#libLib\"> Importing and Using Libraries </a><br/>&nbsp;&nbsp;&nbsp; b) <a href=\"#libNum\"> Numpy and Matplotlib </a><br/>&nbsp;&nbsp;&nbsp; c) <a href=\"#libOp\"> Operations on Matrices and vectors </a><br/>&nbsp;&nbsp;&nbsp; d) <a href=\"#libAlg\"> Linear Algebra </a><br/>&nbsp;&nbsp;&nbsp; e) <a href=\"#libExo\"> Exercises </a><br/>"
   ]
  },
  {
   "cell_type": "markdown",
   "metadata": {
    "deletable": true,
    "editable": true
   },
   "source": [
    "## <a id=\"libLib\"> a) Importing and Using Libraries </a> \n",
    "\n",
    "<p style=\"text-align: right; font-size: 10px;\"><a href=\"#top\">Go to top</a></p>\n",
    "\n",
    "\n",
    "### Packages\n",
    "\n",
    "Python has a large standard library, commonly cited as one of Python's greatest strengths, providing tools suited to many tasks. As of May, 2017, the official repository containing third-party software for Python, contains over 107,000 packages.\n",
    "\n",
    "A *package* is a collection of *modules* i.e. groups of function, classes, constants, types, etc.\n",
    "\n",
    "To use a module, you have to *import* it using the command <tt>import</tt>.\n"
   ]
  },
  {
   "cell_type": "code",
   "execution_count": 1,
   "metadata": {
    "collapsed": true,
    "deletable": true,
    "editable": true
   },
   "outputs": [],
   "source": [
    "import math"
   ]
  },
  {
   "cell_type": "markdown",
   "metadata": {
    "deletable": true,
    "editable": true
   },
   "source": [
    "You can now use it in the code by using the prefix <tt>package_name.</tt>"
   ]
  },
  {
   "cell_type": "code",
   "execution_count": 2,
   "metadata": {
    "collapsed": false,
    "deletable": true,
    "editable": true
   },
   "outputs": [
    {
     "name": "stdout",
     "output_type": "stream",
     "text": [
      "1.0\n"
     ]
    }
   ],
   "source": [
    "x = math.cos(2 * math.pi)\n",
    "\n",
    "print(x)"
   ]
  },
  {
   "cell_type": "markdown",
   "metadata": {
    "deletable": true,
    "editable": true
   },
   "source": [
    "To explore the function and other content of the library:\n",
    " * Use the web documentation (e.g. for the <tt>math</tt> library <a href=\"https://docs.python.org/2/library/math.html\">Doc for Python 2</a>  <a href=\"https://docs.python.org/3/library/math.html\">Doc for Python 3</a>)\n",
    " * Use the built-in <tt>help</tt>"
   ]
  },
  {
   "cell_type": "code",
   "execution_count": 3,
   "metadata": {
    "collapsed": false,
    "deletable": true,
    "editable": true
   },
   "outputs": [
    {
     "name": "stdout",
     "output_type": "stream",
     "text": [
      "Help on built-in module math:\n",
      "\n",
      "NAME\n",
      "    math\n",
      "\n",
      "DESCRIPTION\n",
      "    This module is always available.  It provides access to the\n",
      "    mathematical functions defined by the C standard.\n",
      "\n",
      "FUNCTIONS\n",
      "    acos(...)\n",
      "        acos(x)\n",
      "        \n",
      "        Return the arc cosine (measured in radians) of x.\n",
      "    \n",
      "    acosh(...)\n",
      "        acosh(x)\n",
      "        \n",
      "        Return the inverse hyperbolic cosine of x.\n",
      "    \n",
      "    asin(...)\n",
      "        asin(x)\n",
      "        \n",
      "        Return the arc sine (measured in radians) of x.\n",
      "    \n",
      "    asinh(...)\n",
      "        asinh(x)\n",
      "        \n",
      "        Return the inverse hyperbolic sine of x.\n",
      "    \n",
      "    atan(...)\n",
      "        atan(x)\n",
      "        \n",
      "        Return the arc tangent (measured in radians) of x.\n",
      "    \n",
      "    atan2(...)\n",
      "        atan2(y, x)\n",
      "        \n",
      "        Return the arc tangent (measured in radians) of y/x.\n",
      "        Unlike atan(y/x), the signs of both x and y are considered.\n",
      "    \n",
      "    atanh(...)\n",
      "        atanh(x)\n",
      "        \n",
      "        Return the inverse hyperbolic tangent of x.\n",
      "    \n",
      "    ceil(...)\n",
      "        ceil(x)\n",
      "        \n",
      "        Return the ceiling of x as an int.\n",
      "        This is the smallest integral value >= x.\n",
      "    \n",
      "    copysign(...)\n",
      "        copysign(x, y)\n",
      "        \n",
      "        Return a float with the magnitude (absolute value) of x but the sign \n",
      "        of y. On platforms that support signed zeros, copysign(1.0, -0.0) \n",
      "        returns -1.0.\n",
      "    \n",
      "    cos(...)\n",
      "        cos(x)\n",
      "        \n",
      "        Return the cosine of x (measured in radians).\n",
      "    \n",
      "    cosh(...)\n",
      "        cosh(x)\n",
      "        \n",
      "        Return the hyperbolic cosine of x.\n",
      "    \n",
      "    degrees(...)\n",
      "        degrees(x)\n",
      "        \n",
      "        Convert angle x from radians to degrees.\n",
      "    \n",
      "    erf(...)\n",
      "        erf(x)\n",
      "        \n",
      "        Error function at x.\n",
      "    \n",
      "    erfc(...)\n",
      "        erfc(x)\n",
      "        \n",
      "        Complementary error function at x.\n",
      "    \n",
      "    exp(...)\n",
      "        exp(x)\n",
      "        \n",
      "        Return e raised to the power of x.\n",
      "    \n",
      "    expm1(...)\n",
      "        expm1(x)\n",
      "        \n",
      "        Return exp(x)-1.\n",
      "        This function avoids the loss of precision involved in the direct evaluation of exp(x)-1 for small x.\n",
      "    \n",
      "    fabs(...)\n",
      "        fabs(x)\n",
      "        \n",
      "        Return the absolute value of the float x.\n",
      "    \n",
      "    factorial(...)\n",
      "        factorial(x) -> Integral\n",
      "        \n",
      "        Find x!. Raise a ValueError if x is negative or non-integral.\n",
      "    \n",
      "    floor(...)\n",
      "        floor(x)\n",
      "        \n",
      "        Return the floor of x as an int.\n",
      "        This is the largest integral value <= x.\n",
      "    \n",
      "    fmod(...)\n",
      "        fmod(x, y)\n",
      "        \n",
      "        Return fmod(x, y), according to platform C.  x % y may differ.\n",
      "    \n",
      "    frexp(...)\n",
      "        frexp(x)\n",
      "        \n",
      "        Return the mantissa and exponent of x, as pair (m, e).\n",
      "        m is a float and e is an int, such that x = m * 2.**e.\n",
      "        If x is 0, m and e are both 0.  Else 0.5 <= abs(m) < 1.0.\n",
      "    \n",
      "    fsum(...)\n",
      "        fsum(iterable)\n",
      "        \n",
      "        Return an accurate floating point sum of values in the iterable.\n",
      "        Assumes IEEE-754 floating point arithmetic.\n",
      "    \n",
      "    gamma(...)\n",
      "        gamma(x)\n",
      "        \n",
      "        Gamma function at x.\n",
      "    \n",
      "    hypot(...)\n",
      "        hypot(x, y)\n",
      "        \n",
      "        Return the Euclidean distance, sqrt(x*x + y*y).\n",
      "    \n",
      "    isfinite(...)\n",
      "        isfinite(x) -> bool\n",
      "        \n",
      "        Return True if x is neither an infinity nor a NaN, and False otherwise.\n",
      "    \n",
      "    isinf(...)\n",
      "        isinf(x) -> bool\n",
      "        \n",
      "        Return True if x is a positive or negative infinity, and False otherwise.\n",
      "    \n",
      "    isnan(...)\n",
      "        isnan(x) -> bool\n",
      "        \n",
      "        Return True if x is a NaN (not a number), and False otherwise.\n",
      "    \n",
      "    ldexp(...)\n",
      "        ldexp(x, i)\n",
      "        \n",
      "        Return x * (2**i).\n",
      "    \n",
      "    lgamma(...)\n",
      "        lgamma(x)\n",
      "        \n",
      "        Natural logarithm of absolute value of Gamma function at x.\n",
      "    \n",
      "    log(...)\n",
      "        log(x[, base])\n",
      "        \n",
      "        Return the logarithm of x to the given base.\n",
      "        If the base not specified, returns the natural logarithm (base e) of x.\n",
      "    \n",
      "    log10(...)\n",
      "        log10(x)\n",
      "        \n",
      "        Return the base 10 logarithm of x.\n",
      "    \n",
      "    log1p(...)\n",
      "        log1p(x)\n",
      "        \n",
      "        Return the natural logarithm of 1+x (base e).\n",
      "        The result is computed in a way which is accurate for x near zero.\n",
      "    \n",
      "    log2(...)\n",
      "        log2(x)\n",
      "        \n",
      "        Return the base 2 logarithm of x.\n",
      "    \n",
      "    modf(...)\n",
      "        modf(x)\n",
      "        \n",
      "        Return the fractional and integer parts of x.  Both results carry the sign\n",
      "        of x and are floats.\n",
      "    \n",
      "    pow(...)\n",
      "        pow(x, y)\n",
      "        \n",
      "        Return x**y (x to the power of y).\n",
      "    \n",
      "    radians(...)\n",
      "        radians(x)\n",
      "        \n",
      "        Convert angle x from degrees to radians.\n",
      "    \n",
      "    sin(...)\n",
      "        sin(x)\n",
      "        \n",
      "        Return the sine of x (measured in radians).\n",
      "    \n",
      "    sinh(...)\n",
      "        sinh(x)\n",
      "        \n",
      "        Return the hyperbolic sine of x.\n",
      "    \n",
      "    sqrt(...)\n",
      "        sqrt(x)\n",
      "        \n",
      "        Return the square root of x.\n",
      "    \n",
      "    tan(...)\n",
      "        tan(x)\n",
      "        \n",
      "        Return the tangent of x (measured in radians).\n",
      "    \n",
      "    tanh(...)\n",
      "        tanh(x)\n",
      "        \n",
      "        Return the hyperbolic tangent of x.\n",
      "    \n",
      "    trunc(...)\n",
      "        trunc(x:Real) -> Integral\n",
      "        \n",
      "        Truncates x to the nearest Integral toward 0. Uses the __trunc__ magic method.\n",
      "\n",
      "DATA\n",
      "    e = 2.718281828459045\n",
      "    pi = 3.141592653589793\n",
      "\n",
      "FILE\n",
      "    (built-in)\n",
      "\n",
      "\n"
     ]
    }
   ],
   "source": [
    "help(math)"
   ]
  },
  {
   "cell_type": "code",
   "execution_count": 4,
   "metadata": {
    "collapsed": false,
    "deletable": true,
    "editable": true
   },
   "outputs": [
    {
     "name": "stdout",
     "output_type": "stream",
     "text": [
      "Help on built-in function sqrt in module math:\n",
      "\n",
      "sqrt(...)\n",
      "    sqrt(x)\n",
      "    \n",
      "    Return the square root of x.\n",
      "\n"
     ]
    }
   ],
   "source": [
    "help(math.sqrt)"
   ]
  },
  {
   "cell_type": "markdown",
   "metadata": {
    "deletable": true,
    "editable": true
   },
   "source": [
    "Using the prefix <tt>package_name.</tt> can make the code obfuscated as it can get quite verbose (e.g. <tt>scipy.optimize.minimize</tt>) so Python provides simpler ways to import:\n",
    "* <tt>**import** package_name **as** nickname</tt> : the prefix to call is now <tt>nickname.</tt>"
   ]
  },
  {
   "cell_type": "code",
   "execution_count": 5,
   "metadata": {
    "collapsed": false,
    "deletable": true,
    "editable": true
   },
   "outputs": [
    {
     "name": "stdout",
     "output_type": "stream",
     "text": [
      "3.141592653589793\n"
     ]
    }
   ],
   "source": [
    "import math as m\n",
    "\n",
    "print(m.pi)"
   ]
  },
  {
   "cell_type": "markdown",
   "metadata": {
    "deletable": true,
    "editable": true
   },
   "source": [
    "* <tt>**from** package_name **import** function1,constant1</tt> : <tt>function1</tt> <tt>constant1</tt> can now be called directly. You can even import all contents with <tt>**from** package_name **import** \\*</tt> but this may be dangerous as names may conflict or override former ones, it is thus not advised except on user-generated modules."
   ]
  },
  {
   "cell_type": "code",
   "execution_count": 6,
   "metadata": {
    "collapsed": false,
    "deletable": true,
    "editable": true
   },
   "outputs": [
    {
     "name": "stdout",
     "output_type": "stream",
     "text": [
      "4.0\n"
     ]
    }
   ],
   "source": [
    "from math import e,log\n",
    "\n",
    "print(log(e**4))"
   ]
  },
  {
   "cell_type": "markdown",
   "metadata": {
    "deletable": true,
    "editable": true
   },
   "source": [
    "### Creating you own modules\n",
    "\n",
    "In order to reuse parts of your code, it is often efficient to write you own modules for often used functions. The *importation* of the module is the same as for other libraries to the difference that you have to give the (relative) path to the module.\n",
    "\n",
    "In our example, the module file is <tt>pyds.py</tt> in the <tt>./lib/</tt> folder (you may open it to see what it contains). Two solutions to give the (relative) path to the module:\n",
    "* add the folder <tt>./lib/</tt> to the folder list of python"
   ]
  },
  {
   "cell_type": "code",
   "execution_count": 7,
   "metadata": {
    "collapsed": false,
    "deletable": true,
    "editable": true
   },
   "outputs": [
    {
     "name": "stdout",
     "output_type": "stream",
     "text": [
      "Help on module pyds:\n",
      "\n",
      "NAME\n",
      "    pyds\n",
      "\n",
      "DESCRIPTION\n",
      "    ######################################\n",
      "    ### \n",
      "    ### the pyds module\n",
      "    ###\n",
      "    ######################################\n",
      "\n",
      "FUNCTIONS\n",
      "    printQuote()\n",
      "\n",
      "DATA\n",
      "    teacherName = 'Franck Iutzeler'\n",
      "    teacherWebsite = 'http://www.iutzeler.org'\n",
      "\n",
      "FILE\n",
      "    /workspace/Pro/Cours/2018-2019/Python/Factory/lib/pyds.py\n",
      "\n",
      "\n"
     ]
    }
   ],
   "source": [
    "import sys\n",
    "sys.path.append( \"./lib/\" )\n",
    "import pyds as pyds1\n",
    "\n",
    "help(pyds1)"
   ]
  },
  {
   "cell_type": "markdown",
   "metadata": {
    "deletable": true,
    "editable": true
   },
   "source": [
    "* Use the <tt>lib</tt> folder name as a package proxy (requires the presence of a - potentially void - file named <tt>\\__init\\__.py</tt> in the folder)"
   ]
  },
  {
   "cell_type": "code",
   "execution_count": 8,
   "metadata": {
    "collapsed": false,
    "deletable": true,
    "editable": true
   },
   "outputs": [
    {
     "name": "stdout",
     "output_type": "stream",
     "text": [
      "The joy of coding Python should be in seeing short, concise, readable classes that express a lot of action in a small amount of clear code -- not in reams of trivial code that bores the reader to death.\n",
      "\n",
      " -- Guido van Rossum \n"
     ]
    }
   ],
   "source": [
    "import lib.pyds as pyds2\n",
    "\n",
    "pyds2.printQuote()"
   ]
  },
  {
   "cell_type": "markdown",
   "metadata": {
    "deletable": true,
    "editable": true
   },
   "source": [
    "## <a id=\"libNum\"> b) Numpy and Matplotlib </a> \n",
    "\n",
    "<p style=\"text-align: right; font-size: 10px;\"><a href=\"#top\">Go to top</a></p>\n",
    "\n",
    "\n",
    "**Numpy** is a numerical calculus and algebra package that is widely used, notably providing the *array* (vector/matrix format) type used in almost all numerical projects. <a href=\"https://docs.scipy.org/doc/numpy-dev/reference/\">Documentation</a>\n",
    "\n",
    "\n",
    "**Matplotlib** is a module for generating 2D and 3D graphics. <a href=\"https://matplotlib.org/api/pyplot_summary.html\">Documentation</a>\n",
    "\n",
    "\n",
    "It is common to import them with the respective nicknames **np** and **plt** (for <tt>matplotlib.pyplot</tt>). In Notebooks, it is common to add the *Jupyter magic* command <tt>%matplotlib inline</tt> to display the plots inside the notebook.\n"
   ]
  },
  {
   "cell_type": "code",
   "execution_count": 9,
   "metadata": {
    "collapsed": true,
    "deletable": true,
    "editable": true
   },
   "outputs": [],
   "source": [
    "import numpy as np\n",
    "import matplotlib.pyplot as plt\n",
    "\n",
    "%matplotlib inline"
   ]
  },
  {
   "cell_type": "markdown",
   "metadata": {
    "deletable": true,
    "editable": true
   },
   "source": [
    "### Numpy *arrays*\n",
    "\n",
    "In Numpy, the type *array* is used for vector, matrices, tensors (a matrix type also exists but is more seldomly used).\n",
    "\n",
    "Numpy arrays can be defined either directly from a list or outputted by a function.\n",
    "\n",
    "\n",
    "#### One-dimensional arrays"
   ]
  },
  {
   "cell_type": "code",
   "execution_count": 10,
   "metadata": {
    "collapsed": false,
    "deletable": true,
    "editable": true
   },
   "outputs": [
    {
     "name": "stdout",
     "output_type": "stream",
     "text": [
      "[  1.    2.5   5.   10. ] <class 'numpy.ndarray'>\n"
     ]
    }
   ],
   "source": [
    "x = np.array([1, 2.5, 5, 10])\n",
    "print(x,type(x))"
   ]
  },
  {
   "cell_type": "code",
   "execution_count": 11,
   "metadata": {
    "collapsed": false,
    "deletable": true,
    "editable": true
   },
   "outputs": [
    {
     "name": "stdout",
     "output_type": "stream",
     "text": [
      "[ 0.61984909  0.61414974  0.52366044  0.91077306] <class 'numpy.ndarray'>\n"
     ]
    }
   ],
   "source": [
    "y = np.random.rand(4)\n",
    "print(y,type(y))"
   ]
  },
  {
   "cell_type": "markdown",
   "metadata": {
    "deletable": true,
    "editable": true
   },
   "source": [
    "#### Plotting\n",
    "\n",
    "Visualizing the data is quite simple with pyplot:\n",
    "* Initialize a figure with <tt>plt.figure()</tt>\n",
    "* Plot something with ... <tt>plt.<a href=\"https://matplotlib.org/api/pyplot_api.html#matplotlib.pyplot.plot\">plot</a></tt>\n",
    "* Fix labels, titles, axes\n",
    "* Eventually save the result\n",
    "* Show the figure with <tt>plt.show()</tt>"
   ]
  },
  {
   "cell_type": "code",
   "execution_count": 12,
   "metadata": {
    "collapsed": false,
    "deletable": true,
    "editable": true
   },
   "outputs": [
    {
     "data": {
      "image/png": "[encoded data removed]",
      "text/plain": [
       "<matplotlib.figure.Figure at 0x7f70ab102b70>"
      ]
     },
     "metadata": {},
     "output_type": "display_data"
    }
   ],
   "source": [
    "plt.figure()\n",
    "plt.plot(x,y, 'bd--', label='y(x)')\n",
    "plt.legend(loc='lower right')\n",
    "plt.xlabel('x')\n",
    "plt.ylabel('y')\n",
    "plt.title('Sample Figure')\n",
    "plt.xlim([0, 10])\n",
    "plt.ylim([0, 1])\n",
    "plt.savefig('img/sample.png')\n",
    "plt.show()"
   ]
  },
  {
   "cell_type": "markdown",
   "metadata": {
    "deletable": true,
    "editable": true
   },
   "source": [
    "#### Matrices\n",
    "\n",
    "The same process can be used to define matrices."
   ]
  },
  {
   "cell_type": "code",
   "execution_count": 13,
   "metadata": {
    "collapsed": false,
    "deletable": true,
    "editable": true
   },
   "outputs": [
    {
     "name": "stdout",
     "output_type": "stream",
     "text": [
      "[[  0.25   6.2    1.    10.  ]\n",
      " [ 12.     6.2    6.    -5.3 ]] <class 'numpy.ndarray'>\n"
     ]
    }
   ],
   "source": [
    "M = np.array([[0.25, 6.2, 1, 10],[12, 6.2, 6, -5.3]])\n",
    "print(M,type(M))"
   ]
  },
  {
   "cell_type": "markdown",
   "metadata": {
    "deletable": true,
    "editable": true
   },
   "source": [
    "<div class=\"warn\">**Warning:** the vector and matrix share the same type so there are some caveats! </div>\n",
    "\n",
    "* The <tt>size</tt> of an array is the number of elements while the <tt>shape</tt> gives how they are arranged."
   ]
  },
  {
   "cell_type": "code",
   "execution_count": 14,
   "metadata": {
    "collapsed": false,
    "deletable": true,
    "editable": true
   },
   "outputs": [
    {
     "name": "stdout",
     "output_type": "stream",
     "text": [
      "4\n",
      "8\n"
     ]
    }
   ],
   "source": [
    "print(x.size)  # or equivalently np.size(x)\n",
    "print(M.size)"
   ]
  },
  {
   "cell_type": "code",
   "execution_count": 15,
   "metadata": {
    "collapsed": false,
    "deletable": true,
    "editable": true
   },
   "outputs": [
    {
     "name": "stdout",
     "output_type": "stream",
     "text": [
      "(4,)\n",
      "(2, 4)\n"
     ]
    }
   ],
   "source": [
    "print(x.shape)  # or equivalently np.shape(x)\n",
    "print(M.shape)"
   ]
  },
  {
   "cell_type": "markdown",
   "metadata": {
    "deletable": true,
    "editable": true
   },
   "source": [
    "* The element access, assignment, type, copy is common and similar to the list type."
   ]
  },
  {
   "cell_type": "code",
   "execution_count": 16,
   "metadata": {
    "collapsed": false,
    "deletable": true,
    "editable": true
   },
   "outputs": [
    {
     "name": "stdout",
     "output_type": "stream",
     "text": [
      "[  1.    2.5   5.   10. ]\n",
      "5.0 10.0\n",
      "[ 10.    5.    2.5   1. ]\n",
      "[  6.1554   2.5      5.      10.    ]\n"
     ]
    }
   ],
   "source": [
    "print(x)\n",
    "print(x[2],x[-1])\n",
    "print(x[::-1])\n",
    "x[0] = 6.1554\n",
    "print(x)"
   ]
  },
  {
   "cell_type": "code",
   "execution_count": 17,
   "metadata": {
    "collapsed": false,
    "deletable": true,
    "editable": true
   },
   "outputs": [
    {
     "name": "stdout",
     "output_type": "stream",
     "text": [
      "[  6.1554   2.5      5.      10.    ]\n",
      "[  1.    2.5   5.   10. ]\n",
      "[  6.1554   2.5      5.      10.    ]\n"
     ]
    }
   ],
   "source": [
    "v = x\n",
    "w = np.copy(x) \n",
    "print(v)\n",
    "x[0]=1\n",
    "print(v)\n",
    "print(w)"
   ]
  },
  {
   "cell_type": "code",
   "execution_count": 18,
   "metadata": {
    "collapsed": false,
    "deletable": true,
    "editable": true
   },
   "outputs": [
    {
     "name": "stdout",
     "output_type": "stream",
     "text": [
      "[[  0.25   6.2    1.    10.  ]\n",
      " [ 12.     6.2    6.    -5.3 ]]\n",
      "6.0 <class 'numpy.float64'>\n",
      "[ 12.    6.2   6.   -5.3] <class 'numpy.ndarray'> (4,)\n",
      "[ 12.    6.2   6.   -5.3]\n",
      "[  0.25  12.  ]\n"
     ]
    }
   ],
   "source": [
    "print(M)\n",
    "print(M[1,2],type(M[1,2]))\n",
    "print(M[1,:],type(M[1,:]),M[1,:].shape)\n",
    "print(M[1])\n",
    "print(M[:,0])"
   ]
  },
  {
   "cell_type": "markdown",
   "metadata": {
    "deletable": true,
    "editable": true
   },
   "source": [
    "Advanced access to content and modification is possible"
   ]
  },
  {
   "cell_type": "code",
   "execution_count": 19,
   "metadata": {
    "collapsed": false,
    "deletable": true,
    "editable": true
   },
   "outputs": [
    {
     "name": "stdout",
     "output_type": "stream",
     "text": [
      "[  1.   5.  10.]\n"
     ]
    }
   ],
   "source": [
    "x = np.array([1, 2.5, 5, 10])\n",
    "ind = [0,2,3]\n",
    "print(x[ind])"
   ]
  },
  {
   "cell_type": "markdown",
   "metadata": {
    "deletable": true,
    "editable": true
   },
   "source": [
    "#### Advanced array properties\n",
    "\n",
    "\n",
    "An array has a *type* that can be accessed with <tt>dtype</tt>, it the combination of a base type (<tt>int, float, complex, bool, object,</tt> etc.) and a precision in bits (<tt>int64, int16, float128, complex128</tt>)"
   ]
  },
  {
   "cell_type": "code",
   "execution_count": 20,
   "metadata": {
    "collapsed": false,
    "deletable": true,
    "editable": true
   },
   "outputs": [
    {
     "name": "stdout",
     "output_type": "stream",
     "text": [
      "float64\n"
     ]
    }
   ],
   "source": [
    "print(x.dtype)"
   ]
  },
  {
   "cell_type": "markdown",
   "metadata": {
    "deletable": true,
    "editable": true
   },
   "source": [
    "Array only accept they casting to their own type. However, the type of an array can be changed."
   ]
  },
  {
   "cell_type": "code",
   "execution_count": 21,
   "metadata": {
    "collapsed": false,
    "deletable": true,
    "editable": true
   },
   "outputs": [
    {
     "name": "stdout",
     "output_type": "stream",
     "text": [
      "can't convert complex to float\n"
     ]
    }
   ],
   "source": [
    "try:\n",
    "    x[0] = 1 + 2.0j\n",
    "except Exception as e:\n",
    "    print(e)"
   ]
  },
  {
   "cell_type": "code",
   "execution_count": 22,
   "metadata": {
    "collapsed": false,
    "deletable": true,
    "editable": true
   },
   "outputs": [
    {
     "name": "stdout",
     "output_type": "stream",
     "text": [
      "[  1.0+2.j   2.5+0.j   5.0+0.j  10.0+0.j] <class 'numpy.ndarray'> complex128\n"
     ]
    }
   ],
   "source": [
    "y = x.astype(complex)\n",
    "y[0] = 1 + 2.0j\n",
    "print(y,type(y),y.dtype)"
   ]
  },
  {
   "cell_type": "markdown",
   "metadata": {
    "deletable": true,
    "editable": true
   },
   "source": [
    "### Numpy array generation\n",
    "\n",
    "See the corresponding <a href=\"https://docs.scipy.org/doc/numpy-dev/reference/routines.array-creation.html\">documentation</a>."
   ]
  },
  {
   "cell_type": "markdown",
   "metadata": {
    "deletable": true,
    "editable": true
   },
   "source": [
    "#### Number sequences\n",
    "\n",
    "<br/>\n",
    "\n",
    "<tt>**arange**</tt> returns an array of evenly spaced number from <tt>start</tt> to (at most) <tt>stop</tt> with a fixed jump <tt>step</tt> <br/>\n",
    "\n",
    "<tt>**linspace**</tt> returns an array of evenly spaced number from <tt>start</tt> to (exactly) <tt>stop</tt> with a fixed number of points <tt>num</tt>"
   ]
  },
  {
   "cell_type": "code",
   "execution_count": 23,
   "metadata": {
    "collapsed": false,
    "deletable": true,
    "editable": true
   },
   "outputs": [
    {
     "name": "stdout",
     "output_type": "stream",
     "text": [
      "[ 0.   1.5  3.   4.5  6.   7.5  9. ] <class 'numpy.ndarray'>\n"
     ]
    }
   ],
   "source": [
    "x = np.arange(0, 10, 1.5)\n",
    "print(x,type(x))"
   ]
  },
  {
   "cell_type": "code",
   "execution_count": 24,
   "metadata": {
    "collapsed": false,
    "deletable": true,
    "editable": true
   },
   "outputs": [
    {
     "name": "stdout",
     "output_type": "stream",
     "text": [
      "[  0.           0.41666667   0.83333333   1.25         1.66666667\n",
      "   2.08333333   2.5          2.91666667   3.33333333   3.75         4.16666667\n",
      "   4.58333333   5.           5.41666667   5.83333333   6.25         6.66666667\n",
      "   7.08333333   7.5          7.91666667   8.33333333   8.75         9.16666667\n",
      "   9.58333333  10.        ] <class 'numpy.ndarray'>\n"
     ]
    }
   ],
   "source": [
    "y = np.linspace(0, 10, 25)\n",
    "print(y,type(y))"
   ]
  },
  {
   "cell_type": "markdown",
   "metadata": {
    "deletable": true,
    "editable": true
   },
   "source": [
    "#### Zeros and Ones\n",
    "\n",
    "<br/>\n",
    "\n",
    "<tt>**zeros**</tt> returns an array (of floats) of zeros  of the precised ** *shape* ** <br/>\n",
    "<tt>**ones**</tt>  returns an array (of floats) of ones  of the precised ** *shape* ** \n",
    "<tt>**eye**</tt>  returns a square 2D-array (of floats) with ones on the diagonal and zeros elsewhere ** *dimension* ** "
   ]
  },
  {
   "cell_type": "code",
   "execution_count": 25,
   "metadata": {
    "collapsed": false,
    "deletable": true,
    "editable": true
   },
   "outputs": [
    {
     "name": "stdout",
     "output_type": "stream",
     "text": [
      "[ 0.  0.  0.] (3,) <class 'numpy.ndarray'> float64\n",
      "[ 0.  0.  0.] (3,) <class 'numpy.ndarray'> float64\n"
     ]
    }
   ],
   "source": [
    "x = np.zeros(3)\n",
    "print(x,x.shape,type(x),x.dtype)\n",
    "\n",
    "x = np.zeros((3,))\n",
    "print(x,x.shape,type(x),x.dtype)"
   ]
  },
  {
   "cell_type": "code",
   "execution_count": 26,
   "metadata": {
    "collapsed": false,
    "deletable": true,
    "editable": true
   },
   "outputs": [
    {
     "name": "stdout",
     "output_type": "stream",
     "text": [
      "data type not understood\n",
      "[ 0.  0.  0.] (3,) <class 'numpy.ndarray'> float64\n"
     ]
    }
   ],
   "source": [
    "try:\n",
    "    x = np.zeros(3,3) # This causes an error as 3,3 is not a shape, it is (3,3) -> double parentheses\n",
    "except Exception as error:\n",
    "    print(error)\n",
    "\n",
    "print(x,x.shape,type(x),x.dtype)"
   ]
  },
  {
   "cell_type": "code",
   "execution_count": 27,
   "metadata": {
    "collapsed": false,
    "deletable": true,
    "editable": true
   },
   "outputs": [
    {
     "name": "stdout",
     "output_type": "stream",
     "text": [
      "[[ 0.  0.  0.]\n",
      " [ 0.  0.  0.]\n",
      " [ 0.  0.  0.]] (3, 3) <class 'numpy.ndarray'> float64\n"
     ]
    }
   ],
   "source": [
    "x = np.zeros((3,3))\n",
    "print(x,x.shape,type(x),x.dtype)"
   ]
  },
  {
   "cell_type": "code",
   "execution_count": 28,
   "metadata": {
    "collapsed": false,
    "deletable": true,
    "editable": true
   },
   "outputs": [
    {
     "name": "stdout",
     "output_type": "stream",
     "text": [
      "[[ 1.  0.  0.]\n",
      " [ 0.  1.  0.]\n",
      " [ 0.  0.  1.]] (3, 3) <class 'numpy.ndarray'> float64\n"
     ]
    }
   ],
   "source": [
    "M = np.eye(3)\n",
    "print(M,M.shape,type(M),M.dtype)"
   ]
  },
  {
   "cell_type": "markdown",
   "metadata": {
    "deletable": true,
    "editable": true
   },
   "source": [
    "#### Random data\n",
    "\n",
    "\n",
    "Random arrays can be generated by Numpy's <a href=\"https://docs.scipy.org/doc/numpy-dev/reference/routines.random.html\"><tt>random</tt></a> module.\n",
    "\n",
    "\n",
    "<tt>**rand**</tt> returns an array (of floats) of uniformly distributed numbers in [0,1)  of the precised ** *dimensions* ** <br/>\n",
    "<tt>**randn**</tt>  returns an array (of floats) of numbers from the normal distribution of the precised ** *dimensions* ** <br/>\n",
    "<tt>**randint**</tt>  returns an array (of floats) of integers from the discrete uniform distribution  <br/>"
   ]
  },
  {
   "cell_type": "code",
   "execution_count": 29,
   "metadata": {
    "collapsed": false,
    "deletable": true,
    "editable": true
   },
   "outputs": [
    {
     "data": {
      "text/plain": [
       "array([ 0.91200941,  0.41933776,  0.87411083,  0.67564683,  0.88219004])"
      ]
     },
     "execution_count": 29,
     "metadata": {},
     "output_type": "execute_result"
    }
   ],
   "source": [
    "np.random.rand(5) "
   ]
  },
  {
   "cell_type": "code",
   "execution_count": 30,
   "metadata": {
    "collapsed": false,
    "deletable": true,
    "editable": true
   },
   "outputs": [
    {
     "data": {
      "text/plain": [
       "array([[ 1.22951068,  0.7892105 ],\n",
       "       [-1.42239273,  0.21920703],\n",
       "       [ 0.51965297, -0.28082873],\n",
       "       [ 0.95675861, -0.41684466],\n",
       "       [ 0.8726305 ,  0.09333448]])"
      ]
     },
     "execution_count": 30,
     "metadata": {},
     "output_type": "execute_result"
    }
   ],
   "source": [
    "np.random.randn(5,2)"
   ]
  },
  {
   "cell_type": "code",
   "execution_count": 31,
   "metadata": {
    "collapsed": false,
    "deletable": true,
    "editable": true
   },
   "outputs": [
    {
     "data": {
      "text/plain": [
       "array([66, 45, 97, 37, 37, 68, 18, 47, 31, 69])"
      ]
     },
     "execution_count": 31,
     "metadata": {},
     "output_type": "execute_result"
    }
   ],
   "source": [
    "np.random.randint(0,100,size=(10,))"
   ]
  },
  {
   "cell_type": "code",
   "execution_count": 32,
   "metadata": {
    "collapsed": false,
    "deletable": true,
    "editable": true
   },
   "outputs": [
    {
     "data": {
      "image/png": "[encoded data removed]",
      "text/plain": [
       "<matplotlib.figure.Figure at 0x7f70aac09cf8>"
      ]
     },
     "metadata": {},
     "output_type": "display_data"
    }
   ],
   "source": [
    "a = np.random.randn(10000)\n",
    "plt.figure()\n",
    "plt.hist(a,40) # histogram of a with 40 bins\n",
    "plt.show()"
   ]
  },
  {
   "cell_type": "markdown",
   "metadata": {
    "deletable": true,
    "editable": true
   },
   "source": [
    "## <a id=\"libOp\"> c) Operations on Matrices and vectors </a> \n",
    "\n",
    "<p style=\"text-align: right; font-size: 10px;\"><a href=\"#top\">Go to top</a></p>\n",
    "\n"
   ]
  },
  {
   "cell_type": "code",
   "execution_count": 33,
   "metadata": {
    "collapsed": false,
    "deletable": true,
    "editable": true
   },
   "outputs": [
    {
     "name": "stdout",
     "output_type": "stream",
     "text": [
      "[0 1 2 3 4]\n"
     ]
    }
   ],
   "source": [
    "v = np.arange(0, 5)\n",
    "print(v)"
   ]
  },
  {
   "cell_type": "code",
   "execution_count": 34,
   "metadata": {
    "collapsed": false,
    "deletable": true,
    "editable": true
   },
   "outputs": [
    {
     "data": {
      "text/plain": [
       "array([0, 2, 4, 6, 8])"
      ]
     },
     "execution_count": 34,
     "metadata": {},
     "output_type": "execute_result"
    }
   ],
   "source": [
    "v * 2"
   ]
  },
  {
   "cell_type": "code",
   "execution_count": 35,
   "metadata": {
    "collapsed": false,
    "deletable": true,
    "editable": true
   },
   "outputs": [
    {
     "data": {
      "text/plain": [
       "array([ 2.5,  3.5,  4.5,  5.5,  6.5])"
      ]
     },
     "execution_count": 35,
     "metadata": {},
     "output_type": "execute_result"
    }
   ],
   "source": [
    "v + 2.5"
   ]
  },
  {
   "cell_type": "code",
   "execution_count": 36,
   "metadata": {
    "collapsed": false,
    "deletable": true,
    "editable": true
   },
   "outputs": [
    {
     "name": "stdout",
     "output_type": "stream",
     "text": [
      "[ 0  1  4  9 16] [ 0.          1.          1.41421356  1.73205081  2.        ]\n"
     ]
    }
   ],
   "source": [
    "square = v**2\n",
    "root = np.sqrt(v)\n",
    "print(square,root)"
   ]
  },
  {
   "cell_type": "code",
   "execution_count": 37,
   "metadata": {
    "collapsed": false,
    "deletable": true,
    "editable": true
   },
   "outputs": [
    {
     "data": {
      "image/png": "[encoded data removed]",
      "text/plain": [
       "<matplotlib.figure.Figure at 0x7f70aac28f98>"
      ]
     },
     "metadata": {},
     "output_type": "display_data"
    }
   ],
   "source": [
    "plt.figure()\n",
    "plt.subplot(1,2,1)\n",
    "plt.plot(square,'g--', label='$y = x^2$')\n",
    "plt.legend(loc=0)\n",
    "plt.subplot(1,2,2)\n",
    "plt.plot(root, 'r*-', label='$y = \\sqrt{x}$')\n",
    "plt.legend(loc=2)\n",
    "plt.show()"
   ]
  },
  {
   "cell_type": "code",
   "execution_count": 38,
   "metadata": {
    "collapsed": false,
    "deletable": true,
    "editable": true
   },
   "outputs": [
    {
     "name": "stdout",
     "output_type": "stream",
     "text": [
      "[[ 0  1  2  3  4]\n",
      " [10 11 12 13 14]\n",
      " [20 21 22 23 24]\n",
      " [30 31 32 33 34]]\n"
     ]
    }
   ],
   "source": [
    "A = np.array([[n+m*10 for n in range(5)] for m in range(4)])\n",
    "print(A)"
   ]
  },
  {
   "cell_type": "code",
   "execution_count": 39,
   "metadata": {
    "collapsed": false,
    "deletable": true,
    "editable": true
   },
   "outputs": [
    {
     "data": {
      "text/plain": [
       "array([[ 0,  2,  4,  6,  8],\n",
       "       [20, 22, 24, 26, 28],\n",
       "       [40, 42, 44, 46, 48],\n",
       "       [60, 62, 64, 66, 68]])"
      ]
     },
     "execution_count": 39,
     "metadata": {},
     "output_type": "execute_result"
    }
   ],
   "source": [
    "A*2"
   ]
  },
  {
   "cell_type": "code",
   "execution_count": 40,
   "metadata": {
    "collapsed": false,
    "deletable": true,
    "editable": true
   },
   "outputs": [
    {
     "data": {
      "text/plain": [
       "array([[  2.5,   3.5,   4.5,   5.5,   6.5],\n",
       "       [ 12.5,  13.5,  14.5,  15.5,  16.5],\n",
       "       [ 22.5,  23.5,  24.5,  25.5,  26.5],\n",
       "       [ 32.5,  33.5,  34.5,  35.5,  36.5]])"
      ]
     },
     "execution_count": 40,
     "metadata": {},
     "output_type": "execute_result"
    }
   ],
   "source": [
    "A+2.5"
   ]
  },
  {
   "cell_type": "markdown",
   "metadata": {
    "deletable": true,
    "editable": true
   },
   "source": [
    "Matrices can be visualized as images."
   ]
  },
  {
   "cell_type": "code",
   "execution_count": 41,
   "metadata": {
    "collapsed": false,
    "deletable": true,
    "editable": true
   },
   "outputs": [
    {
     "name": "stderr",
     "output_type": "stream",
     "text": [
      "/usr/lib/python3/dist-packages/matplotlib/collections.py:549: FutureWarning: elementwise comparison failed; returning scalar instead, but in the future will perform elementwise comparison\n",
      "  if self._edgecolors == 'face':\n"
     ]
    },
    {
     "data": {
      "image/png": "[encoded data removed]",
      "text/plain": [
       "<matplotlib.figure.Figure at 0x7f70aab77be0>"
      ]
     },
     "metadata": {},
     "output_type": "display_data"
    }
   ],
   "source": [
    "C = np.random.randn(100,100)\n",
    "plt.figure()\n",
    "plt.imshow(C)\n",
    "plt.colorbar()\n",
    "plt.show()"
   ]
  },
  {
   "cell_type": "markdown",
   "metadata": {
    "deletable": true,
    "editable": true
   },
   "source": [
    "### Matrix and vector operations\n",
    "\n",
    "<br/>\n",
    "\n",
    "<div class=\"warn\">**Warning:** Operation symbols <tt>+   -   \\*  /</tt> correspond to *elementwise* operations! To perform, matrix/vector multiplication, dedicated function must be used. </div>\n",
    "\n",
    "#### Elementwise operations"
   ]
  },
  {
   "cell_type": "code",
   "execution_count": 42,
   "metadata": {
    "collapsed": false,
    "deletable": true,
    "editable": true
   },
   "outputs": [
    {
     "name": "stdout",
     "output_type": "stream",
     "text": [
      "[[ 0  1  2  3  4]\n",
      " [10 11 12 13 14]\n",
      " [20 21 22 23 24]\n",
      " [30 31 32 33 34]] [-1.48069106 -0.44341955  1.16428664  1.6038041   1.19890407]\n"
     ]
    }
   ],
   "source": [
    "A = np.array([[n+m*10 for n in range(5)] for m in range(4)])\n",
    "v = np.random.randn(5)\n",
    "print(A,v)"
   ]
  },
  {
   "cell_type": "code",
   "execution_count": 43,
   "metadata": {
    "collapsed": false,
    "deletable": true,
    "editable": true
   },
   "outputs": [
    {
     "data": {
      "text/plain": [
       "array([[   0,    1,    4,    9,   16],\n",
       "       [ 100,  121,  144,  169,  196],\n",
       "       [ 400,  441,  484,  529,  576],\n",
       "       [ 900,  961, 1024, 1089, 1156]])"
      ]
     },
     "execution_count": 43,
     "metadata": {},
     "output_type": "execute_result"
    }
   ],
   "source": [
    "A*A"
   ]
  },
  {
   "cell_type": "code",
   "execution_count": 44,
   "metadata": {
    "collapsed": false,
    "deletable": true,
    "editable": true
   },
   "outputs": [
    {
     "data": {
      "text/plain": [
       "array([ 2.192446  ,  0.19662089,  1.35556338,  2.57218758,  1.43737096])"
      ]
     },
     "execution_count": 44,
     "metadata": {},
     "output_type": "execute_result"
    }
   ],
   "source": [
    "v*v"
   ]
  },
  {
   "cell_type": "code",
   "execution_count": 45,
   "metadata": {
    "collapsed": false,
    "deletable": true,
    "editable": true
   },
   "outputs": [
    {
     "data": {
      "text/plain": [
       "array([[ -0.        ,  -0.44341955,   2.32857328,   4.81141229,\n",
       "          4.79561626],\n",
       "       [-14.80691056,  -4.877615  ,  13.97143969,  20.84945324,\n",
       "         16.78465692],\n",
       "       [-29.61382113,  -9.31181046,  25.61430609,  36.8874942 ,\n",
       "         28.77369757],\n",
       "       [-44.42073169, -13.74600592,  37.2571725 ,  52.92553515,\n",
       "         40.76273823]])"
      ]
     },
     "execution_count": 45,
     "metadata": {},
     "output_type": "execute_result"
    }
   ],
   "source": [
    "A*v"
   ]
  },
  {
   "cell_type": "markdown",
   "metadata": {
    "deletable": true,
    "editable": true
   },
   "source": [
    "#### Transposition\n",
    "\n",
    "It can be useful to transpose, it is simply done by suffixing <tt>.T</tt> (or equivalently using the function <tt>np.transpose</tt>). Similarly <tt>.H</tt> is the Hermitian conjugate  <tt>.imag</tt>  <tt>.real</tt> the real and imaginary parts <tt>.abs</tt> the modulus (their *full* versions are respectively <tt>np.conjugate</tt> <tt>np.imag</tt> <tt>np.real</tt> <tt>np.abs</tt>)"
   ]
  },
  {
   "cell_type": "code",
   "execution_count": 46,
   "metadata": {
    "collapsed": false,
    "deletable": true,
    "editable": true
   },
   "outputs": [
    {
     "name": "stdout",
     "output_type": "stream",
     "text": [
      "[[ 0  1  2  3  4]\n",
      " [10 11 12 13 14]\n",
      " [20 21 22 23 24]\n",
      " [30 31 32 33 34]] (4, 5)\n",
      "[[ 0 10 20 30]\n",
      " [ 1 11 21 31]\n",
      " [ 2 12 22 32]\n",
      " [ 3 13 23 33]\n",
      " [ 4 14 24 34]] (5, 4)\n"
     ]
    }
   ],
   "source": [
    "print(A,A.shape)\n",
    "print(A.T,A.T.shape)"
   ]
  },
  {
   "cell_type": "markdown",
   "metadata": {
    "deletable": true,
    "editable": true
   },
   "source": [
    "#### Matrix/vector operations\n",
    "\n",
    "$y=Av$ can be obtained by <tt>y = A.dot(v)</tt> (or equivalently <tt>y = np.dot(A,v)</tt>). This methods works for array with *compatible shape* (matrix-matrix, matrix-vector, vector-matrix, vector-vector, etc).\n"
   ]
  },
  {
   "cell_type": "code",
   "execution_count": 47,
   "metadata": {
    "collapsed": false,
    "deletable": true,
    "editable": true
   },
   "outputs": [
    {
     "name": "stdout",
     "output_type": "stream",
     "text": [
      "[[ 0  1  2  3  4]\n",
      " [10 11 12 13 14]\n",
      " [20 21 22 23 24]\n",
      " [30 31 32 33 34]] (4, 5) [-1.48069106 -0.44341955  1.16428664  1.6038041   1.19890407] (5,)\n",
      "[ 11.49218228  31.92102428  52.34986627  72.77870826] <class 'numpy.ndarray'> (4,)\n"
     ]
    }
   ],
   "source": [
    "y = np.dot(A,v)\n",
    "print(A,A.shape,v,v.shape)\n",
    "print(y,type(y),y.shape)"
   ]
  },
  {
   "cell_type": "markdown",
   "metadata": {
    "deletable": true,
    "editable": true
   },
   "source": [
    "Example of vector-vector multiplication i.e. a scalar product"
   ]
  },
  {
   "cell_type": "code",
   "execution_count": 48,
   "metadata": {
    "collapsed": false,
    "deletable": true,
    "editable": true
   },
   "outputs": [
    {
     "name": "stdout",
     "output_type": "stream",
     "text": [
      "[-1.48069106 -0.44341955  1.16428664  1.6038041   1.19890407] 7.7541888144 <class 'numpy.float64'>\n"
     ]
    }
   ],
   "source": [
    "s = v.dot(v)\n",
    "print(v, s, type(s))"
   ]
  },
  {
   "cell_type": "markdown",
   "metadata": {
    "deletable": true,
    "editable": true
   },
   "source": [
    "Example of non-compatible shapes"
   ]
  },
  {
   "cell_type": "code",
   "execution_count": 49,
   "metadata": {
    "collapsed": false,
    "deletable": true,
    "editable": true
   },
   "outputs": [
    {
     "name": "stdout",
     "output_type": "stream",
     "text": [
      "shapes (4,5) and (4,5) not aligned: 5 (dim 1) != 4 (dim 0)\n"
     ]
    }
   ],
   "source": [
    "try:\n",
    "    A2 = np.dot(A,A)\n",
    "except Exception as error:\n",
    "    print(error)"
   ]
  },
  {
   "cell_type": "code",
   "execution_count": 50,
   "metadata": {
    "collapsed": false,
    "deletable": true,
    "editable": true
   },
   "outputs": [
    {
     "name": "stdout",
     "output_type": "stream",
     "text": [
      "[[  30  130  230  330]\n",
      " [ 130  730 1330 1930]\n",
      " [ 230 1330 2430 3530]\n",
      " [ 330 1930 3530 5130]] (4, 4)\n"
     ]
    }
   ],
   "source": [
    "A3 = np.dot(A,A.T)\n",
    "print(A3,A3.shape)"
   ]
  },
  {
   "cell_type": "markdown",
   "metadata": {
    "deletable": true,
    "editable": true
   },
   "source": [
    "From a vector $v$, one can form the matrix $P=v v^T$ by <tt>A=v.outer(v)<tt> (or equivalently <tt>np.outer(v,v)</tt>)"
   ]
  },
  {
   "cell_type": "code",
   "execution_count": 51,
   "metadata": {
    "collapsed": false,
    "deletable": true,
    "editable": true
   },
   "outputs": [
    {
     "name": "stdout",
     "output_type": "stream",
     "text": [
      "[[ 2.192446    0.65656736 -1.72394882 -2.37473838 -1.77520653]\n",
      " [ 0.65656736  0.19662089 -0.51626745 -0.71115808 -0.5316175 ]\n",
      " [-1.72394882 -0.51626745  1.35556338  1.86728768  1.39586799]\n",
      " [-2.37473838 -0.71115808  1.86728768  2.57218758  1.92280725]\n",
      " [-1.77520653 -0.5316175   1.39586799  1.92280725  1.43737096]]\n"
     ]
    }
   ],
   "source": [
    "P = np.outer(v,v)\n",
    "print(P)"
   ]
  },
  {
   "cell_type": "markdown",
   "metadata": {
    "deletable": true,
    "editable": true
   },
   "source": [
    "### Useful Functions\n",
    "\n",
    "See the Documentation on <a href=\"https://docs.scipy.org/doc/numpy/reference/arrays.ndarray.html\">arrays</a> and <a href=\"https://docs.scipy.org/doc/numpy/reference/routines.array-creation.html\">array creation</a>.\n",
    "\n",
    "<div class=\"warn\">**Warning:** Modificators such as transpose, reshape, etc. do not modify the matrix, if you want to keep the result of the operation, you have to assign a variable to it. The notable exceptions are precised as *in-place* in the documentation.</div>"
   ]
  },
  {
   "cell_type": "code",
   "execution_count": 52,
   "metadata": {
    "collapsed": false,
    "deletable": true,
    "editable": true
   },
   "outputs": [
    {
     "data": {
      "text/plain": [
       "array([[ 0,  1,  2,  3,  4, 10, 11, 12, 13, 14],\n",
       "       [20, 21, 22, 23, 24, 30, 31, 32, 33, 34]])"
      ]
     },
     "execution_count": 52,
     "metadata": {},
     "output_type": "execute_result"
    }
   ],
   "source": [
    "A.reshape((2,10))"
   ]
  },
  {
   "cell_type": "code",
   "execution_count": 53,
   "metadata": {
    "collapsed": false,
    "deletable": true,
    "editable": true
   },
   "outputs": [
    {
     "name": "stdout",
     "output_type": "stream",
     "text": [
      "[[ 0  1  2  3  4]\n",
      " [10 11 12 13 14]\n",
      " [20 21 22 23 24]\n",
      " [30 31 32 33 34]]\n"
     ]
    }
   ],
   "source": [
    "print(A)"
   ]
  },
  {
   "cell_type": "code",
   "execution_count": 54,
   "metadata": {
    "collapsed": false,
    "deletable": true,
    "editable": true
   },
   "outputs": [
    {
     "name": "stdout",
     "output_type": "stream",
     "text": [
      "[ 0  1  2  3  4 10 11 12 13 14 20 21 22 23 24 30 31 32 33 34]\n"
     ]
    }
   ],
   "source": [
    "B = A.flatten()\n",
    "print(B)"
   ]
  },
  {
   "cell_type": "code",
   "execution_count": 55,
   "metadata": {
    "collapsed": false,
    "deletable": true,
    "editable": true
   },
   "outputs": [
    {
     "name": "stdout",
     "output_type": "stream",
     "text": [
      "66 34 19\n"
     ]
    }
   ],
   "source": [
    "print(A.trace(),A.max(),A.argmax())"
   ]
  },
  {
   "cell_type": "markdown",
   "metadata": {
    "deletable": true,
    "editable": true
   },
   "source": [
    "Some functions may be taken with respects to the columns with <tt>axis=0</tt> or lines with <tt>axis=1</tt>."
   ]
  },
  {
   "cell_type": "code",
   "execution_count": 56,
   "metadata": {
    "collapsed": false,
    "deletable": true,
    "editable": true
   },
   "outputs": [
    {
     "name": "stdout",
     "output_type": "stream",
     "text": [
      "17.0 [ 15.  16.  17.  18.  19.] [  2.  12.  22.  32.]\n"
     ]
    }
   ],
   "source": [
    "print(A.mean(),A.mean(axis=0),A.mean(axis=1))"
   ]
  },
  {
   "cell_type": "code",
   "execution_count": 57,
   "metadata": {
    "collapsed": false,
    "deletable": true,
    "editable": true
   },
   "outputs": [
    {
     "name": "stdout",
     "output_type": "stream",
     "text": [
      "127.0 [ 125.  125.  125.  125.  125.] [ 1.41421356  1.41421356  1.41421356  1.41421356]\n"
     ]
    }
   ],
   "source": [
    "print(A.var(),A.var(axis=0),A.std(axis=1))"
   ]
  },
  {
   "cell_type": "markdown",
   "metadata": {
    "deletable": true,
    "editable": true
   },
   "source": [
    "#### Repetition, tiling, concatenation"
   ]
  },
  {
   "cell_type": "code",
   "execution_count": 58,
   "metadata": {
    "collapsed": false,
    "deletable": true,
    "editable": true
   },
   "outputs": [
    {
     "data": {
      "text/plain": [
       "array([[1, 2],\n",
       "       [3, 4]])"
      ]
     },
     "execution_count": 58,
     "metadata": {},
     "output_type": "execute_result"
    }
   ],
   "source": [
    "a = np.array([[1, 2], [3, 4]])\n",
    "a"
   ]
  },
  {
   "cell_type": "code",
   "execution_count": 59,
   "metadata": {
    "collapsed": false,
    "deletable": true,
    "editable": true
   },
   "outputs": [
    {
     "data": {
      "text/plain": [
       "array([1, 1, 1, 2, 2, 2, 3, 3, 3, 4, 4, 4])"
      ]
     },
     "execution_count": 59,
     "metadata": {},
     "output_type": "execute_result"
    }
   ],
   "source": [
    "# repeat each element 3 times\n",
    "np.repeat(a, 3) #  1-d result"
   ]
  },
  {
   "cell_type": "code",
   "execution_count": 60,
   "metadata": {
    "collapsed": false,
    "deletable": true,
    "editable": true
   },
   "outputs": [
    {
     "data": {
      "text/plain": [
       "array([[1, 2, 1, 2, 1, 2],\n",
       "       [3, 4, 3, 4, 3, 4]])"
      ]
     },
     "execution_count": 60,
     "metadata": {},
     "output_type": "execute_result"
    }
   ],
   "source": [
    "# repeat *the matrix* 3 times\n",
    "np.tile(a, 3)"
   ]
  },
  {
   "cell_type": "code",
   "execution_count": 61,
   "metadata": {
    "collapsed": true,
    "deletable": true,
    "editable": true
   },
   "outputs": [],
   "source": [
    "b = np.array([[5, 6]])"
   ]
  },
  {
   "cell_type": "code",
   "execution_count": 62,
   "metadata": {
    "collapsed": false,
    "deletable": true,
    "editable": true
   },
   "outputs": [
    {
     "data": {
      "text/plain": [
       "array([[1, 2],\n",
       "       [3, 4],\n",
       "       [5, 6]])"
      ]
     },
     "execution_count": 62,
     "metadata": {},
     "output_type": "execute_result"
    }
   ],
   "source": [
    "np.concatenate((a, b), axis=0)"
   ]
  },
  {
   "cell_type": "code",
   "execution_count": 63,
   "metadata": {
    "collapsed": false,
    "deletable": true,
    "editable": true
   },
   "outputs": [
    {
     "data": {
      "text/plain": [
       "array([[1, 2, 5],\n",
       "       [3, 4, 6]])"
      ]
     },
     "execution_count": 63,
     "metadata": {},
     "output_type": "execute_result"
    }
   ],
   "source": [
    "np.concatenate((a, b.T), axis=1)"
   ]
  },
  {
   "cell_type": "code",
   "execution_count": 64,
   "metadata": {
    "collapsed": false,
    "deletable": true,
    "editable": true
   },
   "outputs": [
    {
     "data": {
      "text/plain": [
       "array([[1, 2],\n",
       "       [3, 4],\n",
       "       [5, 6]])"
      ]
     },
     "execution_count": 64,
     "metadata": {},
     "output_type": "execute_result"
    }
   ],
   "source": [
    "np.vstack((a,b))"
   ]
  },
  {
   "cell_type": "code",
   "execution_count": 65,
   "metadata": {
    "collapsed": false,
    "deletable": true,
    "editable": true
   },
   "outputs": [
    {
     "data": {
      "text/plain": [
       "array([[1, 2, 5],\n",
       "       [3, 4, 6]])"
      ]
     },
     "execution_count": 65,
     "metadata": {},
     "output_type": "execute_result"
    }
   ],
   "source": [
    "np.hstack((a,b.T))"
   ]
  },
  {
   "cell_type": "markdown",
   "metadata": {
    "deletable": true,
    "editable": true
   },
   "source": [
    "### Iterating on arrays"
   ]
  },
  {
   "cell_type": "code",
   "execution_count": 66,
   "metadata": {
    "collapsed": false,
    "deletable": true,
    "editable": true
   },
   "outputs": [
    {
     "name": "stdout",
     "output_type": "stream",
     "text": [
      "1\n",
      "2\n",
      "3\n",
      "4\n"
     ]
    }
   ],
   "source": [
    "v = np.array([1,2,3,4])\n",
    "\n",
    "for element in v:\n",
    "    print(element)"
   ]
  },
  {
   "cell_type": "code",
   "execution_count": 67,
   "metadata": {
    "collapsed": false,
    "deletable": true,
    "editable": true
   },
   "outputs": [
    {
     "name": "stdout",
     "output_type": "stream",
     "text": [
      "row [1 2]\n",
      "1\n",
      "2\n",
      "row [3 4]\n",
      "3\n",
      "4\n"
     ]
    }
   ],
   "source": [
    "a = np.array([[1,2], [3,4]])\n",
    "\n",
    "for row in a:\n",
    "    print(\"row\", row)\n",
    "    \n",
    "    for element in row:\n",
    "        print(element)"
   ]
  },
  {
   "cell_type": "markdown",
   "metadata": {
    "deletable": true,
    "editable": true
   },
   "source": [
    "<tt>enumerate</tt> can be used to get indexes along with elements."
   ]
  },
  {
   "cell_type": "code",
   "execution_count": 68,
   "metadata": {
    "collapsed": false,
    "deletable": true,
    "editable": true
   },
   "outputs": [
    {
     "name": "stdout",
     "output_type": "stream",
     "text": [
      "row_idx 0 row [1 2]\n",
      "col_idx 0 element 1\n",
      "col_idx 1 element 2\n",
      "row_idx 1 row [3 4]\n",
      "col_idx 0 element 3\n",
      "col_idx 1 element 4\n"
     ]
    }
   ],
   "source": [
    "for row_idx, row in enumerate(a):\n",
    "    print(\"row_idx\", row_idx, \"row\", row)\n",
    "    \n",
    "    for col_idx, element in enumerate(row):\n",
    "        print(\"col_idx\", col_idx, \"element\", element)\n",
    "       \n",
    "        # update the matrix a: square each element\n",
    "        a[row_idx, col_idx] = element ** 2"
   ]
  },
  {
   "cell_type": "code",
   "execution_count": 69,
   "metadata": {
    "collapsed": false,
    "deletable": true,
    "editable": true
   },
   "outputs": [
    {
     "data": {
      "text/plain": [
       "array([[ 1,  4],\n",
       "       [ 9, 16]])"
      ]
     },
     "execution_count": 69,
     "metadata": {},
     "output_type": "execute_result"
    }
   ],
   "source": [
    "a"
   ]
  },
  {
   "cell_type": "markdown",
   "metadata": {
    "deletable": true,
    "editable": true
   },
   "source": [
    "## <a id=\"libAlg\"> d) Linear Algebra </a> \n",
    "\n",
    "<p style=\"text-align: right; font-size: 10px;\"><a href=\"#top\">Go to top</a></p>\n",
    "\n",
    "\n",
    "Numpy comes with an efficient linear algebra module named <tt>linalg</tt> (see the <a href=\"https://docs.scipy.org/doc/numpy/reference/routines.linalg.html\">documentation</a>). As in many languages, the more vectorized the operations are, the more efficient.\n",
    "\n",
    "### Decompositions\n",
    "\n",
    "\n",
    "* **QR:** <tt>linalg.qr</tt> Factor the matrix $A$ as $QR$, where $Q$ is orthonormal and $R$ is upper-triangular.\n",
    "* **Cholesky:** <tt>linalg.cholesky</tt> Return the Cholesky decomposition, $L L^H$, of the square matrix $A$, where $L$ is lower-triangular. $A$ must be Hermitian and positive-definite. Only $L$ is actually returned.\n",
    "* **SVD:** <tt>linalg.svd</tt>  Factors the matrix $A$ as $U  \\textrm{diag}(s) V$, where $U$ and $V$ are unitary and $s$ is a 1-d array of $A$‘s singular values.\n",
    "\n"
   ]
  },
  {
   "cell_type": "code",
   "execution_count": 70,
   "metadata": {
    "collapsed": true,
    "deletable": true,
    "editable": true
   },
   "outputs": [],
   "source": [
    "A = np.random.randn(3,2)"
   ]
  },
  {
   "cell_type": "code",
   "execution_count": 71,
   "metadata": {
    "collapsed": false,
    "deletable": true,
    "editable": true
   },
   "outputs": [
    {
     "name": "stdout",
     "output_type": "stream",
     "text": [
      "[[-0.03428186  1.24014753]\n",
      " [-0.40084178 -0.21138138]\n",
      " [-0.25740345 -1.2412635 ]]\n",
      "[[-0.07177878  0.8106889 ]\n",
      " [-0.83927582  0.26569205]\n",
      " [-0.53894703 -0.5217195 ]]\n",
      "[[ 0.47760435  0.75736629]\n",
      " [ 0.          1.59680286]]\n"
     ]
    }
   ],
   "source": [
    "Q, R = np.linalg.qr(A)\n",
    "print(A)\n",
    "print(Q)\n",
    "print(R)"
   ]
  },
  {
   "cell_type": "code",
   "execution_count": 72,
   "metadata": {
    "collapsed": false,
    "deletable": true,
    "editable": true
   },
   "outputs": [
    {
     "data": {
      "text/plain": [
       "True"
      ]
     },
     "execution_count": 72,
     "metadata": {},
     "output_type": "execute_result"
    }
   ],
   "source": [
    "np.allclose(A, np.dot(Q, R)) # check that A=QR"
   ]
  },
  {
   "cell_type": "code",
   "execution_count": 73,
   "metadata": {
    "collapsed": false,
    "deletable": true,
    "editable": true
   },
   "outputs": [
    {
     "name": "stdout",
     "output_type": "stream",
     "text": [
      "(3, 3) (2, 2) (2,)\n"
     ]
    }
   ],
   "source": [
    "U, s, V = np.linalg.svd(A)\n",
    "print(U.shape, V.shape, s.shape)"
   ]
  },
  {
   "cell_type": "code",
   "execution_count": 74,
   "metadata": {
    "collapsed": false,
    "deletable": true,
    "editable": true
   },
   "outputs": [
    {
     "data": {
      "text/plain": [
       "True"
      ]
     },
     "execution_count": 74,
     "metadata": {},
     "output_type": "execute_result"
    }
   ],
   "source": [
    "S = np.zeros(A.shape)\n",
    "S[:A.shape[1], :A.shape[1]] = np.diag(s)\n",
    "np.allclose(A, np.dot(U, np.dot(S, V)))"
   ]
  },
  {
   "cell_type": "markdown",
   "metadata": {
    "deletable": true,
    "editable": true
   },
   "source": [
    "By default, $U$ and $V$ have the shapes $(M, M)$ and $(N, N)$  respectively if $A$ is $(M,N)$. If <tt>full_matrices=False</tt> is passed, the shapes are $(M, K)$ and $(K, N)$, respectively, where $K = min(M, N)$."
   ]
  },
  {
   "cell_type": "code",
   "execution_count": 75,
   "metadata": {
    "collapsed": false,
    "deletable": true,
    "editable": true
   },
   "outputs": [
    {
     "name": "stdout",
     "output_type": "stream",
     "text": [
      "(3, 2) (2, 2) (2,)\n"
     ]
    }
   ],
   "source": [
    "U, s, V = np.linalg.svd(A, full_matrices=False)\n",
    "print(U.shape, V.shape, s.shape)"
   ]
  },
  {
   "cell_type": "code",
   "execution_count": 76,
   "metadata": {
    "collapsed": false,
    "deletable": true,
    "editable": true
   },
   "outputs": [
    {
     "data": {
      "text/plain": [
       "True"
      ]
     },
     "execution_count": 76,
     "metadata": {},
     "output_type": "execute_result"
    }
   ],
   "source": [
    "S = np.diag(s)\n",
    "np.allclose(A, np.dot(U, np.dot(S, V)))"
   ]
  },
  {
   "cell_type": "markdown",
   "metadata": {
    "deletable": true,
    "editable": true
   },
   "source": [
    "### Eigenvalues\n",
    "\n",
    "<tt>linalg.eig</tt> compute the eigenvalues and right eigenvectors of a square array and is the main function (<tt>linalg.eigvals</tt> computes eigenvalues of a non-symmetric array, <tt>linalg.eigh</tt> returns eigenvalues and eigenvectors of a symmetric or Hermitian array)."
   ]
  },
  {
   "cell_type": "code",
   "execution_count": 77,
   "metadata": {
    "collapsed": false,
    "deletable": true,
    "editable": true
   },
   "outputs": [
    {
     "name": "stdout",
     "output_type": "stream",
     "text": [
      "[ 1.+1.j  1.-1.j] [[ 0.70710678+0.j          0.70710678-0.j        ]\n",
      " [ 0.00000000-0.70710678j  0.00000000+0.70710678j]]\n"
     ]
    }
   ],
   "source": [
    "A = np.array([[1, -1], [1, 1]])\n",
    "l, v = np.linalg.eig(A)\n",
    "print(l,v)"
   ]
  },
  {
   "cell_type": "code",
   "execution_count": 78,
   "metadata": {
    "collapsed": false,
    "deletable": true,
    "editable": true
   },
   "outputs": [
    {
     "data": {
      "text/plain": [
       "array([ 0.70710678+0.70710678j,  0.70710678-0.70710678j])"
      ]
     },
     "execution_count": 78,
     "metadata": {},
     "output_type": "execute_result"
    }
   ],
   "source": [
    "A.dot(v[:,0])"
   ]
  },
  {
   "cell_type": "markdown",
   "metadata": {
    "deletable": true,
    "editable": true
   },
   "source": [
    "We can check that $Ax= \\lambda x$."
   ]
  },
  {
   "cell_type": "code",
   "execution_count": 79,
   "metadata": {
    "collapsed": false,
    "deletable": true,
    "editable": true
   },
   "outputs": [
    {
     "data": {
      "text/plain": [
       "True"
      ]
     },
     "execution_count": 79,
     "metadata": {},
     "output_type": "execute_result"
    }
   ],
   "source": [
    "np.allclose(A.dot(v[:,0]),l[0]*v[:,0])"
   ]
  },
  {
   "cell_type": "markdown",
   "metadata": {
    "deletable": true,
    "editable": true
   },
   "source": [
    "### Norms and other numbers\n",
    "\n",
    "The function <tt>linalg.norm</tt> is able to return one of eight different matrix norms, or one of an infinite number of vector norms (described below), depending on the value of the <tt>ord</tt> parameter.\n",
    "\n",
    "<table border=\"1\" class=\"docutils\">\n",
    "<colgroup>\n",
    "<col width=\"8%\" />\n",
    "<col width=\"47%\" />\n",
    "<col width=\"44%\" />\n",
    "</colgroup>\n",
    "<thead valign=\"bottom\">\n",
    "<tr class=\"row-odd\"><th class=\"head\">ord</th>\n",
    "<th class=\"head\">norm for matrices</th>\n",
    "<th class=\"head\">norm for vectors</th>\n",
    "</tr>\n",
    "</thead>\n",
    "<tbody valign=\"top\">\n",
    "<tr class=\"row-even\"><td>None</td>\n",
    "<td>Frobenius norm</td>\n",
    "<td>2-norm</td>\n",
    "</tr>\n",
    "<tr class=\"row-odd\"><td>&#8216;fro&#8217;</td>\n",
    "<td>Frobenius norm</td>\n",
    "<td>&#8211;</td>\n",
    "</tr>\n",
    "<tr class=\"row-even\"><td>&#8216;nuc&#8217;</td>\n",
    "<td>nuclear norm</td>\n",
    "<td>&#8211;</td>\n",
    "</tr>\n",
    "<tr class=\"row-odd\"><td>inf</td>\n",
    "<td>max(sum(abs(x), axis=1))</td>\n",
    "<td>max(abs(x))</td>\n",
    "</tr>\n",
    "<tr class=\"row-even\"><td>-inf</td>\n",
    "<td>min(sum(abs(x), axis=1))</td>\n",
    "<td>min(abs(x))</td>\n",
    "</tr>\n",
    "<tr class=\"row-odd\"><td>0</td>\n",
    "<td>&#8211;</td>\n",
    "<td>sum(x != 0)</td>\n",
    "</tr>\n",
    "<tr class=\"row-even\"><td>1</td>\n",
    "<td>max(sum(abs(x), axis=0))</td>\n",
    "<td>as below</td>\n",
    "</tr>\n",
    "<tr class=\"row-odd\"><td>-1</td>\n",
    "<td>min(sum(abs(x), axis=0))</td>\n",
    "<td>as below</td>\n",
    "</tr>\n",
    "<tr class=\"row-even\"><td>2</td>\n",
    "<td>2-norm (largest sing. value)</td>\n",
    "<td>as below</td>\n",
    "</tr>\n",
    "<tr class=\"row-odd\"><td>-2</td>\n",
    "<td>smallest singular value</td>\n",
    "<td>as below</td>\n",
    "</tr>\n",
    "<tr class=\"row-even\"><td>other</td>\n",
    "<td>&#8211;</td>\n",
    "<td>sum(abs(x)$^{ord}$)$^{(1./ord)}$</td>\n",
    "</tr>\n",
    "</tbody>\n",
    "</table>"
   ]
  },
  {
   "cell_type": "code",
   "execution_count": 80,
   "metadata": {
    "collapsed": true,
    "deletable": true,
    "editable": true
   },
   "outputs": [],
   "source": [
    "a = np.arange(9) - 4\n",
    "B = a.reshape((3, 3))"
   ]
  },
  {
   "cell_type": "code",
   "execution_count": 81,
   "metadata": {
    "collapsed": false,
    "deletable": true,
    "editable": true
   },
   "outputs": [
    {
     "name": "stdout",
     "output_type": "stream",
     "text": [
      "[-4 -3 -2 -1  0  1  2  3  4]\n",
      "none \t 7.74596669241\n",
      "2 \t 7.74596669241\n",
      "1 \t 20.0\n",
      "inf \t 4.0\n",
      "0 \t 8.0\n"
     ]
    }
   ],
   "source": [
    "print(a)\n",
    "print(\"none \\t\",np.linalg.norm(a))\n",
    "print(\"2 \\t\",np.linalg.norm(a,ord=2))\n",
    "print(\"1 \\t\",np.linalg.norm(a,ord=1))\n",
    "print(\"inf \\t\",np.linalg.norm(a,ord=np.inf))\n",
    "print(\"0 \\t\",np.linalg.norm(a,ord=0))"
   ]
  },
  {
   "cell_type": "code",
   "execution_count": 82,
   "metadata": {
    "collapsed": false,
    "deletable": true,
    "editable": true
   },
   "outputs": [
    {
     "name": "stdout",
     "output_type": "stream",
     "text": [
      "[[-4 -3 -2]\n",
      " [-1  0  1]\n",
      " [ 2  3  4]]\n",
      "none \t 7.74596669241\n",
      "2 \t 7.34846922835\n",
      "1 \t 7.0\n",
      "inf \t 9.0\n",
      "fro \t 7.74596669241\n"
     ]
    }
   ],
   "source": [
    "print(B)\n",
    "print(\"none \\t\",np.linalg.norm(B))\n",
    "print(\"2 \\t\",np.linalg.norm(B,ord=2))\n",
    "print(\"1 \\t\",np.linalg.norm(B,ord=1))\n",
    "print(\"inf \\t\",np.linalg.norm(B,ord=np.inf))\n",
    "print(\"fro \\t\",np.linalg.norm(B,ord='fro'))"
   ]
  },
  {
   "cell_type": "markdown",
   "metadata": {
    "deletable": true,
    "editable": true
   },
   "source": [
    "Other useful function include the condition number <tt>linalg.cond</tt>, determinant <tt>linalg.det</tt>, or rank <tt>linalg.matrix_rank</tt> ."
   ]
  },
  {
   "cell_type": "code",
   "execution_count": 83,
   "metadata": {
    "collapsed": true,
    "deletable": true,
    "editable": true
   },
   "outputs": [],
   "source": [
    "A = np.array([[1, 0, -1], [0, 1, 0], [1, 0, 1]]) # some matrix\n",
    "I = np.eye(4) # identity\n",
    "Def =  np.eye(4); Def[0,0]=0 # rank deficient"
   ]
  },
  {
   "cell_type": "code",
   "execution_count": 84,
   "metadata": {
    "collapsed": false,
    "deletable": true,
    "editable": true
   },
   "outputs": [
    {
     "name": "stdout",
     "output_type": "stream",
     "text": [
      "1.41421356237 1.0\n"
     ]
    }
   ],
   "source": [
    "print(np.linalg.cond(A), np.linalg.cond(I))"
   ]
  },
  {
   "cell_type": "code",
   "execution_count": 85,
   "metadata": {
    "collapsed": false,
    "deletable": true,
    "editable": true
   },
   "outputs": [
    {
     "name": "stderr",
     "output_type": "stream",
     "text": [
      "/usr/local/lib/python3.4/dist-packages/numpy/linalg/linalg.py:1487: RuntimeWarning: divide by zero encountered in true_divide\n",
      "  return s[..., 0]/s[..., -1]\n"
     ]
    },
    {
     "data": {
      "text/plain": [
       "inf"
      ]
     },
     "execution_count": 85,
     "metadata": {},
     "output_type": "execute_result"
    }
   ],
   "source": [
    "np.linalg.cond(Def)"
   ]
  },
  {
   "cell_type": "code",
   "execution_count": 86,
   "metadata": {
    "collapsed": false,
    "deletable": true,
    "editable": true
   },
   "outputs": [
    {
     "name": "stdout",
     "output_type": "stream",
     "text": [
      "2.0 1.0 0.0\n"
     ]
    }
   ],
   "source": [
    "print(np.linalg.det(A), np.linalg.det(I), np.linalg.det(Def))"
   ]
  },
  {
   "cell_type": "code",
   "execution_count": 87,
   "metadata": {
    "collapsed": false,
    "deletable": true,
    "editable": true
   },
   "outputs": [
    {
     "name": "stdout",
     "output_type": "stream",
     "text": [
      "3 4 3\n"
     ]
    }
   ],
   "source": [
    "print(np.linalg.matrix_rank(A), np.linalg.matrix_rank(I), np.linalg.matrix_rank(Def))"
   ]
  },
  {
   "cell_type": "markdown",
   "metadata": {
    "deletable": true,
    "editable": true
   },
   "source": [
    "### Solving equations and inverting matrices\n",
    "\n",
    "When $A$ is full-rank, finding $x$ such that $Ax=b$ can be done efficiently using <tt>linalg.solve</tt> (as a general remark it is in general bad to invert $A$ for solving such equations, although this can be done by  <tt>linalg.inv</tt>). "
   ]
  },
  {
   "cell_type": "code",
   "execution_count": 88,
   "metadata": {
    "collapsed": false,
    "deletable": true,
    "editable": true
   },
   "outputs": [
    {
     "name": "stdout",
     "output_type": "stream",
     "text": [
      "[[3 1]\n",
      " [1 2]]\n",
      "[9 8]\n"
     ]
    }
   ],
   "source": [
    "A = np.array([[3,1], [1,2]])\n",
    "b = np.array([9,8])\n",
    "print(A)\n",
    "print(b)"
   ]
  },
  {
   "cell_type": "code",
   "execution_count": 89,
   "metadata": {
    "collapsed": false,
    "deletable": true,
    "editable": true
   },
   "outputs": [
    {
     "name": "stdout",
     "output_type": "stream",
     "text": [
      "[ 2.  3.] True\n"
     ]
    }
   ],
   "source": [
    "x_sol = np.linalg.solve(A,b)\n",
    "print(x_sol , np.allclose(A.dot(x_sol),b))"
   ]
  },
  {
   "cell_type": "code",
   "execution_count": 90,
   "metadata": {
    "collapsed": false,
    "deletable": true,
    "editable": true
   },
   "outputs": [
    {
     "name": "stdout",
     "output_type": "stream",
     "text": [
      "[ 2.  3.] True\n"
     ]
    }
   ],
   "source": [
    "A_inv = np.linalg.inv(A)\n",
    "x_sol2 = A_inv.dot(b)\n",
    "print(x_sol2 , np.allclose(A.dot(x_sol2),b))"
   ]
  },
  {
   "cell_type": "markdown",
   "metadata": {
    "deletable": true,
    "editable": true
   },
   "source": [
    "Why you don't want to invert a matrix except if really needed:"
   ]
  },
  {
   "cell_type": "code",
   "execution_count": 91,
   "metadata": {
    "collapsed": false,
    "deletable": true,
    "editable": true
   },
   "outputs": [
    {
     "name": "stdout",
     "output_type": "stream",
     "text": [
      "1000 loops, best of 3: 461 µs per loop\n",
      "100 loops, best of 3: 2.33 ms per loop\n"
     ]
    }
   ],
   "source": [
    "N= 100\n",
    "A = np.random.randn(N,N)\n",
    "b = np.random.randn(N)\n",
    "%timeit x_sol = np.linalg.solve(A,b)\n",
    "%timeit A_inv = np.linalg.inv(A) ; x_sol2 = A_inv.dot(b)"
   ]
  },
  {
   "cell_type": "markdown",
   "metadata": {
    "deletable": true,
    "editable": true
   },
   "source": [
    "If $A$ is not full-rank, the least squares solution of $Ax=b$  (i.e $x$ that minimizes $\\|Ax-b\\|_2$) can be obtained by <tt>linalg.lstsq</tt> and  <tt>linalg.pinv</tt> give the Moore-Penrose pseudo inverse.\n",
    "\n",
    "**Example:** Let us see the problem of affine regression: fit a line, $y = mx + c$ through some noisy data-points"
   ]
  },
  {
   "cell_type": "code",
   "execution_count": 92,
   "metadata": {
    "collapsed": true,
    "deletable": true,
    "editable": true
   },
   "outputs": [],
   "source": [
    "x = np.array([0, 1, 2, 3])\n",
    "y = np.array([-1, 0.2, 0.9, 2.1])"
   ]
  },
  {
   "cell_type": "markdown",
   "metadata": {
    "deletable": true,
    "editable": true
   },
   "source": [
    "We seek $v =[m,c]$ such that $Av=y$ with $A = [x ; 1]$ and $1$ is the vector of all ones. "
   ]
  },
  {
   "cell_type": "code",
   "execution_count": 93,
   "metadata": {
    "collapsed": false,
    "deletable": true,
    "editable": true
   },
   "outputs": [
    {
     "name": "stdout",
     "output_type": "stream",
     "text": [
      "[[ 0.  1.]\n",
      " [ 1.  1.]\n",
      " [ 2.  1.]\n",
      " [ 3.  1.]]\n"
     ]
    }
   ],
   "source": [
    "A = np.vstack([x, np.ones(len(x))]).T\n",
    "print(A)"
   ]
  },
  {
   "cell_type": "code",
   "execution_count": 94,
   "metadata": {
    "collapsed": false,
    "deletable": true,
    "editable": true
   },
   "outputs": [
    {
     "name": "stdout",
     "output_type": "stream",
     "text": [
      "(array([ 1.  , -0.95]), array([ 0.05]), 2, array([ 4.10003045,  1.09075677]))\n"
     ]
    }
   ],
   "source": [
    "res = np.linalg.lstsq(A,y)\n",
    "print(res)"
   ]
  },
  {
   "cell_type": "markdown",
   "metadata": {
    "deletable": true,
    "editable": true
   },
   "source": [
    "the result is a tuple of (solution,residuals,rank,singular values of A)"
   ]
  },
  {
   "cell_type": "code",
   "execution_count": 95,
   "metadata": {
    "collapsed": false,
    "deletable": true,
    "editable": true
   },
   "outputs": [
    {
     "name": "stdout",
     "output_type": "stream",
     "text": [
      "1.0 -0.95\n"
     ]
    }
   ],
   "source": [
    "m,c = res[0]\n",
    "print(m,c)"
   ]
  },
  {
   "cell_type": "code",
   "execution_count": 96,
   "metadata": {
    "collapsed": false,
    "deletable": true,
    "editable": true
   },
   "outputs": [
    {
     "data": {
      "image/png": "[encoded data removed]",
      "text/plain": [
       "<matplotlib.figure.Figure at 0x7f70aa967518>"
      ]
     },
     "metadata": {},
     "output_type": "display_data"
    }
   ],
   "source": [
    "plt.figure()\n",
    "plt.plot(x, y, 'o', label='Original data', markersize=10)\n",
    "plt.plot(x, m*x + c, 'r', label='Fitted line')\n",
    "plt.legend()\n",
    "plt.show()"
   ]
  },
  {
   "cell_type": "markdown",
   "metadata": {
    "deletable": true,
    "editable": true
   },
   "source": [
    "## <a id=\"libExo\"> e) Exercises </a> \n",
    "\n",
    "<p style=\"text-align: right; font-size: 10px;\"><a href=\"#top\">Go to top</a></p>\n",
    "\n"
   ]
  },
  {
   "cell_type": "markdown",
   "metadata": {
    "deletable": true,
    "editable": true
   },
   "source": [
    "<div class=\"exo\">\n",
    "**Exercise 2-1.1:** Image SVD\n",
    "<br/><br/>\n",
    "\n",
    "    The following code snippet reads an image, converts it in grayscale (as a 2D array), and plots it.\n",
    "</div>\n"
   ]
  },
  {
   "cell_type": "code",
   "execution_count": 97,
   "metadata": {
    "collapsed": false,
    "deletable": true,
    "editable": true
   },
   "outputs": [
    {
     "name": "stdout",
     "output_type": "stream",
     "text": [
      "<class 'numpy.ndarray'>\n"
     ]
    },
    {
     "data": {
      "image/png": "[encoded data removed]",
      "text/plain": [
       "<matplotlib.figure.Figure at 0x7f70aa88ce48>"
      ]
     },
     "metadata": {},
     "output_type": "display_data"
    }
   ],
   "source": [
    "import numpy as np\n",
    "import matplotlib.pyplot as plt\n",
    "import matplotlib.image as mpimg\n",
    "import matplotlib.cm as cm\n",
    "%matplotlib inline\n",
    "\n",
    "#### IMAGE\n",
    "img = mpimg.imread('img/flower.png')\n",
    "img_gray =  0.2989 * img[:,:,0] + 0.5870 * img[:,:,1] + 0.1140 * img[:,:,2] # Apparently these are \"good\" coefficients to convert to grayscale\n",
    "####\n",
    "\n",
    "print(type(img_gray))\n",
    "\n",
    "plt.figure()\n",
    "plt.xticks([]),plt.yticks([])\n",
    "plt.title(\"Original\")\n",
    "plt.imshow(img_gray, cmap = cm.Greys_r) \n",
    "plt.show()"
   ]
  },
  {
   "cell_type": "markdown",
   "metadata": {
    "deletable": true,
    "editable": true
   },
   "source": [
    "<div class=\"exo\">\n",
    "Investigate how nulling\n",
    "<ul>\n",
    "<li> the greatest singular values</li>\n",
    "<li> the smallest singular values</li>\n",
    "<li> random singular values</li>\n",
    "</ul>\n",
    "affects the image. Conclude about the relation between information and singular values.\n",
    "</div>\n"
   ]
  },
  {
   "cell_type": "code",
   "execution_count": 98,
   "metadata": {
    "collapsed": false,
    "deletable": true,
    "editable": true
   },
   "outputs": [
    {
     "name": "stdout",
     "output_type": "stream",
     "text": [
      "The image is 480x640\n",
      " - it has 480 singular values between 0.005 and 162.934\n"
     ]
    },
    {
     "data": {
      "image/png": "[encoded data removed]",
      "text/plain": [
       "<matplotlib.figure.Figure at 0x7f70aa8b2b38>"
      ]
     },
     "metadata": {},
     "output_type": "display_data"
    }
   ],
   "source": [
    "# Compression percentage: number of eigenvalues set to zero - To modify\n",
    "Compression = 75.0  # in percents\n",
    "\n",
    "# SVD \n",
    "U, s, Vt = np.linalg.svd(img_gray, full_matrices=False)\n",
    "\n",
    "# (i) Nulling the smallest singular values \n",
    "img_i = np.array([[0]]) #TODO\n",
    "\n",
    "\n",
    "# (ii) Nulling the greatest singular values\n",
    "img_ii = np.array([[0]])  #TODO\n",
    "\n",
    "\n",
    "# (iii) Nulling random singular values\n",
    "img_iii = np.array([[0]])  #TODO\n",
    "\n",
    "###############################################\n",
    "\n",
    "\n",
    "\n",
    "###############################################\n",
    "## SHOW THE FIGURES\n",
    "print('The image is {:d}x{:d}\\n - it has {:d} singular values between {:.3f} and {:.3f}'.format( img_gray.shape[0], img_gray.shape[1]  , len(s)  ,  np.min(s) , np.max(s) ))\n",
    "\n",
    "plt.figure()# new figure\n",
    "\n",
    "plt.subplot(2,2,1)\n",
    "plt.xticks([]),plt.yticks([])\n",
    "plt.title(\"Original\")\n",
    "plt.imshow(img_gray, cmap = cm.Greys_r) \n",
    "\n",
    "plt.subplot(2,2,2)\n",
    "plt.xticks([]),plt.yticks([])\n",
    "plt.title(\"(i) smallest\")\n",
    "plt.imshow(img_i, cmap = cm.Greys_r) \n",
    "\n",
    "plt.subplot(2,2,3)\n",
    "plt.xticks([]),plt.yticks([])\n",
    "plt.title(\"(ii) greatest\")\n",
    "plt.imshow(img_ii, cmap = cm.Greys_r) \n",
    "\n",
    "plt.subplot(2,2,4)\n",
    "plt.xticks([]),plt.yticks([])\n",
    "plt.title(\"(iii) random\")\n",
    "plt.imshow(img_iii, cmap = cm.Greys_r) \n",
    "\n",
    "plt.show() #show the window\n",
    "###############################################"
   ]
  },
  {
   "cell_type": "markdown",
   "metadata": {
    "deletable": true,
    "editable": true
   },
   "source": [
    "---"
   ]
  },
  {
   "cell_type": "markdown",
   "metadata": {
    "deletable": true,
    "editable": true
   },
   "source": [
    "<div class=\"exo\">\n",
    "<b>Exercise 2-1.2:</b> Linear Regression<br/><br/>\n",
    "\n",
    "\n",
    "In this example, we use linear algebra to extract information from data; more precisely, we predict final notes of a group of student from their profiles with the [Student Performance dataset](https://archive.ics.uci.edu/ml/datasets/Student+Performance) which includes secondary education students of two Portuguese schools.<br/><br/>\n",
    "\n",
    "\n",
    "Profiles include features such as student grades, demographic, social and school related features and were collected by using school reports and questionnaires. There are $m = 395$ students (examples) and we selected $n = 27$ features (see <tt>data/student.txt</tt> for the features description and <tt>datat/student-mat.csv</tt> for the csv dataset.)<br/><br/>\n",
    "\n",
    "\n",
    "\n",
    "Our goal is to predict a target feature (the $28$-th) which is the final grade of the student from the other features (the first $27$). We assume that the final grade can be explained by a linear combination of the other features. We are going to learn from this data using linear regression over the $m_{learn} = 300$ students (called the *learning set*). We will check our prediction by comparing the results for the other $m_{test} = 95$ students (the *testing set*).\n",
    "\n",
    "</div>"
   ]
  },
  {
   "cell_type": "code",
   "execution_count": 99,
   "metadata": {
    "collapsed": false,
    "deletable": true,
    "editable": true
   },
   "outputs": [],
   "source": [
    "import numpy as np\n",
    "\n",
    "# File reading\n",
    "dat_file = np.load('data/student.npz')\n",
    "A_learn = dat_file['A_learn']\n",
    "b_learn = dat_file['b_learn']\n",
    "A_test = dat_file['A_test']\n",
    "b_test = dat_file['b_test']\n",
    "\n",
    "m = 395 # number of read examples (total:395)\n",
    "n = 27 # features\n",
    "m_learn = 300"
   ]
  },
  {
   "cell_type": "markdown",
   "metadata": {
    "deletable": true,
    "editable": true
   },
   "source": [
    "<div class=\"exo\">\n",
    "Mathematically, from the $m_{learn} \\times (n+1)$ *learning matrix* (the number of columns is $n+1$ as a column of ones, called *intercept* for statistical reasons). $A_{learn}$ comprising of the features values of each training student in line, and the vector of the values of the target features $b_{learn}$;  we seek a size-$n+1$ *regression vector* that minimizes the squared error between  $A_{learn} x$ and $b_{learn}$. This problem boils down to the following least square problem:\n",
    "$$ \\min_{x\\in\\mathbb{R}^{n+1}}  \\|  A_{learn} x - b_{learn} \\|_2^2 . $$\n",
    "</div>"
   ]
  },
  {
   "cell_type": "markdown",
   "metadata": {
    "deletable": true,
    "editable": true
   },
   "source": [
    "<div class=\"exo\">\n",
    "<ul>\n",
    "<li> Observe the rank of the $m_{learn} \\times (n+1)$ matrix $A_{learn}$. Does it have full row rank? full column rank? Conclude about the existence and uniqueness of solutions of the problem.</li>\n",
    "<li> Solve the minimization problem in the least squares sense to retreive a predictor <tt>x_reg</tt>. </li>\n",
    "</ul>\n",
    "</div>"
   ]
  },
  {
   "cell_type": "code",
   "execution_count": 100,
   "metadata": {
    "collapsed": true,
    "deletable": true,
    "editable": true
   },
   "outputs": [],
   "source": [
    "rank_A_learn = 0 #.........................................\n",
    "#print('Rank of matrix A_learn ({:d} rows, {:d} cols.): {:d}\\n'.format(m_learn,n+1,rank_A_learn))\n",
    "\n",
    "x_reg = 0 #.........................................."
   ]
  },
  {
   "cell_type": "markdown",
   "metadata": {
    "deletable": true,
    "editable": true
   },
   "source": [
    "<div class=\"exo\">\n",
    "<ul>\n",
    "<li> In order to test the goodness of our predictor <tt>x_reg</tt>, we use the rest of the data to compare our predictions with the actual observations. The test matrix $A_{test}$ has $m_{test} = 95$ rows (students) and $n+1 = 28$ columns (features+intercept). Construct the predicted grades from <tt>x_reg</tt> and compare with the actual observed grades in $b_{test}$ (set <tt>SHOW_PREDICTION = True</tt> in the code). </li>\n",
    "<li> Compare the relative values of the coefficients of the predictor <tt>x_reg</tt> (set <tt>SHOW_PREDICTOR = True</tt> in the code).  What can you observe about the relative importance of the features?</li>\n",
    "</ul>\n",
    "</div>"
   ]
  },
  {
   "cell_type": "code",
   "execution_count": 101,
   "metadata": {
    "collapsed": true,
    "deletable": true,
    "editable": true
   },
   "outputs": [],
   "source": [
    "predict = 0 #.........................................\n",
    "\n",
    "SHOW_PREDICTION = False\n",
    "SHOW_PREDICTOR  = False\n",
    "\n",
    "if SHOW_PREDICTION:\n",
    "    print('\\n\\n  Predicted | True value')\n",
    "    for i in range(predict.size):\n",
    "        print('\\t{:2d}     {:2d} '.format(int(predict[i]),int(b_test[i])))\n",
    "        \n",
    "if SHOW_PREDICTOR:\n",
    "    filename = 'data/student.txt' \n",
    "    f = open(filename, 'r')\n",
    "    f.readline() # read the first (description) line\n",
    "    for i in range(n):\n",
    "        print(\"{:2.3f} \\t-- {:s}\".format(x_reg[i],f.readline()))\n",
    "    print(\"{:2.3f} \\t-- Intercept\".format(x_reg[n]))\n",
    "    f.close()"
   ]
  },
  {
   "cell_type": "markdown",
   "metadata": {
    "deletable": true,
    "editable": true
   },
   "source": [
    "---"
   ]
  },
  {
   "cell_type": "markdown",
   "metadata": {
    "deletable": true,
    "editable": true
   },
   "source": [
    "<div class=\"exo\">\n",
    "<b>Exercise 2-1.3:</b> PageRank\n",
    "<br/><br/>\n",
    "\n",
    "\n",
    "In this part, we will compute the PageRank ordering of the following graph.\n",
    "\n",
    "\n",
    "<img src=\"img/graph.png\" alt=\"graph\" style=\"width: 50%;\"/>\n",
    "\n",
    "\n",
    "In PageRank, the score $x_i$ of page $i$ is equal to the sum over the pages $j$ pointing toward $i$ of their scores $x_j$  divided by their number of outgoing links $n_j$. This leads to a ranking matrix $R$ defined from the scoring method as\n",
    "$$ x = Rx.$$\n",
    "</div>"
   ]
  },
  {
   "cell_type": "code",
   "execution_count": 102,
   "metadata": {
    "collapsed": false,
    "deletable": true,
    "editable": true
   },
   "outputs": [],
   "source": [
    "import numpy as np\n",
    "import matplotlib.pyplot as plt\n",
    "\n",
    "#### Graph matrix\n",
    "A = np.array([[0,1,1,0,1],[0,0,0,1,1],[1,0,0,1,0],[0,0,1,0,1],[0,1,0,0,0]])\n",
    "####\n",
    "\n",
    "#  column stochatic normalization \n",
    "R = np.dot( A  , np.diag(1.0/np.sum(A,0)))"
   ]
  },
  {
   "cell_type": "markdown",
   "metadata": {
    "deletable": true,
    "editable": true
   },
   "source": [
    "<div class=\"exo\"> \n",
    "<ul>\n",
    "<li> Explain how the ranking matrix $R$ is generated from adjacence matrix $A$ and that that the sums of its columns are equal to $1$. </li>\n",
    "<li> Check numerically that $\\|R\\| = 1$ for some matrix norm and that the spectral radius of $R$ is equal to $1$.  </li>\n",
    "</ul>\n",
    "</div>"
   ]
  },
  {
   "cell_type": "code",
   "execution_count": null,
   "metadata": {
    "collapsed": true,
    "deletable": true,
    "editable": true
   },
   "outputs": [],
   "source": []
  },
  {
   "cell_type": "markdown",
   "metadata": {
    "deletable": true,
    "editable": true
   },
   "source": [
    "<div class=\"exo\"> \n",
    "<ul>\n",
    "<li>  Iterate the matrix $R$ a large number of times and check if the matrix is primitive. What do you notice on the eigenvalues and eigenvectors? How is defined the rank 1 matrix that you obtain? This manner of computing eigenvectors/values is called the *power method*. </li>\n",
    "<li> Recover the *Perron* eigenvector of matrix $R$. The entries of this vector are the PageRank scores of the nodes/pages of the graph. Give the PageRank ordering of the pages of the graph.  </li>\n",
    "</ul>\n",
    "</div>"
   ]
  },
  {
   "cell_type": "code",
   "execution_count": 103,
   "metadata": {
    "collapsed": true,
    "deletable": true,
    "editable": true
   },
   "outputs": [],
   "source": [
    "v = 0 #......................................... \n",
    "#print(\"Perron vector: {0}\".format(v))"
   ]
  },
  {
   "cell_type": "markdown",
   "metadata": {
    "deletable": true,
    "editable": true
   },
   "source": [
    "<div class=\"exo\"> \n",
    "<ul>\n",
    "<li> <b>(to go further)</b> In this exercise, the graph we took led to a *primitive* matrix as seen above; this is necessary for the power method to work as the eigenvalue $1$ has to be the only one of modulus $1$. This is actually the case when the graph is strongly connected, that is when you can go from any node to any other node by following the edges, with *enough* loops. When it is not the case, our problem becomes ill posed. To overcome this problem, the ranking matrix $R$  is replaced by \n",
    "$$ M = (1-\\alpha) R + \\alpha J, ~~~~~~~~ \\alpha\\in]0,1[ $$\n",
    "where is $J$ is the $5\\times 5$ matrix whose entries are all $1/5$. The value of $\\alpha$ originally used by Google is $0.15$.<br/>Compute the ranking for the original graph but where the link from 2 to 5 is suppressed. </li>\n",
    "</ul>\n",
    "</div>"
   ]
  },
  {
   "cell_type": "code",
   "execution_count": 104,
   "metadata": {
    "collapsed": true,
    "deletable": true,
    "editable": true
   },
   "outputs": [],
   "source": [
    "#### New Graph matrix\n",
    "A_2 = np.array([[0,1,1,0,1],[0,0,0,1,1],[1,0,0,1,0],[0,0,1,0,1],[0,0,0,0,0]])\n",
    "####"
   ]
  },
  {
   "cell_type": "markdown",
   "metadata": {
    "deletable": true,
    "editable": true
   },
   "source": [
    "---"
   ]
  },
  {
   "cell_type": "markdown",
   "metadata": {
    "deletable": true,
    "editable": true
   },
   "source": [
    "\n",
    "\n",
    "<div class=\"exo\">\n",
    "<b>Exercise 2-1.4:</b> LibSVM Parsing\n",
    "<br/><br/>\n",
    "\n",
    "    The LibSVM format README file reads.\n",
    "</div>\n",
    "\n",
    "\n",
    "    The format of training and testing data file is:\n",
    "\n",
    "    <label> <index1>:<value1> <index2>:<value2> ...\n",
    "\n",
    "    Each line contains an instance and is ended by a '\\n' character. For classification, <label> is an integer indicating the class label (multi-class is supported). For regression, <label> is the target value which can be any real number. For one-class SVM, it's not used so can be any number. The pair <index>:<value> gives a feature (attribute) value: <index> is an integer starting from 1 and <value> is a real number. The only exception is the precomputed kernel, where  <index> starts from 0; see the section of precomputed kernels. Indices must be in ASCENDING order. Labels in the testing file are only used to calculate accuracy or errors. If they are unknown, just fill the first column with any numbers.\n",
    "\n",
    "\n",
    "\n",
    "<div class=\"exo\">\n",
    "Create a module including a function that parses a LibSVM file and returns the output as numpy arrays.\n",
    "</div>\n"
   ]
  },
  {
   "cell_type": "code",
   "execution_count": null,
   "metadata": {
    "collapsed": true,
    "deletable": true,
    "editable": true
   },
   "outputs": [],
   "source": []
  },
  {
   "cell_type": "markdown",
   "metadata": {
    "deletable": true,
    "editable": true
   },
   "source": [
    "---\n",
    "<div id=\"style\"></div>\n",
    "### Package Check and Styling\n",
    "\n",
    "\n",
    "<p style=\"text-align: right; font-size: 10px;\"><a href=\"#top\">Go to top</a></p>\n"
   ]
  },
  {
   "cell_type": "code",
   "execution_count": null,
   "metadata": {
    "collapsed": true,
    "deletable": true,
    "editable": true
   },
   "outputs": [],
   "source": [
    "import lib.notebook_setting as nbs\n",
    "\n",
    "packageList = ['IPython', 'numpy', 'scipy', 'matplotlib', 'cvxopt', 'pandas', 'seaborn', 'sklearn', 'tensorflow']\n",
    "nbs.packageCheck(packageList)\n",
    "\n",
    "nbs.cssStyling()"
   ]
  }
 ],
 "metadata": {
  "kernelspec": {
   "display_name": "Python 3",
   "language": "python",
   "name": "python3"
  },
  "language_info": {
   "codemirror_mode": {
    "name": "ipython",
    "version": 3
   },
   "file_extension": ".py",
   "mimetype": "text/x-python",
   "name": "python",
   "nbconvert_exporter": "python",
   "pygments_lexer": "ipython3",
   "version": "3.5.6"
  },
  "varInspector": {
   "cols": {
    "lenName": 16,
    "lenType": 16,
    "lenVar": 40
   },
   "kernels_config": {
    "python": {
     "delete_cmd_postfix": "",
     "delete_cmd_prefix": "del ",
     "library": "var_list.py",
     "varRefreshCmd": "print(var_dic_list())"
    },
    "r": {
     "delete_cmd_postfix": ") ",
     "delete_cmd_prefix": "rm(",
     "library": "var_list.r",
     "varRefreshCmd": "cat(var_dic_list()) "
    }
   },
   "types_to_exclude": [
    "module",
    "function",
    "builtin_function_or_method",
    "instance",
    "_Feature"
   ],
   "window_display": false
  }
 },
 "nbformat": 4,
 "nbformat_minor": 2
}
