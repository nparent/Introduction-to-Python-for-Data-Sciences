{
 "cells": [
  {
   "cell_type": "markdown",
   "metadata": {
    "deletable": true,
    "editable": true
   },
   "source": [
    "\n",
    "<table>\n",
    "<tr>\n",
    "<td width=15%><img src=\"./img/UGA.png\"></img></td>\n",
    "<td><center><h1>Introduction to Python for Data Sciences</h1></center></td>\n",
    "<td width=15%><a href=\"http://www.iutzeler.org\" style=\"font-size: 16px; font-weight: bold\">Franck Iutzeler</a><br/> Fall. 2018 </td>\n",
    "</tr>\n",
    "</table>\n"
   ]
  },
  {
   "cell_type": "markdown",
   "metadata": {
    "deletable": true,
    "editable": true
   },
   "source": [
    "<br/><br/><div id=\"top\"></div>\n",
    "\n",
    "<center><a style=\"font-size: 40pt; font-weight: bold\">Chap. 4 - Machine Learning with ScikitLearn </a></center>\n",
    "\n",
    "<br/>\n",
    "\n",
    "# ``2. Supervised Learning``\n",
    "\n",
    "---"
   ]
  },
  {
   "cell_type": "markdown",
   "metadata": {
    "deletable": true,
    "editable": true
   },
   "source": [
    "<a href=\"#style\"><b>Package check and Styling</b></a><br/><br/><b>Outline</b><br/><br/>\n",
    "&nbsp;&nbsp;&nbsp; a) <a href=\"#supCla\"> Classification</a><br/>&nbsp;&nbsp;&nbsp; b) <a href=\"#supReg\"> Regression</a><br/>&nbsp;&nbsp;&nbsp; c) <a href=\"#supExo\"> Exercises </a><br/>"
   ]
  },
  {
   "cell_type": "markdown",
   "metadata": {
    "deletable": true,
    "editable": true
   },
   "source": [
    "<div class=\"warn\"><b>Warning:</b> In the session, we will investigate <i>examples</i> on how to deal with popular learning problems using standard algorithms. Many other problems and algorithms exist so this course is not at all exhaustive. </div>\n"
   ]
  },
  {
   "cell_type": "markdown",
   "metadata": {
    "deletable": true,
    "editable": true
   },
   "source": [
    "## <a id=\"supCla\"> a) Classification</a>  \n",
    "\n",
    "\n",
    "<p style=\"text-align: right; font-size: 10px;\"><a href=\"#top\">Go to top</a></p>\n",
    "\n"
   ]
  },
  {
   "cell_type": "code",
   "execution_count": 1,
   "metadata": {
    "collapsed": false,
    "deletable": true,
    "editable": true
   },
   "outputs": [
    {
     "name": "stdout",
     "output_type": "stream",
     "text": [
      "[[  6.37734541 -10.61510727]\n",
      " [  6.50072722  -3.82403586]\n",
      " [  4.29225906  -8.99220442]\n",
      " [  7.39169472  -3.1266933 ]\n",
      " [  7.64306311 -10.02356892]] [1 0 1 0 1]\n"
     ]
    },
    {
     "data": {
      "text/plain": [
       "<matplotlib.collections.PathCollection at 0x7f176aecf9e8>"
      ]
     },
     "execution_count": 1,
     "metadata": {},
     "output_type": "execute_result"
    },
    {
     "data": {
      "image/png": "[encoded data removed]",
      "text/plain": [
       "<matplotlib.figure.Figure at 0x7f17a5c50c50>"
      ]
     },
     "metadata": {},
     "output_type": "display_data"
    }
   ],
   "source": [
    "import numpy as np\n",
    "import matplotlib.pyplot as plt\n",
    "from sklearn.datasets import make_blobs\n",
    "%matplotlib inline\n",
    "\n",
    "# we create 40 separable points in R^2 around 2 centers (random_state=6 is a seed so that the set is separable)\n",
    "X, y = make_blobs(n_samples=40, n_features=2, centers=2 , random_state=6)\n",
    "\n",
    "print(X[:5,:],y[:5]) # print the first 5 points and labels\n",
    "\n",
    "plt.scatter(X[:, 0], X[:, 1], c=y,  cmap=plt.cm.Paired)"
   ]
  },
  {
   "cell_type": "markdown",
   "metadata": {
    "deletable": true,
    "editable": true
   },
   "source": [
    "Support Vector Machines (SVM) are based on learning a vector $w$ and an intercept $b$ such that the hyperplane $w^T x - b = 0$ separates the data i.e.  $a$ belongs to one class if  $w^T a - b > 0$ and the other elsewhere. \n",
    "\n",
    "\n",
    "They were later extended to *Kernel methods* that is  $\\kappa(w, a) - b = 0$ is now the separating *curve* where $\\kappa$ is the *kernel*, typically:\n",
    "* linear: $\\kappa(x,y)= x^T y$ (original SVM) \n",
    "* polynomial: $\\kappa(x,y)= (x^T y)^d$ \n",
    "* Gaussian radial basis function (rfb):   $\\kappa(x,y)= \\exp( - \\gamma \\| x - y \\|^2 )$"
   ]
  },
  {
   "cell_type": "code",
   "execution_count": 2,
   "metadata": {
    "collapsed": false,
    "deletable": true,
    "editable": true
   },
   "outputs": [
    {
     "data": {
      "text/plain": [
       "SVC(C=1.0, cache_size=200, class_weight=None, coef0=0.0,\n",
       "  decision_function_shape=None, degree=3, gamma='auto', kernel='linear',\n",
       "  max_iter=-1, probability=False, random_state=None, shrinking=True,\n",
       "  tol=0.001, verbose=False)"
      ]
     },
     "execution_count": 2,
     "metadata": {},
     "output_type": "execute_result"
    }
   ],
   "source": [
    "from sklearn.svm import SVC # Support vector classifier i.e. Classifier by SVM\n",
    "\n",
    "modelSVMLinear = SVC(kernel=\"linear\")\n",
    "modelSVMLinear.fit(X,y)"
   ]
  },
  {
   "cell_type": "markdown",
   "metadata": {
    "deletable": true,
    "editable": true
   },
   "source": [
    "The following illustration can be found in the [Python Data Science Handbook](http://shop.oreilly.com/product/0636920034919.do) by Jake VanderPlas."
   ]
  },
  {
   "cell_type": "code",
   "execution_count": 3,
   "metadata": {
    "collapsed": true,
    "deletable": true,
    "editable": true
   },
   "outputs": [],
   "source": [
    "def plot_svc_decision_function(model, ax=None, plot_support=True):\n",
    "    \"\"\"Plot the decision function for a 2D SVC\"\"\"\n",
    "    if ax is None:\n",
    "        ax = plt.gca()\n",
    "    xlim = ax.get_xlim()\n",
    "    ylim = ax.get_ylim()\n",
    "    \n",
    "    # create grid to evaluate model\n",
    "    x = np.linspace(xlim[0], xlim[1], 30)\n",
    "    y = np.linspace(ylim[0], ylim[1], 30)\n",
    "    Y, X = np.meshgrid(y, x)\n",
    "    xy = np.vstack([X.ravel(), Y.ravel()]).T\n",
    "    P = model.decision_function(xy).reshape(X.shape)\n",
    "    \n",
    "    # plot decision boundary and margins\n",
    "    ax.contour(X, Y, P, colors='k',\n",
    "               levels=[-1, 0, 1], alpha=0.5,\n",
    "               linestyles=['--', '-', '--'])\n",
    "    \n",
    "    # plot support vectors\n",
    "    if plot_support:\n",
    "        ax.scatter(model.support_vectors_[:, 0],\n",
    "                   model.support_vectors_[:, 1],\n",
    "                   s=300, linewidth=1, facecolors='none');\n",
    "    ax.set_xlim(xlim)\n",
    "    ax.set_ylim(ylim)\n",
    "    "
   ]
  },
  {
   "cell_type": "code",
   "execution_count": 4,
   "metadata": {
    "collapsed": false,
    "deletable": true,
    "editable": true
   },
   "outputs": [
    {
     "data": {
      "image/png": "[encoded data removed]",
      "text/plain": [
       "<matplotlib.figure.Figure at 0x7f1768bfda20>"
      ]
     },
     "metadata": {},
     "output_type": "display_data"
    }
   ],
   "source": [
    "plt.scatter(X[:, 0], X[:, 1], c=y ,  cmap=plt.cm.Paired)\n",
    "plot_svc_decision_function(modelSVMLinear)"
   ]
  },
  {
   "cell_type": "markdown",
   "metadata": {
    "deletable": true,
    "editable": true
   },
   "source": [
    "We see clearly that the linear SVM seeks at maximizing the *margin* between the hyperplane and the two well defined classes from the data."
   ]
  },
  {
   "cell_type": "markdown",
   "metadata": {
    "deletable": true,
    "editable": true
   },
   "source": [
    "### Non-separable data\n",
    "\n",
    "In real cases, the data is usually not linearly separable as before."
   ]
  },
  {
   "cell_type": "code",
   "execution_count": 5,
   "metadata": {
    "collapsed": false,
    "deletable": true,
    "editable": true
   },
   "outputs": [
    {
     "data": {
      "text/plain": [
       "<matplotlib.collections.PathCollection at 0x7f1768960898>"
      ]
     },
     "execution_count": 5,
     "metadata": {},
     "output_type": "execute_result"
    },
    {
     "data": {
      "image/png": "[encoded data removed]",
      "text/plain": [
       "<matplotlib.figure.Figure at 0x7f176897b278>"
      ]
     },
     "metadata": {},
     "output_type": "display_data"
    }
   ],
   "source": [
    "# we create points in R^2 around 2 centers (random_state=48443 is a seed so that the set is *not* separable)\n",
    "X, y = make_blobs(n_samples=100, n_features=2, centers=2 , random_state=48443)\n",
    "\n",
    "plt.scatter(X[:, 0], X[:, 1], c=y,  cmap=plt.cm.Paired)"
   ]
  },
  {
   "cell_type": "markdown",
   "metadata": {
    "deletable": true,
    "editable": true
   },
   "source": [
    "Let us use the *same* linear SVM classifier. Obviously, there are *misclassified points*, the model is thus learnt not by maximizing the margin (which does not exist anymore) but by minimizing a penalty over misclassified data. This penalty takes the form of an allowance margin controlled by a parameter $C$. The smaller $C$ the more inclusive the margin. Finding a good value for $C$ is up to the data scientist."
   ]
  },
  {
   "cell_type": "code",
   "execution_count": 6,
   "metadata": {
    "collapsed": false,
    "deletable": true,
    "editable": true
   },
   "outputs": [
    {
     "data": {
      "text/plain": [
       "SVC(C=100, cache_size=200, class_weight=None, coef0=0.0,\n",
       "  decision_function_shape=None, degree=3, gamma='auto', kernel='linear',\n",
       "  max_iter=-1, probability=False, random_state=None, shrinking=True,\n",
       "  tol=0.001, verbose=False)"
      ]
     },
     "execution_count": 6,
     "metadata": {},
     "output_type": "execute_result"
    }
   ],
   "source": [
    "try:\n",
    "    from sklearn.model_selection import train_test_split    # sklearn > ...\n",
    "except:\n",
    "    from sklearn.cross_validation import train_test_split   # sklearn < ...\n",
    "    \n",
    "XTrain, XTest, yTrain, yTest = train_test_split(X,y,test_size = 0.5) # split data in two\n",
    "\n",
    "model1 = SVC(kernel=\"linear\",C=0.01)\n",
    "model1.fit(XTrain,yTrain)\n",
    "\n",
    "model2 = SVC(kernel=\"linear\",C=100)\n",
    "model2.fit(XTrain,yTrain)"
   ]
  },
  {
   "cell_type": "code",
   "execution_count": 7,
   "metadata": {
    "collapsed": false,
    "deletable": true,
    "editable": true
   },
   "outputs": [
    {
     "data": {
      "text/plain": [
       "Text(0.5,1,'C = 0.01')"
      ]
     },
     "execution_count": 7,
     "metadata": {},
     "output_type": "execute_result"
    },
    {
     "data": {
      "image/png": "[encoded data removed]",
      "text/plain": [
       "<matplotlib.figure.Figure at 0x7f1768949f60>"
      ]
     },
     "metadata": {},
     "output_type": "display_data"
    }
   ],
   "source": [
    "plt.scatter(XTrain[:, 0], XTrain[:, 1], c=yTrain ,  cmap=plt.cm.Paired)\n",
    "plot_svc_decision_function(model1)\n",
    "plt.title(\"C = 0.01\")"
   ]
  },
  {
   "cell_type": "code",
   "execution_count": 8,
   "metadata": {
    "collapsed": false,
    "deletable": true,
    "editable": true
   },
   "outputs": [
    {
     "data": {
      "text/plain": [
       "Text(0.5,1,'C = 100')"
      ]
     },
     "execution_count": 8,
     "metadata": {},
     "output_type": "execute_result"
    },
    {
     "data": {
      "image/png": "[encoded data removed]",
      "text/plain": [
       "<matplotlib.figure.Figure at 0x7f17688b49b0>"
      ]
     },
     "metadata": {},
     "output_type": "display_data"
    }
   ],
   "source": [
    "plt.scatter(XTrain[:, 0], XTrain[:, 1], c=yTrain ,  cmap=plt.cm.Paired)\n",
    "plot_svc_decision_function(model2)\n",
    "plt.title(\"C = 100\")"
   ]
  },
  {
   "cell_type": "markdown",
   "metadata": {
    "deletable": true,
    "editable": true
   },
   "source": [
    "To find out which value of $C$ to use or globally the performance of the classifier, one can use Scikit Learn's [classification metrics](http://scikit-learn.org/stable/modules/model_evaluation.html#classification-metrics), for instance the confusion matrix."
   ]
  },
  {
   "cell_type": "code",
   "execution_count": 9,
   "metadata": {
    "collapsed": false,
    "deletable": true,
    "editable": true
   },
   "outputs": [
    {
     "name": "stdout",
     "output_type": "stream",
     "text": [
      "Model with C = 0.01\n",
      "[[22  0]\n",
      " [ 6 22]]\n",
      "Model with C = 100\n",
      "[[22  0]\n",
      " [ 5 23]]\n"
     ]
    }
   ],
   "source": [
    "from sklearn.metrics import confusion_matrix\n",
    "\n",
    "\n",
    "yFit1 = model1.predict(XTest)\n",
    "yFit2 = model2.predict(XTest)\n",
    "\n",
    "\n",
    "mat1 = confusion_matrix(yTest, yFit1)\n",
    "mat2 = confusion_matrix(yTest, yFit2)\n",
    "\n",
    "print('Model with C = 0.01')\n",
    "print(mat1)\n",
    "print(\"Model with C = 100\")\n",
    "print(mat2)"
   ]
  },
  {
   "cell_type": "markdown",
   "metadata": {
    "deletable": true,
    "editable": true
   },
   "source": [
    "It can also be plotted in a fancier way with seaborn."
   ]
  },
  {
   "cell_type": "code",
   "execution_count": 10,
   "metadata": {
    "collapsed": false,
    "deletable": true,
    "editable": true
   },
   "outputs": [
    {
     "data": {
      "text/plain": [
       "Text(0.5,15,'predicted label')"
      ]
     },
     "execution_count": 10,
     "metadata": {},
     "output_type": "execute_result"
    },
    {
     "data": {
      "image/png": "[encoded data removed]",
      "text/plain": [
       "<matplotlib.figure.Figure at 0x7f1768875c50>"
      ]
     },
     "metadata": {},
     "output_type": "display_data"
    }
   ],
   "source": [
    "import seaborn as sns\n",
    "\n",
    "sns.heatmap(mat1, square=True, annot=True ,cbar=False)\n",
    "plt.ylabel('true label')\n",
    "plt.xlabel('predicted label')"
   ]
  },
  {
   "cell_type": "markdown",
   "metadata": {
    "deletable": true,
    "editable": true
   },
   "source": [
    "### Kernels\n",
    "\n",
    "When the separation between classes is not *linear*, kernels may be used to draw separating curves instead of lines. The most popular is the Gaussian rbf."
   ]
  },
  {
   "cell_type": "code",
   "execution_count": 11,
   "metadata": {
    "collapsed": false,
    "deletable": true,
    "editable": true
   },
   "outputs": [
    {
     "data": {
      "text/plain": [
       "<matplotlib.collections.PathCollection at 0x7f1765088128>"
      ]
     },
     "execution_count": 11,
     "metadata": {},
     "output_type": "execute_result"
    },
    {
     "data": {
      "image/png": "[encoded data removed]",
      "text/plain": [
       "<matplotlib.figure.Figure at 0x7f17650b23c8>"
      ]
     },
     "metadata": {},
     "output_type": "display_data"
    }
   ],
   "source": [
    "from sklearn.datasets import make_moons\n",
    "\n",
    "X,y = make_moons(noise=0.1)\n",
    "plt.scatter(X[:, 0], X[:, 1], c=y,  cmap=plt.cm.Paired)"
   ]
  },
  {
   "cell_type": "code",
   "execution_count": 12,
   "metadata": {
    "collapsed": false,
    "deletable": true,
    "editable": true
   },
   "outputs": [
    {
     "data": {
      "text/plain": [
       "SVC(C=1.0, cache_size=200, class_weight=None, coef0=0.0,\n",
       "  decision_function_shape=None, degree=3, gamma='auto', kernel='rbf',\n",
       "  max_iter=-1, probability=False, random_state=None, shrinking=True,\n",
       "  tol=0.001, verbose=False)"
      ]
     },
     "execution_count": 12,
     "metadata": {},
     "output_type": "execute_result"
    }
   ],
   "source": [
    "modelLinear = SVC(kernel=\"linear\")\n",
    "modelLinear.fit(X,y)\n",
    "\n",
    "modelRbf = SVC(kernel=\"rbf\")\n",
    "modelRbf.fit(X,y)"
   ]
  },
  {
   "cell_type": "code",
   "execution_count": 13,
   "metadata": {
    "collapsed": false,
    "deletable": true,
    "editable": true
   },
   "outputs": [
    {
     "data": {
      "text/plain": [
       "Text(0.5,1,'The two models superposed')"
      ]
     },
     "execution_count": 13,
     "metadata": {},
     "output_type": "execute_result"
    },
    {
     "data": {
      "image/png": "[encoded data removed]",
      "text/plain": [
       "<matplotlib.figure.Figure at 0x7f176506ce48>"
      ]
     },
     "metadata": {},
     "output_type": "display_data"
    }
   ],
   "source": [
    "plt.scatter(X[:, 0], X[:, 1], c=y,  cmap=plt.cm.Paired)\n",
    "plot_svc_decision_function(modelLinear)\n",
    "plot_svc_decision_function(modelRbf)\n",
    "plt.title(\"The two models superposed\")"
   ]
  },
  {
   "cell_type": "markdown",
   "metadata": {
    "collapsed": true,
    "deletable": true,
    "editable": true
   },
   "source": [
    "Let us compare the linear and rbf training error using the zero one loss (the proportion of misclassified examples)."
   ]
  },
  {
   "cell_type": "code",
   "execution_count": 14,
   "metadata": {
    "collapsed": false,
    "deletable": true,
    "editable": true
   },
   "outputs": [
    {
     "name": "stdout",
     "output_type": "stream",
     "text": [
      "0/1 loss -- Linear: 0.130      Rbf: 0.020\n"
     ]
    }
   ],
   "source": [
    "from sklearn.metrics import zero_one_loss\n",
    "\n",
    "yFitLinear = modelLinear.predict(X)\n",
    "yFitRbf = modelRbf.predict(X)\n",
    "\n",
    "print(\"0/1 loss -- Linear: {:.3f}      Rbf: {:.3f}\".format(zero_one_loss(y, yFitLinear),zero_one_loss(y, yFitRbf)))"
   ]
  },
  {
   "cell_type": "markdown",
   "metadata": {
    "deletable": true,
    "editable": true
   },
   "source": [
    "### Multiple classes \n",
    "\n",
    "\n",
    "Where there are multiples classes (as in the *iris* dataset of the Pandas notebook), different strategies can be adopted:\n",
    "* Transforming the multiclass problem into a binary one by looking at the *one-vs-rest* problem (for each class construct a binary classifier between it and the rest) or the *one-vs-one* one (where each couple of classes is considered separately). After this transformation, standard binary classifiers can be used.\n",
    "* Using dedicated algorithms such as *decision trees* \n",
    "\n",
    "The corresponding algorithms can be found in the [multiclass module documentation](http://scikit-learn.org/stable/modules/multiclass.html).\n",
    "\n",
    "We are going to illustrate this by the iris 3-class classification problem using only the 2 petal features (width and length, this is only so that the feature vector is 2D and easy to visualize). "
   ]
  },
  {
   "cell_type": "code",
   "execution_count": 15,
   "metadata": {
    "collapsed": true,
    "deletable": true,
    "editable": true
   },
   "outputs": [],
   "source": [
    "import pandas as pd\n",
    "import numpy as np\n",
    "\n",
    "iris = pd.read_csv('data/iris.csv')\n",
    "classes = pd.DataFrame(iris[\"species\"])\n",
    "features = iris.drop([\"species\",\"sepal_length\",\"sepal_width\"],axis=1)"
   ]
  },
  {
   "cell_type": "code",
   "execution_count": 16,
   "metadata": {
    "collapsed": false,
    "deletable": true,
    "editable": true
   },
   "outputs": [
    {
     "data": {
      "text/html": [
       "<div>\n",
       "<table border=\"1\" class=\"dataframe\">\n",
       "  <thead>\n",
       "    <tr style=\"text-align: right;\">\n",
       "      <th></th>\n",
       "      <th>species</th>\n",
       "    </tr>\n",
       "  </thead>\n",
       "  <tbody>\n",
       "    <tr>\n",
       "      <th>21</th>\n",
       "      <td>setosa</td>\n",
       "    </tr>\n",
       "    <tr>\n",
       "      <th>82</th>\n",
       "      <td>versicolor</td>\n",
       "    </tr>\n",
       "    <tr>\n",
       "      <th>98</th>\n",
       "      <td>versicolor</td>\n",
       "    </tr>\n",
       "    <tr>\n",
       "      <th>146</th>\n",
       "      <td>virginica</td>\n",
       "    </tr>\n",
       "    <tr>\n",
       "      <th>45</th>\n",
       "      <td>setosa</td>\n",
       "    </tr>\n",
       "    <tr>\n",
       "      <th>109</th>\n",
       "      <td>virginica</td>\n",
       "    </tr>\n",
       "  </tbody>\n",
       "</table>\n",
       "</div>"
      ],
      "text/plain": [
       "        species\n",
       "21       setosa\n",
       "82   versicolor\n",
       "98   versicolor\n",
       "146   virginica\n",
       "45       setosa\n",
       "109   virginica"
      ]
     },
     "execution_count": 16,
     "metadata": {},
     "output_type": "execute_result"
    }
   ],
   "source": [
    "classes.sample(6)"
   ]
  },
  {
   "cell_type": "code",
   "execution_count": 17,
   "metadata": {
    "collapsed": false,
    "deletable": true,
    "editable": true
   },
   "outputs": [
    {
     "data": {
      "text/html": [
       "<div>\n",
       "<table border=\"1\" class=\"dataframe\">\n",
       "  <thead>\n",
       "    <tr style=\"text-align: right;\">\n",
       "      <th></th>\n",
       "      <th>petal_length</th>\n",
       "      <th>petal_width</th>\n",
       "    </tr>\n",
       "  </thead>\n",
       "  <tbody>\n",
       "    <tr>\n",
       "      <th>51</th>\n",
       "      <td>4.5</td>\n",
       "      <td>1.5</td>\n",
       "    </tr>\n",
       "    <tr>\n",
       "      <th>25</th>\n",
       "      <td>1.6</td>\n",
       "      <td>0.2</td>\n",
       "    </tr>\n",
       "    <tr>\n",
       "      <th>24</th>\n",
       "      <td>1.9</td>\n",
       "      <td>0.2</td>\n",
       "    </tr>\n",
       "    <tr>\n",
       "      <th>98</th>\n",
       "      <td>3.0</td>\n",
       "      <td>1.1</td>\n",
       "    </tr>\n",
       "    <tr>\n",
       "      <th>110</th>\n",
       "      <td>5.1</td>\n",
       "      <td>2.0</td>\n",
       "    </tr>\n",
       "    <tr>\n",
       "      <th>12</th>\n",
       "      <td>1.4</td>\n",
       "      <td>0.1</td>\n",
       "    </tr>\n",
       "  </tbody>\n",
       "</table>\n",
       "</div>"
      ],
      "text/plain": [
       "     petal_length  petal_width\n",
       "51            4.5          1.5\n",
       "25            1.6          0.2\n",
       "24            1.9          0.2\n",
       "98            3.0          1.1\n",
       "110           5.1          2.0\n",
       "12            1.4          0.1"
      ]
     },
     "execution_count": 17,
     "metadata": {},
     "output_type": "execute_result"
    }
   ],
   "source": [
    "features.sample(6)"
   ]
  },
  {
   "cell_type": "code",
   "execution_count": 18,
   "metadata": {
    "collapsed": true,
    "deletable": true,
    "editable": true
   },
   "outputs": [],
   "source": [
    "XTrain, XTest, yTrain, yTest = train_test_split(features,classes,test_size = 0.5)"
   ]
  },
  {
   "cell_type": "code",
   "execution_count": 19,
   "metadata": {
    "collapsed": true,
    "deletable": true,
    "editable": true
   },
   "outputs": [],
   "source": [
    "from sklearn.multiclass import OneVsRestClassifier\n",
    "\n",
    "yPred = OneVsRestClassifier(SVC()).fit(XTrain, yTrain).predict(XTest)"
   ]
  },
  {
   "cell_type": "code",
   "execution_count": 20,
   "metadata": {
    "collapsed": false,
    "deletable": true,
    "editable": true
   },
   "outputs": [
    {
     "name": "stdout",
     "output_type": "stream",
     "text": [
      "['versicolor' 'virginica' 'setosa' 'virginica' 'virginica' 'setosa'\n",
      " 'setosa' 'setosa' 'setosa' 'virginica' 'versicolor' 'virginica'\n",
      " 'versicolor' 'versicolor' 'virginica' 'setosa' 'setosa' 'versicolor'\n",
      " 'versicolor' 'virginica' 'virginica' 'setosa' 'versicolor' 'setosa'\n",
      " 'versicolor' 'versicolor' 'virginica' 'versicolor' 'setosa' 'virginica'\n",
      " 'versicolor' 'virginica' 'setosa' 'virginica' 'virginica' 'setosa'\n",
      " 'setosa' 'versicolor' 'virginica' 'setosa' 'virginica' 'virginica'\n",
      " 'setosa' 'versicolor' 'versicolor' 'virginica' 'setosa' 'virginica'\n",
      " 'virginica' 'setosa' 'setosa' 'versicolor' 'versicolor' 'versicolor'\n",
      " 'setosa' 'setosa' 'setosa' 'virginica' 'virginica' 'setosa' 'virginica'\n",
      " 'setosa' 'virginica' 'versicolor' 'setosa' 'virginica' 'virginica'\n",
      " 'setosa' 'versicolor' 'setosa' 'versicolor' 'setosa' 'virginica'\n",
      " 'virginica' 'setosa']\n"
     ]
    }
   ],
   "source": [
    "print(yPred)  # Note the classes are not number but everything went as expected"
   ]
  },
  {
   "cell_type": "code",
   "execution_count": 21,
   "metadata": {
    "collapsed": false,
    "deletable": true,
    "editable": true
   },
   "outputs": [
    {
     "data": {
      "text/plain": [
       "Text(0.5,15,'predicted label')"
      ]
     },
     "execution_count": 21,
     "metadata": {},
     "output_type": "execute_result"
    },
    {
     "data": {
      "image/png": "[encoded data removed]",
      "text/plain": [
       "<matplotlib.figure.Figure at 0x7f1764fd2e80>"
      ]
     },
     "metadata": {},
     "output_type": "display_data"
    }
   ],
   "source": [
    "class_labels= ['virginica' , 'setosa' , 'versicolor']\n",
    "sns.heatmap(confusion_matrix(yTest, yPred), square=True, annot=True ,cbar=False,  xticklabels= class_labels,  yticklabels=class_labels)\n",
    "plt.ylabel('true label')\n",
    "plt.xlabel('predicted label')"
   ]
  },
  {
   "cell_type": "markdown",
   "metadata": {
    "collapsed": true,
    "deletable": true,
    "editable": true
   },
   "source": [
    "### Other classifiers \n",
    "\n",
    "\n",
    "The main classifiers from Scikit learn are:  *Linear SVM, RBF SVM (as already seen), Nearest Neighbors, Gaussian Process, Decision Tree, Random Forest, Neural Net, AdaBoost, Naive Bayes, QDA*.\n",
    "\n",
    "Use is:\n",
    "    \n",
    "    from sklearn.neural_network import MLPClassifier\n",
    "    from sklearn.neighbors import KNeighborsClassifier\n",
    "    from sklearn.svm import SVC\n",
    "    from sklearn.gaussian_process import GaussianProcessClassifier\n",
    "    from sklearn.gaussian_process.kernels import RBF\n",
    "    from sklearn.tree import DecisionTreeClassifier\n",
    "    from sklearn.ensemble import RandomForestClassifier, AdaBoostClassifier\n",
    "    from sklearn.naive_bayes import GaussianNB\n",
    "    from sklearn.discriminant_analysis import QuadraticDiscriminantAnalysis\n",
    "\n",
    "\n",
    "    classifiers = [\n",
    "    KNeighborsClassifier(3),\n",
    "    SVC(kernel=\"linear\", C=0.025),\n",
    "    SVC(gamma=2, C=1),\n",
    "    GaussianProcessClassifier(1.0 * RBF(1.0), warm_start=True),\n",
    "    DecisionTreeClassifier(max_depth=5),\n",
    "    RandomForestClassifier(max_depth=5, n_estimators=10, max_features=1),\n",
    "    MLPClassifier(alpha=1),\n",
    "    AdaBoostClassifier(),\n",
    "    GaussianNB(),\n",
    "    QuadraticDiscriminantAnalysis()]"
   ]
  },
  {
   "cell_type": "markdown",
   "metadata": {
    "collapsed": true,
    "deletable": true,
    "editable": true
   },
   "source": [
    "## <a id=\"supReg\"> b) Regression</a>  \n",
    "\n",
    "\n",
    "<p style=\"text-align: right; font-size: 10px;\"><a href=\"#top\">Go to top</a></p>\n",
    "\n"
   ]
  },
  {
   "cell_type": "markdown",
   "metadata": {
    "deletable": true,
    "editable": true
   },
   "source": [
    "Let consider the problem of predicting real values from a set of features.\n",
    "\n",
    "We will consider the <a href=\"http://archive.ics.uci.edu/ml/datasets/Student+Performance\">student performance</a> dataset. The goal is to predict the final grade from the other information, we get from the documentation:"
   ]
  },
  {
   "cell_type": "raw",
   "metadata": {
    "deletable": true,
    "editable": true
   },
   "source": [
    "# Attributes for both student-mat.csv (Math course) dataset:\n",
    "1 sex - student's sex (binary: \"F\" - female or \"M\" - male)\n",
    "2 age - student's age (numeric: from 15 to 22)\n",
    "3 address - student's home address type (binary: \"U\" - urban or \"R\" - rural)\n",
    "4 famsize - family size (binary: \"LE3\" - less or equal to 3 or \"GT3\" - greater than 3)\n",
    "5 Pstatus - parent's cohabitation status (binary: \"T\" - living together or \"A\" - apart)\n",
    "6 Medu - mother's education (numeric: 0 - none,  1 - primary education (4th grade), 2 – 5th to 9th grade, 3 – secondary education or 4 – higher education)\n",
    "7 Fedu - father's education (numeric: 0 - none,  1 - primary education (4th grade), 2 – 5th to 9th grade, 3 – secondary education or 4 – higher education)\n",
    "8 traveltime - home to school travel time (numeric: 1 - <15 min., 2 - 15 to 30 min., 3 - 30 min. to 1 hour, or 4 - >1 hour)\n",
    "9 studytime - weekly study time (numeric: 1 - <2 hours, 2 - 2 to 5 hours, 3 - 5 to 10 hours, or 4 - >10 hours)\n",
    "10 failures - number of past class failures (numeric: n if 1<=n<3, else 4)\n",
    "11 schoolsup - extra educational support (binary: yes or no)\n",
    "12 famsup - family educational support (binary: yes or no)\n",
    "13 paid - extra paid classes within the course subject (Math or Portuguese) (binary: yes or no)\n",
    "14 activities - extra-curricular activities (binary: yes or no)\n",
    "15 nursery - attended nursery school (binary: yes or no)\n",
    "16 higher - wants to take higher education (binary: yes or no)\n",
    "17 internet - Internet access at home (binary: yes or no)\n",
    "18 romantic - with a romantic relationship (binary: yes or no)\n",
    "19 famrel - quality of family relationships (numeric: from 1 - very bad to 5 - excellent)\n",
    "20 freetime - free time after school (numeric: from 1 - very low to 5 - very high)\n",
    "21 goout - going out with friends (numeric: from 1 - very low to 5 - very high)\n",
    "22 Dalc - workday alcohol consumption (numeric: from 1 - very low to 5 - very high)\n",
    "23 Walc - weekend alcohol consumption (numeric: from 1 - very low to 5 - very high)\n",
    "24 health - current health status (numeric: from 1 - very bad to 5 - very good)\n",
    "25 absences - number of school absences (numeric: from 0 to 93)\n",
    "26 G1 - first period grade (numeric: from 0 to 20)\n",
    "27 G2 - second period grade (numeric: from 0 to 20)\n",
    "\n",
    "28 G3 - final grade (numeric: from 0 to 20, output target)"
   ]
  },
  {
   "cell_type": "code",
   "execution_count": 22,
   "metadata": {
    "collapsed": false,
    "deletable": true,
    "editable": true
   },
   "outputs": [
    {
     "data": {
      "text/html": [
       "<div>\n",
       "<table border=\"1\" class=\"dataframe\">\n",
       "  <thead>\n",
       "    <tr style=\"text-align: right;\">\n",
       "      <th></th>\n",
       "      <th>sex</th>\n",
       "      <th>age</th>\n",
       "      <th>address</th>\n",
       "      <th>famsize</th>\n",
       "      <th>Pstatus</th>\n",
       "      <th>Medu</th>\n",
       "      <th>Fedu</th>\n",
       "      <th>traveltime</th>\n",
       "      <th>studytime</th>\n",
       "      <th>failures</th>\n",
       "      <th>...</th>\n",
       "      <th>famrel</th>\n",
       "      <th>freetime</th>\n",
       "      <th>goout</th>\n",
       "      <th>Dalc</th>\n",
       "      <th>Walc</th>\n",
       "      <th>health</th>\n",
       "      <th>absences</th>\n",
       "      <th>G1</th>\n",
       "      <th>G2</th>\n",
       "      <th>G3</th>\n",
       "    </tr>\n",
       "  </thead>\n",
       "  <tbody>\n",
       "    <tr>\n",
       "      <th>0</th>\n",
       "      <td>F</td>\n",
       "      <td>18</td>\n",
       "      <td>U</td>\n",
       "      <td>GT3</td>\n",
       "      <td>A</td>\n",
       "      <td>4</td>\n",
       "      <td>4</td>\n",
       "      <td>2</td>\n",
       "      <td>2</td>\n",
       "      <td>0</td>\n",
       "      <td>...</td>\n",
       "      <td>4</td>\n",
       "      <td>3</td>\n",
       "      <td>4</td>\n",
       "      <td>1</td>\n",
       "      <td>1</td>\n",
       "      <td>3</td>\n",
       "      <td>6</td>\n",
       "      <td>5</td>\n",
       "      <td>6</td>\n",
       "      <td>6</td>\n",
       "    </tr>\n",
       "    <tr>\n",
       "      <th>1</th>\n",
       "      <td>F</td>\n",
       "      <td>17</td>\n",
       "      <td>U</td>\n",
       "      <td>GT3</td>\n",
       "      <td>T</td>\n",
       "      <td>1</td>\n",
       "      <td>1</td>\n",
       "      <td>1</td>\n",
       "      <td>2</td>\n",
       "      <td>0</td>\n",
       "      <td>...</td>\n",
       "      <td>5</td>\n",
       "      <td>3</td>\n",
       "      <td>3</td>\n",
       "      <td>1</td>\n",
       "      <td>1</td>\n",
       "      <td>3</td>\n",
       "      <td>4</td>\n",
       "      <td>5</td>\n",
       "      <td>5</td>\n",
       "      <td>6</td>\n",
       "    </tr>\n",
       "    <tr>\n",
       "      <th>2</th>\n",
       "      <td>F</td>\n",
       "      <td>15</td>\n",
       "      <td>U</td>\n",
       "      <td>LE3</td>\n",
       "      <td>T</td>\n",
       "      <td>1</td>\n",
       "      <td>1</td>\n",
       "      <td>1</td>\n",
       "      <td>2</td>\n",
       "      <td>3</td>\n",
       "      <td>...</td>\n",
       "      <td>4</td>\n",
       "      <td>3</td>\n",
       "      <td>2</td>\n",
       "      <td>2</td>\n",
       "      <td>3</td>\n",
       "      <td>3</td>\n",
       "      <td>10</td>\n",
       "      <td>7</td>\n",
       "      <td>8</td>\n",
       "      <td>10</td>\n",
       "    </tr>\n",
       "    <tr>\n",
       "      <th>3</th>\n",
       "      <td>F</td>\n",
       "      <td>15</td>\n",
       "      <td>U</td>\n",
       "      <td>GT3</td>\n",
       "      <td>T</td>\n",
       "      <td>4</td>\n",
       "      <td>2</td>\n",
       "      <td>1</td>\n",
       "      <td>3</td>\n",
       "      <td>0</td>\n",
       "      <td>...</td>\n",
       "      <td>3</td>\n",
       "      <td>2</td>\n",
       "      <td>2</td>\n",
       "      <td>1</td>\n",
       "      <td>1</td>\n",
       "      <td>5</td>\n",
       "      <td>2</td>\n",
       "      <td>15</td>\n",
       "      <td>14</td>\n",
       "      <td>15</td>\n",
       "    </tr>\n",
       "    <tr>\n",
       "      <th>4</th>\n",
       "      <td>F</td>\n",
       "      <td>16</td>\n",
       "      <td>U</td>\n",
       "      <td>GT3</td>\n",
       "      <td>T</td>\n",
       "      <td>3</td>\n",
       "      <td>3</td>\n",
       "      <td>1</td>\n",
       "      <td>2</td>\n",
       "      <td>0</td>\n",
       "      <td>...</td>\n",
       "      <td>4</td>\n",
       "      <td>3</td>\n",
       "      <td>2</td>\n",
       "      <td>1</td>\n",
       "      <td>2</td>\n",
       "      <td>5</td>\n",
       "      <td>4</td>\n",
       "      <td>6</td>\n",
       "      <td>10</td>\n",
       "      <td>10</td>\n",
       "    </tr>\n",
       "  </tbody>\n",
       "</table>\n",
       "<p>5 rows × 28 columns</p>\n",
       "</div>"
      ],
      "text/plain": [
       "  sex  age address famsize Pstatus  Medu  Fedu  traveltime  studytime  \\\n",
       "0   F   18       U     GT3       A     4     4           2          2   \n",
       "1   F   17       U     GT3       T     1     1           1          2   \n",
       "2   F   15       U     LE3       T     1     1           1          2   \n",
       "3   F   15       U     GT3       T     4     2           1          3   \n",
       "4   F   16       U     GT3       T     3     3           1          2   \n",
       "\n",
       "   failures ... famrel freetime goout Dalc Walc health absences  G1  G2  G3  \n",
       "0         0 ...      4        3     4    1    1      3        6   5   6   6  \n",
       "1         0 ...      5        3     3    1    1      3        4   5   5   6  \n",
       "2         3 ...      4        3     2    2    3      3       10   7   8  10  \n",
       "3         0 ...      3        2     2    1    1      5        2  15  14  15  \n",
       "4         0 ...      4        3     2    1    2      5        4   6  10  10  \n",
       "\n",
       "[5 rows x 28 columns]"
      ]
     },
     "execution_count": 22,
     "metadata": {},
     "output_type": "execute_result"
    }
   ],
   "source": [
    "import pandas as pd\n",
    "import numpy as np\n",
    "\n",
    "student = pd.read_csv('data/student-mat.csv')\n",
    "student.head()"
   ]
  },
  {
   "cell_type": "code",
   "execution_count": 23,
   "metadata": {
    "collapsed": true,
    "deletable": true,
    "editable": true
   },
   "outputs": [],
   "source": [
    "target = pd.DataFrame(student[\"G3\"])\n",
    "features = student.drop([\"G3\"],axis=1)"
   ]
  },
  {
   "cell_type": "markdown",
   "metadata": {
    "deletable": true,
    "editable": true
   },
   "source": [
    "One immediate problem here is that the features are not *numeric* (not floats). Thankfully, Scikit Learn provides [encoders](http://scikit-learn.org/stable/modules/generated/sklearn.preprocessing.LabelEncoder.html#sklearn.preprocessing.LabelEncoder) to convert categorical (aka nominal, discrete) features to numerical ones."
   ]
  },
  {
   "cell_type": "code",
   "execution_count": 24,
   "metadata": {
    "collapsed": true,
    "deletable": true,
    "editable": true
   },
   "outputs": [],
   "source": [
    "from sklearn.preprocessing import LabelEncoder\n",
    "\n",
    "lenc = LabelEncoder()\n",
    "num_features = features.apply(lenc.fit_transform)"
   ]
  },
  {
   "cell_type": "code",
   "execution_count": 25,
   "metadata": {
    "collapsed": false,
    "deletable": true,
    "editable": true
   },
   "outputs": [
    {
     "data": {
      "text/html": [
       "<div>\n",
       "<table border=\"1\" class=\"dataframe\">\n",
       "  <thead>\n",
       "    <tr style=\"text-align: right;\">\n",
       "      <th></th>\n",
       "      <th>sex</th>\n",
       "      <th>age</th>\n",
       "      <th>address</th>\n",
       "      <th>famsize</th>\n",
       "      <th>Pstatus</th>\n",
       "      <th>Medu</th>\n",
       "      <th>Fedu</th>\n",
       "      <th>traveltime</th>\n",
       "      <th>studytime</th>\n",
       "      <th>failures</th>\n",
       "      <th>...</th>\n",
       "      <th>romantic</th>\n",
       "      <th>famrel</th>\n",
       "      <th>freetime</th>\n",
       "      <th>goout</th>\n",
       "      <th>Dalc</th>\n",
       "      <th>Walc</th>\n",
       "      <th>health</th>\n",
       "      <th>absences</th>\n",
       "      <th>G1</th>\n",
       "      <th>G2</th>\n",
       "    </tr>\n",
       "  </thead>\n",
       "  <tbody>\n",
       "    <tr>\n",
       "      <th>0</th>\n",
       "      <td>0</td>\n",
       "      <td>3</td>\n",
       "      <td>1</td>\n",
       "      <td>0</td>\n",
       "      <td>0</td>\n",
       "      <td>4</td>\n",
       "      <td>4</td>\n",
       "      <td>1</td>\n",
       "      <td>1</td>\n",
       "      <td>0</td>\n",
       "      <td>...</td>\n",
       "      <td>0</td>\n",
       "      <td>3</td>\n",
       "      <td>2</td>\n",
       "      <td>3</td>\n",
       "      <td>0</td>\n",
       "      <td>0</td>\n",
       "      <td>2</td>\n",
       "      <td>6</td>\n",
       "      <td>2</td>\n",
       "      <td>3</td>\n",
       "    </tr>\n",
       "    <tr>\n",
       "      <th>1</th>\n",
       "      <td>0</td>\n",
       "      <td>2</td>\n",
       "      <td>1</td>\n",
       "      <td>0</td>\n",
       "      <td>1</td>\n",
       "      <td>1</td>\n",
       "      <td>1</td>\n",
       "      <td>0</td>\n",
       "      <td>1</td>\n",
       "      <td>0</td>\n",
       "      <td>...</td>\n",
       "      <td>0</td>\n",
       "      <td>4</td>\n",
       "      <td>2</td>\n",
       "      <td>2</td>\n",
       "      <td>0</td>\n",
       "      <td>0</td>\n",
       "      <td>2</td>\n",
       "      <td>4</td>\n",
       "      <td>2</td>\n",
       "      <td>2</td>\n",
       "    </tr>\n",
       "    <tr>\n",
       "      <th>2</th>\n",
       "      <td>0</td>\n",
       "      <td>0</td>\n",
       "      <td>1</td>\n",
       "      <td>1</td>\n",
       "      <td>1</td>\n",
       "      <td>1</td>\n",
       "      <td>1</td>\n",
       "      <td>0</td>\n",
       "      <td>1</td>\n",
       "      <td>3</td>\n",
       "      <td>...</td>\n",
       "      <td>0</td>\n",
       "      <td>3</td>\n",
       "      <td>2</td>\n",
       "      <td>1</td>\n",
       "      <td>1</td>\n",
       "      <td>2</td>\n",
       "      <td>2</td>\n",
       "      <td>10</td>\n",
       "      <td>4</td>\n",
       "      <td>5</td>\n",
       "    </tr>\n",
       "    <tr>\n",
       "      <th>3</th>\n",
       "      <td>0</td>\n",
       "      <td>0</td>\n",
       "      <td>1</td>\n",
       "      <td>0</td>\n",
       "      <td>1</td>\n",
       "      <td>4</td>\n",
       "      <td>2</td>\n",
       "      <td>0</td>\n",
       "      <td>2</td>\n",
       "      <td>0</td>\n",
       "      <td>...</td>\n",
       "      <td>1</td>\n",
       "      <td>2</td>\n",
       "      <td>1</td>\n",
       "      <td>1</td>\n",
       "      <td>0</td>\n",
       "      <td>0</td>\n",
       "      <td>4</td>\n",
       "      <td>2</td>\n",
       "      <td>12</td>\n",
       "      <td>11</td>\n",
       "    </tr>\n",
       "    <tr>\n",
       "      <th>4</th>\n",
       "      <td>0</td>\n",
       "      <td>1</td>\n",
       "      <td>1</td>\n",
       "      <td>0</td>\n",
       "      <td>1</td>\n",
       "      <td>3</td>\n",
       "      <td>3</td>\n",
       "      <td>0</td>\n",
       "      <td>1</td>\n",
       "      <td>0</td>\n",
       "      <td>...</td>\n",
       "      <td>0</td>\n",
       "      <td>3</td>\n",
       "      <td>2</td>\n",
       "      <td>1</td>\n",
       "      <td>0</td>\n",
       "      <td>1</td>\n",
       "      <td>4</td>\n",
       "      <td>4</td>\n",
       "      <td>3</td>\n",
       "      <td>7</td>\n",
       "    </tr>\n",
       "  </tbody>\n",
       "</table>\n",
       "<p>5 rows × 27 columns</p>\n",
       "</div>"
      ],
      "text/plain": [
       "   sex  age  address  famsize  Pstatus  Medu  Fedu  traveltime  studytime  \\\n",
       "0    0    3        1        0        0     4     4           1          1   \n",
       "1    0    2        1        0        1     1     1           0          1   \n",
       "2    0    0        1        1        1     1     1           0          1   \n",
       "3    0    0        1        0        1     4     2           0          2   \n",
       "4    0    1        1        0        1     3     3           0          1   \n",
       "\n",
       "   failures ...  romantic  famrel  freetime  goout  Dalc  Walc  health  \\\n",
       "0         0 ...         0       3         2      3     0     0       2   \n",
       "1         0 ...         0       4         2      2     0     0       2   \n",
       "2         3 ...         0       3         2      1     1     2       2   \n",
       "3         0 ...         1       2         1      1     0     0       4   \n",
       "4         0 ...         0       3         2      1     0     1       4   \n",
       "\n",
       "   absences  G1  G2  \n",
       "0         6   2   3  \n",
       "1         4   2   2  \n",
       "2        10   4   5  \n",
       "3         2  12  11  \n",
       "4         4   3   7  \n",
       "\n",
       "[5 rows x 27 columns]"
      ]
     },
     "execution_count": 25,
     "metadata": {},
     "output_type": "execute_result"
    }
   ],
   "source": [
    "num_features.head() "
   ]
  },
  {
   "cell_type": "markdown",
   "metadata": {
    "deletable": true,
    "editable": true
   },
   "source": [
    "Even numerical values were encoded, as we are going to normalize, it is not really important. \n",
    "\n",
    "The normalization is done by removing the mean and equalizing the variance per feature, in addition, we are going to add an intercept."
   ]
  },
  {
   "cell_type": "code",
   "execution_count": 26,
   "metadata": {
    "collapsed": true,
    "deletable": true,
    "editable": true
   },
   "outputs": [],
   "source": [
    "from sklearn.preprocessing import StandardScaler, add_dummy_feature\n",
    "\n",
    "scaler = StandardScaler()\n",
    "normFeatures = add_dummy_feature(scaler.fit_transform(num_features))"
   ]
  },
  {
   "cell_type": "code",
   "execution_count": 27,
   "metadata": {
    "collapsed": true,
    "deletable": true,
    "editable": true
   },
   "outputs": [],
   "source": [
    "preproData = pd.DataFrame(normFeatures , columns=[ \"intercept\" ] + list(num_features.columns) )"
   ]
  },
  {
   "cell_type": "code",
   "execution_count": 28,
   "metadata": {
    "collapsed": false,
    "deletable": true,
    "editable": true
   },
   "outputs": [
    {
     "data": {
      "text/html": [
       "<div>\n",
       "<table border=\"1\" class=\"dataframe\">\n",
       "  <thead>\n",
       "    <tr style=\"text-align: right;\">\n",
       "      <th></th>\n",
       "      <th>count</th>\n",
       "      <th>mean</th>\n",
       "      <th>std</th>\n",
       "      <th>min</th>\n",
       "      <th>25%</th>\n",
       "      <th>50%</th>\n",
       "      <th>75%</th>\n",
       "      <th>max</th>\n",
       "    </tr>\n",
       "  </thead>\n",
       "  <tbody>\n",
       "    <tr>\n",
       "      <th>intercept</th>\n",
       "      <td>395.0</td>\n",
       "      <td>1.000000e+00</td>\n",
       "      <td>0.000000</td>\n",
       "      <td>1.000000</td>\n",
       "      <td>1.000000</td>\n",
       "      <td>1.000000</td>\n",
       "      <td>1.000000</td>\n",
       "      <td>1.000000</td>\n",
       "    </tr>\n",
       "    <tr>\n",
       "      <th>sex</th>\n",
       "      <td>395.0</td>\n",
       "      <td>-7.195369e-17</td>\n",
       "      <td>1.001268</td>\n",
       "      <td>-0.948176</td>\n",
       "      <td>-0.948176</td>\n",
       "      <td>-0.948176</td>\n",
       "      <td>1.054656</td>\n",
       "      <td>1.054656</td>\n",
       "    </tr>\n",
       "    <tr>\n",
       "      <th>age</th>\n",
       "      <td>395.0</td>\n",
       "      <td>1.439074e-16</td>\n",
       "      <td>1.001268</td>\n",
       "      <td>-1.330954</td>\n",
       "      <td>-0.546287</td>\n",
       "      <td>0.238380</td>\n",
       "      <td>1.023046</td>\n",
       "      <td>4.161713</td>\n",
       "    </tr>\n",
       "    <tr>\n",
       "      <th>address</th>\n",
       "      <td>395.0</td>\n",
       "      <td>-1.618958e-16</td>\n",
       "      <td>1.001268</td>\n",
       "      <td>-1.867789</td>\n",
       "      <td>0.535392</td>\n",
       "      <td>0.535392</td>\n",
       "      <td>0.535392</td>\n",
       "      <td>0.535392</td>\n",
       "    </tr>\n",
       "    <tr>\n",
       "      <th>famsize</th>\n",
       "      <td>395.0</td>\n",
       "      <td>6.295948e-17</td>\n",
       "      <td>1.001268</td>\n",
       "      <td>-0.636941</td>\n",
       "      <td>-0.636941</td>\n",
       "      <td>-0.636941</td>\n",
       "      <td>1.570004</td>\n",
       "      <td>1.570004</td>\n",
       "    </tr>\n",
       "    <tr>\n",
       "      <th>Pstatus</th>\n",
       "      <td>395.0</td>\n",
       "      <td>-1.349132e-17</td>\n",
       "      <td>1.001268</td>\n",
       "      <td>-2.938392</td>\n",
       "      <td>0.340322</td>\n",
       "      <td>0.340322</td>\n",
       "      <td>0.340322</td>\n",
       "      <td>0.340322</td>\n",
       "    </tr>\n",
       "    <tr>\n",
       "      <th>Medu</th>\n",
       "      <td>395.0</td>\n",
       "      <td>5.396527e-17</td>\n",
       "      <td>1.001268</td>\n",
       "      <td>-2.514630</td>\n",
       "      <td>-0.685387</td>\n",
       "      <td>0.229234</td>\n",
       "      <td>1.143856</td>\n",
       "      <td>1.143856</td>\n",
       "    </tr>\n",
       "    <tr>\n",
       "      <th>Fedu</th>\n",
       "      <td>395.0</td>\n",
       "      <td>-1.439074e-16</td>\n",
       "      <td>1.001268</td>\n",
       "      <td>-2.320084</td>\n",
       "      <td>-0.479857</td>\n",
       "      <td>-0.479857</td>\n",
       "      <td>0.440257</td>\n",
       "      <td>1.360371</td>\n",
       "    </tr>\n",
       "    <tr>\n",
       "      <th>traveltime</th>\n",
       "      <td>395.0</td>\n",
       "      <td>3.597685e-17</td>\n",
       "      <td>1.001268</td>\n",
       "      <td>-0.643249</td>\n",
       "      <td>-0.643249</td>\n",
       "      <td>-0.643249</td>\n",
       "      <td>0.792251</td>\n",
       "      <td>3.663251</td>\n",
       "    </tr>\n",
       "    <tr>\n",
       "      <th>studytime</th>\n",
       "      <td>395.0</td>\n",
       "      <td>4.946817e-17</td>\n",
       "      <td>1.001268</td>\n",
       "      <td>-1.235351</td>\n",
       "      <td>-1.235351</td>\n",
       "      <td>-0.042286</td>\n",
       "      <td>-0.042286</td>\n",
       "      <td>2.343844</td>\n",
       "    </tr>\n",
       "    <tr>\n",
       "      <th>failures</th>\n",
       "      <td>395.0</td>\n",
       "      <td>-1.349132e-17</td>\n",
       "      <td>1.001268</td>\n",
       "      <td>-0.449944</td>\n",
       "      <td>-0.449944</td>\n",
       "      <td>-0.449944</td>\n",
       "      <td>-0.449944</td>\n",
       "      <td>3.589323</td>\n",
       "    </tr>\n",
       "    <tr>\n",
       "      <th>schoolsup</th>\n",
       "      <td>395.0</td>\n",
       "      <td>5.396527e-17</td>\n",
       "      <td>1.001268</td>\n",
       "      <td>-0.385040</td>\n",
       "      <td>-0.385040</td>\n",
       "      <td>-0.385040</td>\n",
       "      <td>-0.385040</td>\n",
       "      <td>2.597133</td>\n",
       "    </tr>\n",
       "    <tr>\n",
       "      <th>famsup</th>\n",
       "      <td>395.0</td>\n",
       "      <td>-9.893633e-17</td>\n",
       "      <td>1.001268</td>\n",
       "      <td>-1.257656</td>\n",
       "      <td>-1.257656</td>\n",
       "      <td>0.795130</td>\n",
       "      <td>0.795130</td>\n",
       "      <td>0.795130</td>\n",
       "    </tr>\n",
       "    <tr>\n",
       "      <th>paid</th>\n",
       "      <td>395.0</td>\n",
       "      <td>-2.698264e-17</td>\n",
       "      <td>1.001268</td>\n",
       "      <td>-0.919671</td>\n",
       "      <td>-0.919671</td>\n",
       "      <td>-0.919671</td>\n",
       "      <td>1.087346</td>\n",
       "      <td>1.087346</td>\n",
       "    </tr>\n",
       "    <tr>\n",
       "      <th>activities</th>\n",
       "      <td>395.0</td>\n",
       "      <td>-9.893633e-17</td>\n",
       "      <td>1.001268</td>\n",
       "      <td>-1.017881</td>\n",
       "      <td>-1.017881</td>\n",
       "      <td>0.982433</td>\n",
       "      <td>0.982433</td>\n",
       "      <td>0.982433</td>\n",
       "    </tr>\n",
       "    <tr>\n",
       "      <th>nursery</th>\n",
       "      <td>395.0</td>\n",
       "      <td>-2.698264e-17</td>\n",
       "      <td>1.001268</td>\n",
       "      <td>-1.968894</td>\n",
       "      <td>0.507899</td>\n",
       "      <td>0.507899</td>\n",
       "      <td>0.507899</td>\n",
       "      <td>0.507899</td>\n",
       "    </tr>\n",
       "    <tr>\n",
       "      <th>higher</th>\n",
       "      <td>395.0</td>\n",
       "      <td>2.248553e-16</td>\n",
       "      <td>1.001268</td>\n",
       "      <td>-4.330127</td>\n",
       "      <td>0.230940</td>\n",
       "      <td>0.230940</td>\n",
       "      <td>0.230940</td>\n",
       "      <td>0.230940</td>\n",
       "    </tr>\n",
       "    <tr>\n",
       "      <th>internet</th>\n",
       "      <td>395.0</td>\n",
       "      <td>-1.798842e-17</td>\n",
       "      <td>1.001268</td>\n",
       "      <td>-2.232677</td>\n",
       "      <td>0.447893</td>\n",
       "      <td>0.447893</td>\n",
       "      <td>0.447893</td>\n",
       "      <td>0.447893</td>\n",
       "    </tr>\n",
       "    <tr>\n",
       "      <th>romantic</th>\n",
       "      <td>395.0</td>\n",
       "      <td>-8.994212e-17</td>\n",
       "      <td>1.001268</td>\n",
       "      <td>-0.708450</td>\n",
       "      <td>-0.708450</td>\n",
       "      <td>-0.708450</td>\n",
       "      <td>1.411533</td>\n",
       "      <td>1.411533</td>\n",
       "    </tr>\n",
       "    <tr>\n",
       "      <th>famrel</th>\n",
       "      <td>395.0</td>\n",
       "      <td>-1.394103e-16</td>\n",
       "      <td>1.001268</td>\n",
       "      <td>-3.287804</td>\n",
       "      <td>0.062194</td>\n",
       "      <td>0.062194</td>\n",
       "      <td>1.178860</td>\n",
       "      <td>1.178860</td>\n",
       "    </tr>\n",
       "    <tr>\n",
       "      <th>freetime</th>\n",
       "      <td>395.0</td>\n",
       "      <td>1.079305e-16</td>\n",
       "      <td>1.001268</td>\n",
       "      <td>-2.240828</td>\n",
       "      <td>-0.236010</td>\n",
       "      <td>-0.236010</td>\n",
       "      <td>0.766399</td>\n",
       "      <td>1.768808</td>\n",
       "    </tr>\n",
       "    <tr>\n",
       "      <th>goout</th>\n",
       "      <td>395.0</td>\n",
       "      <td>-1.214219e-16</td>\n",
       "      <td>1.001268</td>\n",
       "      <td>-1.896683</td>\n",
       "      <td>-0.997295</td>\n",
       "      <td>-0.097908</td>\n",
       "      <td>0.801479</td>\n",
       "      <td>1.700867</td>\n",
       "    </tr>\n",
       "    <tr>\n",
       "      <th>Dalc</th>\n",
       "      <td>395.0</td>\n",
       "      <td>7.195369e-17</td>\n",
       "      <td>1.001268</td>\n",
       "      <td>-0.540699</td>\n",
       "      <td>-0.540699</td>\n",
       "      <td>-0.540699</td>\n",
       "      <td>0.583385</td>\n",
       "      <td>3.955638</td>\n",
       "    </tr>\n",
       "    <tr>\n",
       "      <th>Walc</th>\n",
       "      <td>395.0</td>\n",
       "      <td>8.094791e-17</td>\n",
       "      <td>1.001268</td>\n",
       "      <td>-1.003789</td>\n",
       "      <td>-1.003789</td>\n",
       "      <td>-0.226345</td>\n",
       "      <td>0.551100</td>\n",
       "      <td>2.105989</td>\n",
       "    </tr>\n",
       "    <tr>\n",
       "      <th>health</th>\n",
       "      <td>395.0</td>\n",
       "      <td>7.195369e-17</td>\n",
       "      <td>1.001268</td>\n",
       "      <td>-1.839649</td>\n",
       "      <td>-0.399289</td>\n",
       "      <td>0.320890</td>\n",
       "      <td>1.041070</td>\n",
       "      <td>1.041070</td>\n",
       "    </tr>\n",
       "    <tr>\n",
       "      <th>absences</th>\n",
       "      <td>395.0</td>\n",
       "      <td>5.396527e-17</td>\n",
       "      <td>1.001268</td>\n",
       "      <td>-0.842509</td>\n",
       "      <td>-0.842509</td>\n",
       "      <td>-0.221630</td>\n",
       "      <td>0.399249</td>\n",
       "      <td>4.279742</td>\n",
       "    </tr>\n",
       "    <tr>\n",
       "      <th>G1</th>\n",
       "      <td>395.0</td>\n",
       "      <td>-1.214219e-16</td>\n",
       "      <td>1.001268</td>\n",
       "      <td>-2.385787</td>\n",
       "      <td>-0.877487</td>\n",
       "      <td>0.027493</td>\n",
       "      <td>0.630813</td>\n",
       "      <td>2.440773</td>\n",
       "    </tr>\n",
       "    <tr>\n",
       "      <th>G2</th>\n",
       "      <td>395.0</td>\n",
       "      <td>2.248553e-17</td>\n",
       "      <td>1.001268</td>\n",
       "      <td>-2.229107</td>\n",
       "      <td>-0.517187</td>\n",
       "      <td>0.053452</td>\n",
       "      <td>0.624092</td>\n",
       "      <td>2.336011</td>\n",
       "    </tr>\n",
       "  </tbody>\n",
       "</table>\n",
       "</div>"
      ],
      "text/plain": [
       "            count          mean       std       min       25%       50%  \\\n",
       "intercept   395.0  1.000000e+00  0.000000  1.000000  1.000000  1.000000   \n",
       "sex         395.0 -7.195369e-17  1.001268 -0.948176 -0.948176 -0.948176   \n",
       "age         395.0  1.439074e-16  1.001268 -1.330954 -0.546287  0.238380   \n",
       "address     395.0 -1.618958e-16  1.001268 -1.867789  0.535392  0.535392   \n",
       "famsize     395.0  6.295948e-17  1.001268 -0.636941 -0.636941 -0.636941   \n",
       "Pstatus     395.0 -1.349132e-17  1.001268 -2.938392  0.340322  0.340322   \n",
       "Medu        395.0  5.396527e-17  1.001268 -2.514630 -0.685387  0.229234   \n",
       "Fedu        395.0 -1.439074e-16  1.001268 -2.320084 -0.479857 -0.479857   \n",
       "traveltime  395.0  3.597685e-17  1.001268 -0.643249 -0.643249 -0.643249   \n",
       "studytime   395.0  4.946817e-17  1.001268 -1.235351 -1.235351 -0.042286   \n",
       "failures    395.0 -1.349132e-17  1.001268 -0.449944 -0.449944 -0.449944   \n",
       "schoolsup   395.0  5.396527e-17  1.001268 -0.385040 -0.385040 -0.385040   \n",
       "famsup      395.0 -9.893633e-17  1.001268 -1.257656 -1.257656  0.795130   \n",
       "paid        395.0 -2.698264e-17  1.001268 -0.919671 -0.919671 -0.919671   \n",
       "activities  395.0 -9.893633e-17  1.001268 -1.017881 -1.017881  0.982433   \n",
       "nursery     395.0 -2.698264e-17  1.001268 -1.968894  0.507899  0.507899   \n",
       "higher      395.0  2.248553e-16  1.001268 -4.330127  0.230940  0.230940   \n",
       "internet    395.0 -1.798842e-17  1.001268 -2.232677  0.447893  0.447893   \n",
       "romantic    395.0 -8.994212e-17  1.001268 -0.708450 -0.708450 -0.708450   \n",
       "famrel      395.0 -1.394103e-16  1.001268 -3.287804  0.062194  0.062194   \n",
       "freetime    395.0  1.079305e-16  1.001268 -2.240828 -0.236010 -0.236010   \n",
       "goout       395.0 -1.214219e-16  1.001268 -1.896683 -0.997295 -0.097908   \n",
       "Dalc        395.0  7.195369e-17  1.001268 -0.540699 -0.540699 -0.540699   \n",
       "Walc        395.0  8.094791e-17  1.001268 -1.003789 -1.003789 -0.226345   \n",
       "health      395.0  7.195369e-17  1.001268 -1.839649 -0.399289  0.320890   \n",
       "absences    395.0  5.396527e-17  1.001268 -0.842509 -0.842509 -0.221630   \n",
       "G1          395.0 -1.214219e-16  1.001268 -2.385787 -0.877487  0.027493   \n",
       "G2          395.0  2.248553e-17  1.001268 -2.229107 -0.517187  0.053452   \n",
       "\n",
       "                 75%       max  \n",
       "intercept   1.000000  1.000000  \n",
       "sex         1.054656  1.054656  \n",
       "age         1.023046  4.161713  \n",
       "address     0.535392  0.535392  \n",
       "famsize     1.570004  1.570004  \n",
       "Pstatus     0.340322  0.340322  \n",
       "Medu        1.143856  1.143856  \n",
       "Fedu        0.440257  1.360371  \n",
       "traveltime  0.792251  3.663251  \n",
       "studytime  -0.042286  2.343844  \n",
       "failures   -0.449944  3.589323  \n",
       "schoolsup  -0.385040  2.597133  \n",
       "famsup      0.795130  0.795130  \n",
       "paid        1.087346  1.087346  \n",
       "activities  0.982433  0.982433  \n",
       "nursery     0.507899  0.507899  \n",
       "higher      0.230940  0.230940  \n",
       "internet    0.447893  0.447893  \n",
       "romantic    1.411533  1.411533  \n",
       "famrel      1.178860  1.178860  \n",
       "freetime    0.766399  1.768808  \n",
       "goout       0.801479  1.700867  \n",
       "Dalc        0.583385  3.955638  \n",
       "Walc        0.551100  2.105989  \n",
       "health      1.041070  1.041070  \n",
       "absences    0.399249  4.279742  \n",
       "G1          0.630813  2.440773  \n",
       "G2          0.624092  2.336011  "
      ]
     },
     "execution_count": 28,
     "metadata": {},
     "output_type": "execute_result"
    }
   ],
   "source": [
    "preproData.describe().T"
   ]
  },
  {
   "cell_type": "markdown",
   "metadata": {
    "deletable": true,
    "editable": true
   },
   "source": [
    "### Regression and Feature selection with the Lasso\n",
    "\n",
    "The lasso problem is finding a regressor $w$ such that minimizes\n",
    "$$  \\frac{1}{2 n_{samples}} \\|X w - y ||^2_2 + \\alpha \\|w\\|_1 $$\n",
    "\n",
    "and is popular for prediction as it simultaneously *selects features* thanks to the $\\ell_1$-term. The greater $\\alpha$ the fewer features."
   ]
  },
  {
   "cell_type": "code",
   "execution_count": 29,
   "metadata": {
    "collapsed": false,
    "deletable": true,
    "editable": true
   },
   "outputs": [
    {
     "data": {
      "text/plain": [
       "Lasso(alpha=0.1, copy_X=True, fit_intercept=True, max_iter=1000,\n",
       "   normalize=False, positive=False, precompute=False, random_state=None,\n",
       "   selection='cyclic', tol=0.0001, warm_start=False)"
      ]
     },
     "execution_count": 29,
     "metadata": {},
     "output_type": "execute_result"
    }
   ],
   "source": [
    "try:\n",
    "    from sklearn.model_selection import train_test_split    # sklearn > ...\n",
    "except:\n",
    "    from sklearn.cross_validation import train_test_split   # sklearn < ...\n",
    "    \n",
    "    \n",
    "from sklearn.linear_model import Lasso\n",
    "\n",
    "XTrain, XTest, yTrain, yTest = train_test_split(preproData,target,test_size = 0.25)\n",
    "\n",
    "model = Lasso(alpha=0.1)\n",
    "model.fit(XTrain,yTrain)"
   ]
  },
  {
   "cell_type": "markdown",
   "metadata": {
    "deletable": true,
    "editable": true
   },
   "source": [
    "We can observe the regressor $w$ provided by the model, notice the sparsity."
   ]
  },
  {
   "cell_type": "code",
   "execution_count": 30,
   "metadata": {
    "collapsed": false,
    "deletable": true,
    "editable": true
   },
   "outputs": [
    {
     "data": {
      "text/plain": [
       "array([ 0.        ,  0.        , -0.04208201, -0.        ,  0.        ,\n",
       "       -0.        ,  0.        , -0.        ,  0.        , -0.07886495,\n",
       "       -0.10118205,  0.03990657,  0.        ,  0.        , -0.01757353,\n",
       "       -0.02252508,  0.        , -0.05673709, -0.08443742,  0.21977457,\n",
       "        0.        ,  0.        , -0.        ,  0.        ,  0.0457066 ,\n",
       "        0.44355835,  0.        ,  4.10645951])"
      ]
     },
     "execution_count": 30,
     "metadata": {},
     "output_type": "execute_result"
    }
   ],
   "source": [
    "model.coef_"
   ]
  },
  {
   "cell_type": "markdown",
   "metadata": {
    "deletable": true,
    "editable": true
   },
   "source": [
    "We can observe which coefficients are put to $0$ and which ones are positively/negatively correlated."
   ]
  },
  {
   "cell_type": "code",
   "execution_count": 31,
   "metadata": {
    "collapsed": false,
    "deletable": true,
    "editable": true
   },
   "outputs": [
    {
     "name": "stdout",
     "output_type": "stream",
     "text": [
      "Value    Feature\n",
      " 0.000      intercept\n",
      " 0.000      sex\n",
      "-0.042      age\n",
      "-0.000      address\n",
      " 0.000      famsize\n",
      "-0.000      Pstatus\n",
      " 0.000      Medu\n",
      "-0.000      Fedu\n",
      " 0.000      traveltime\n",
      "-0.079      studytime\n",
      "-0.101      failures\n",
      " 0.040      schoolsup\n",
      " 0.000      famsup\n",
      " 0.000      paid\n",
      "-0.018      activities\n",
      "-0.023      nursery\n",
      " 0.000      higher\n",
      "-0.057      internet\n",
      "-0.084      romantic\n",
      " 0.220      famrel\n",
      " 0.000      freetime\n",
      " 0.000      goout\n",
      "-0.000      Dalc\n",
      " 0.000      Walc\n",
      " 0.046      health\n",
      " 0.444      absences\n",
      " 0.000      G1\n",
      " 4.106      G2\n"
     ]
    }
   ],
   "source": [
    "print(\"Value    Feature\")\n",
    "for idx,val in enumerate(model.coef_):\n",
    "    print(\"{:6.3f}      {}\".format(val,preproData.columns[idx]))"
   ]
  },
  {
   "cell_type": "markdown",
   "metadata": {
    "deletable": true,
    "editable": true
   },
   "source": [
    "Let us take a look at our predictions."
   ]
  },
  {
   "cell_type": "code",
   "execution_count": 32,
   "metadata": {
    "collapsed": false,
    "deletable": true,
    "editable": true
   },
   "outputs": [
    {
     "name": "stdout",
     "output_type": "stream",
     "text": [
      "Predicted    True\n",
      " 3.4          0\n",
      " 9.5          9\n",
      " 8.7          9\n",
      "14.2          14\n",
      "15.2          15\n",
      "14.8          13\n",
      "16.0          16\n",
      " 5.2          6\n",
      "10.2          12\n",
      " 8.0          8\n",
      "13.3          14\n",
      " 7.8          9\n",
      " 8.2          10\n",
      "12.4          13\n",
      "12.9          12\n",
      " 6.9          8\n",
      "12.6          11\n",
      " 3.8          6\n",
      "12.6          12\n",
      " 6.7          8\n",
      " 1.3          0\n",
      "14.6          15\n",
      "15.4          16\n",
      "10.4          11\n",
      "13.7          14\n",
      "14.2          13\n",
      " 4.9          8\n",
      " 9.7          11\n",
      " 0.7          0\n",
      " 7.1          8\n",
      "10.1          8\n",
      " 8.6          10\n",
      " 5.8          8\n",
      "10.4          10\n",
      "15.2          16\n",
      " 8.2          10\n",
      "14.7          15\n",
      " 8.1          10\n",
      "15.2          15\n",
      "20.5          19\n",
      "15.4          15\n",
      "12.8          13\n",
      " 9.4          12\n",
      " 9.4          11\n",
      " 1.6          0\n",
      " 5.8          8\n",
      "16.3          16\n",
      " 6.0          0\n",
      "10.7          12\n",
      " 9.0          10\n",
      " 7.6          8\n",
      " 3.9          0\n",
      "15.9          15\n",
      "20.3          19\n",
      " 8.4          10\n",
      " 8.7          9\n",
      "18.7          19\n",
      "18.7          18\n",
      "11.8          12\n",
      "12.0          13\n",
      "14.5          14\n",
      "19.7          20\n",
      "13.2          12\n",
      "14.4          16\n",
      "11.5          12\n",
      " 9.8          10\n",
      " 4.3          5\n",
      " 7.7          0\n",
      "18.9          18\n",
      "18.1          17\n",
      " 7.6          11\n",
      "12.6          13\n",
      "11.7          12\n",
      "10.4          11\n",
      " 0.7          0\n",
      " 5.1          6\n",
      "11.2          13\n",
      " 7.8          10\n",
      " 7.1          8\n",
      " 7.2          8\n",
      "12.8          13\n",
      " 5.9          8\n",
      " 0.4          0\n",
      " 8.8          9\n",
      "11.0          11\n",
      "12.1          11\n",
      "11.8          12\n",
      " 5.8          8\n",
      " 9.7          8\n",
      " 9.8          11\n",
      " 6.0          6\n",
      " 8.6          10\n",
      " 9.4          9\n",
      "11.9          11\n",
      "14.2          14\n",
      "10.4          11\n",
      " 1.3          0\n",
      " 7.9          9\n",
      " 9.9          10\n"
     ]
    }
   ],
   "source": [
    "targetPred = model.predict(XTest)\n",
    "\n",
    "print(\"Predicted    True\")\n",
    "for idx,val in enumerate(targetPred):\n",
    "    print(\"{:4.1f}          {:.0f}\".format(val,float(yTest.iloc[idx])))"
   ]
  },
  {
   "cell_type": "markdown",
   "metadata": {
    "deletable": true,
    "editable": true
   },
   "source": [
    "### Regularization path\n",
    "\n",
    "Selecting a good parameter $\\alpha$ is the role of the data scientist. For instance, a easy way to do is the following. "
   ]
  },
  {
   "cell_type": "code",
   "execution_count": 33,
   "metadata": {
    "collapsed": false,
    "deletable": true,
    "editable": true
   },
   "outputs": [
    {
     "name": "stdout",
     "output_type": "stream",
     "text": [
      "[  9.76562500e-04   1.68354067e-03   2.90233260e-03   5.00346363e-03\n",
      "   8.62569933e-03   1.48702368e-02   2.56354799e-02   4.41941738e-02\n",
      "   7.61883534e-02   1.31344580e-01   2.26430916e-01   3.90354591e-01\n",
      "   6.72950096e-01   1.16012939e+00   2.00000000e+00]\n"
     ]
    }
   ],
   "source": [
    "n_test = 15\n",
    "alpha_tab = np.logspace(-10,1,base=2,num = n_test)\n",
    "print(alpha_tab)"
   ]
  },
  {
   "cell_type": "code",
   "execution_count": 34,
   "metadata": {
    "collapsed": true,
    "deletable": true,
    "editable": true
   },
   "outputs": [],
   "source": [
    "trainError = np.zeros(n_test)\n",
    "testError = np.zeros(n_test)\n",
    "featureNum = np.zeros(n_test)\n",
    "\n",
    "for idx,alpha in enumerate(alpha_tab):\n",
    "    model = Lasso(alpha=alpha)\n",
    "    model.fit(XTrain,yTrain)\n",
    "    yPredTrain = model.predict(XTrain)\n",
    "    yPredTest = model.predict(XTest)\n",
    "    \n",
    "    trainError[idx] = np.linalg.norm(yPredTrain-yTrain[\"G3\"].values)/yTrain.count()\n",
    "    testError[idx] = np.linalg.norm(yPredTest-yTest[\"G3\"].values)/yTest.count()\n",
    "    featureNum[idx] = sum(model.coef_!=0)\n",
    "\n",
    "    \n",
    "alpha_opt = alpha_tab[np.argmin(testError)]\n"
   ]
  },
  {
   "cell_type": "code",
   "execution_count": 35,
   "metadata": {
    "collapsed": false,
    "deletable": true,
    "editable": true
   },
   "outputs": [
    {
     "data": {
      "text/plain": [
       "Text(0.5,0,'alpha')"
      ]
     },
     "execution_count": 35,
     "metadata": {},
     "output_type": "execute_result"
    },
    {
     "data": {
      "image/png": "[encoded data removed]",
      "text/plain": [
       "<matplotlib.figure.Figure at 0x7f1764fdfac8>"
      ]
     },
     "metadata": {},
     "output_type": "display_data"
    }
   ],
   "source": [
    "import matplotlib.pyplot as plt\n",
    "import seaborn as sns\n",
    "sns.set()\n",
    "%matplotlib inline\n",
    "\n",
    "\n",
    "plt.subplot(311)\n",
    "plt.xscale(\"log\")\n",
    "plt.plot(alpha_tab, trainError,label=\"train error\")\n",
    "plt.xlim([min(alpha_tab),max(alpha_tab)])\n",
    "plt.legend()\n",
    "plt.xticks([])\n",
    "plt.axvline(x=alpha_opt)\n",
    "plt.ylabel(\"error\")\n",
    "\n",
    "plt.subplot(312)\n",
    "plt.xscale(\"log\")\n",
    "plt.plot(alpha_tab, testError,'r',label=\"test error\")\n",
    "plt.xlim([min(alpha_tab),max(alpha_tab)])\n",
    "#plt.ylim([0.19, 0.21])\n",
    "plt.legend()\n",
    "plt.axvline(x=alpha_opt)\n",
    "plt.xticks([])\n",
    "plt.ylabel(\"error\")\n",
    "\n",
    "plt.subplot(313)\n",
    "plt.xscale(\"log\")\n",
    "plt.scatter(alpha_tab, featureNum)\n",
    "plt.xlim([min(alpha_tab),max(alpha_tab)])\n",
    "plt.ylim([0,28])\n",
    "plt.axvline(x=alpha_opt)\n",
    "plt.ylabel(\"nb. of features\")\n",
    "plt.xlabel(\"alpha\")\n",
    "\n"
   ]
  },
  {
   "cell_type": "markdown",
   "metadata": {
    "deletable": true,
    "editable": true
   },
   "source": [
    "## <a id=\"supExo\"> c) Exercises </a>  \n",
    "\n",
    "\n",
    "<p style=\"text-align: right; font-size: 10px;\"><a href=\"#top\">Go to top</a></p>\n",
    "\n"
   ]
  },
  {
   "cell_type": "markdown",
   "metadata": {
    "deletable": true,
    "editable": true
   },
   "source": [
    "<div class=\"exo\"> <b>Exercise 4.2.1:</b> \n",
    "a very popular binary classification exercise is the <a href=\"https://www.kaggle.com/c/titanic\">survival prediction from Titanic shipwreck on Kaggle</a>. <br/><br/>\n",
    "\n",
    "<i> The sinking of the RMS Titanic is one of the most infamous shipwrecks in history.  On April 15, 1912, during her maiden voyage, the Titanic sank after colliding with an iceberg, killing 1502 out of 2224 passengers and crew. This sensational tragedy shocked the international community and led to better safety regulations for ships.<br/>\n",
    "\n",
    "    One of the reasons that the shipwreck led to such loss of life was that there were not enough lifeboats for the passengers and crew. Although there was some element of luck involved in surviving the sinking, some groups of people were more likely to survive than others, such as women, children, and the upper-class.<br/>\n",
    "\n",
    "    In this challenge, we ask you to complete the analysis of what sorts of people were likely to survive. In particular, we ask you to apply the tools of machine learning to predict which passengers survived the tragedy.<br/><br/><br/></i>\n",
    "    \n",
    "    \n",
    "The data - taken from <a href=\"https://www.kaggle.com/c/titanic\">Kaggle</a> - is located in <tt>data/titanic/train.csv</tt> and has the following form:\n",
    "\n",
    "<table>\n",
    "<tbody>\n",
    "<tr><th><b>Feature</b></th><th><b>Definition</b></th><th><b>Comment</b></th></tr>\n",
    "<tr>\n",
    "<td>PassengerId</td>\n",
    "<td>ID</td>\n",
    "<td>numeric</td>\n",
    "</tr>\n",
    "<tr>\n",
    "<td>Survival</td>\n",
    "<td>Survival of the passenger</td>\n",
    "<td>0 = No, 1 = Yes <b>target to predict</b></td>\n",
    "</tr>\n",
    "<tr>\n",
    "<td>Pclass</td>\n",
    "<td>Ticket class</td>\n",
    "<td>1 = 1st, 2 = 2nd, 3 = 3rd</td>\n",
    "</tr>\n",
    "<tr>\n",
    "<td>Name</td>\n",
    "<td>Full name w/ Mr. Mrs. etc.</td>\n",
    "<td>string</td>\n",
    "</tr>\n",
    "<tr>\n",
    "<td>Sex</td>\n",
    "<td>Sex</td>\n",
    "<td><tt>male</tt> or <tt>female</tt></td>\n",
    "</tr>\n",
    "<tr>\n",
    "<td>Age</td>\n",
    "<td>Age in years</td>\n",
    "<td>numeric</td>\n",
    "</tr>\n",
    "<tr>\n",
    "<td>SibSp</td>\n",
    "<td># of siblings / spouses aboard the Titanic</td>\n",
    "<td>numeric</td>\n",
    "</tr>\n",
    "<tr>\n",
    "<td>Parch</td>\n",
    "<td># of parents / children aboard the Titanic</td>\n",
    "<td></td>\n",
    "</tr>\n",
    "<tr>\n",
    "<td>Ticket</td>\n",
    "<td>Ticket number</td>\n",
    "<td>quite messy</td>\n",
    "</tr>\n",
    "<tr>\n",
    "<td>Fare</td>\n",
    "<td>Passenger fare</td>\n",
    "<td></td>\n",
    "</tr>\n",
    "<tr>\n",
    "<td>cabin</td>\n",
    "<td>Cabin number</td>\n",
    "<td>letter + number (e.g. C85), often missing</td>\n",
    "</tr>\n",
    "<tr>\n",
    "<td>Embarked</td>\n",
    "<td>Port of Embarkation</td>\n",
    "<td>C = Cherbourg, Q = Queenstown, S = Southampton</td>\n",
    "</tr>\n",
    "</tbody>\n",
    "</table>\n",
    "\n",
    "<ul>\n",
    "<li> Load the dataset and preprocess the features. (you can remove features that seem uninteresting to you).\n",
    "<li> Perform binary classification to predict the survival of a passenger depending on its information and validate you approach.\n",
    "<li> Perform some feature engineering to improve the performance of you classifier (see e.g. <a href=\"https://triangleinequality.wordpress.com/2013/09/08/basic-feature-engineering-with-the-titanic-data/\">here</a>)\n",
    "</ul>\n",
    "</div>"
   ]
  },
  {
   "cell_type": "code",
   "execution_count": null,
   "metadata": {
    "collapsed": true,
    "deletable": true,
    "editable": true
   },
   "outputs": [],
   "source": []
  },
  {
   "cell_type": "markdown",
   "metadata": {
    "deletable": true,
    "editable": true
   },
   "source": [
    "<div class=\"exo\"> <b>Exercise 4.2.2:</b> \n",
    "a very popular regression exercise is the <a href=\"https://www.kaggle.com/c/house-prices-advanced-regression-techniques\">house price prediction in Ames, Iowa on Kaggle</a>. <br/><br/>\n",
    "\n",
    "\n",
    "The data - taken from <a href=\"https://www.kaggle.com/c/house-prices-advanced-regression-techniques\">Kaggle</a> - is located in <tt>data/house_prices/train.csv</tt>.\n",
    "\n",
    "<ul>\n",
    "<li> Try to reach the best accurracy in terms of mean absolute error on the log of the prices ($Error = \\frac{1}{n} \\sum_{i=1}^n | \\log(predicted_i) - \\log(true_i) |$).\n",
    "<li> Which features (original or made up) are the most relevant?\n",
    "</ul>\n",
    "</div>"
   ]
  },
  {
   "cell_type": "code",
   "execution_count": null,
   "metadata": {
    "collapsed": true,
    "deletable": true,
    "editable": true
   },
   "outputs": [],
   "source": []
  },
  {
   "cell_type": "markdown",
   "metadata": {
    "deletable": true,
    "editable": true
   },
   "source": [
    "---\n",
    "<div id=\"style\"></div>\n",
    "### Package Check and Styling\n",
    "\n",
    "\n",
    "<p style=\"text-align: right; font-size: 10px;\"><a href=\"#top\">Go to top</a></p>\n"
   ]
  },
  {
   "cell_type": "code",
   "execution_count": 36,
   "metadata": {
    "collapsed": false,
    "deletable": true,
    "editable": true
   },
   "outputs": [
    {
     "name": "stdout",
     "output_type": "stream",
     "text": [
      "[Python version] \t3.5.6 (default, Nov 16 2018, 15:51:11) \n",
      "[GCC 4.8.5 20150623 (Red Hat 4.8.5-28)]\n",
      "\n",
      "[Packages versions]\n",
      "\n",
      "IPython             :\t5.0.0\n",
      "numpy               :\t1.13.3\n",
      "scipy               :\t1.0.0\n",
      "matplotlib          :\t2.1.0\n",
      "cvxopt              :\trefs/__gh__/pull/11/rebase\n",
      "pandas              :\t0.19.2\n",
      "seaborn             :\t0.9.0\n",
      "sklearn             :\t0.18.1\n",
      "tensorflow has to be installed\n"
     ]
    },
    {
     "data": {
      "text/html": [
       "<style>\n",
       "div.warn {    \n",
       "    background-color: #fcf2f2;\n",
       "    border-color: #dFb5b4;\n",
       "    border-left: 5px solid #dfb5b4;\n",
       "    padding: 0.5em;\n",
       "    }\n",
       "\n",
       "\n",
       "div.exo {    \n",
       "    background-color: #e6ffe6;\n",
       "    border-color: #006400;\n",
       "    border-left: 5px solid #006400;\n",
       "    padding: 0.5em;\n",
       "    }\n",
       "\n",
       "\n",
       "\n",
       "tt {    \n",
       "    background-color: #e7e7e7;\n",
       "    font-size: 13px;\n",
       "    }\n",
       " </style>\n",
       "\n",
       "\n",
       "\n"
      ],
      "text/plain": [
       "<IPython.core.display.HTML object>"
      ]
     },
     "execution_count": 36,
     "metadata": {},
     "output_type": "execute_result"
    }
   ],
   "source": [
    "import lib.notebook_setting as nbs\n",
    "\n",
    "packageList = ['IPython', 'numpy', 'scipy', 'matplotlib', 'cvxopt', 'pandas', 'seaborn', 'sklearn', 'tensorflow']\n",
    "nbs.packageCheck(packageList)\n",
    "\n",
    "nbs.cssStyling()"
   ]
  }
 ],
 "metadata": {
  "kernelspec": {
   "display_name": "Python 3",
   "language": "python",
   "name": "python3"
  },
  "language_info": {
   "codemirror_mode": {
    "name": "ipython",
    "version": 3
   },
   "file_extension": ".py",
   "mimetype": "text/x-python",
   "name": "python",
   "nbconvert_exporter": "python",
   "pygments_lexer": "ipython3",
   "version": "3.5.6"
  },
  "varInspector": {
   "cols": {
    "lenName": 16,
    "lenType": 16,
    "lenVar": 40
   },
   "kernels_config": {
    "python": {
     "delete_cmd_postfix": "",
     "delete_cmd_prefix": "del ",
     "library": "var_list.py",
     "varRefreshCmd": "print(var_dic_list())"
    },
    "r": {
     "delete_cmd_postfix": ") ",
     "delete_cmd_prefix": "rm(",
     "library": "var_list.r",
     "varRefreshCmd": "cat(var_dic_list()) "
    }
   },
   "position": {
    "height": "462px",
    "left": "1160px",
    "right": "47px",
    "top": "174px",
    "width": "553px"
   },
   "types_to_exclude": [
    "module",
    "function",
    "builtin_function_or_method",
    "instance",
    "_Feature"
   ],
   "window_display": false
  }
 },
 "nbformat": 4,
 "nbformat_minor": 1
}
