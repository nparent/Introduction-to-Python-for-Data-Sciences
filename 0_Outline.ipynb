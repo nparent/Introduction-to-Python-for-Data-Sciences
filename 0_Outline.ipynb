{
 "cells": [
  {
   "cell_type": "markdown",
   "metadata": {
    "deletable": true,
    "editable": true
   },
   "source": [
    "\n",
    "<table>\n",
    "<tr>\n",
    "<td width=15%><img src=\"./img/UGA.png\"></img></td>\n",
    "<td><center><h1>Introduction to Python for Data Sciences</h1></center></td>\n",
    "<td width=15%><a href=\"http://www.iutzeler.org\" style=\"font-size: 16px; font-weight: bold\">Franck Iutzeler</a><br/> Fall. 2018 </td>\n",
    "</tr>\n",
    "</table>\n"
   ]
  },
  {
   "cell_type": "markdown",
   "metadata": {
    "deletable": true,
    "editable": true
   },
   "source": [
    "<br/><br/>\n",
    "\t<center><h1> Course Presentation </h1></center>"
   ]
  },
  {
   "cell_type": "markdown",
   "metadata": {
    "deletable": true,
    "editable": true
   },
   "source": [
    "\n",
    "### Chap. 1 - Introduction to Python \n",
    "\n",
    "#### 1. [Basics](1-1_Basics.ipynb)\n",
    "\n",
    "### Chap. 2 - Python for Scientific Computing \n",
    "\n",
    "#### 1. [NumPy](2-1_NumPy.ipynb)\n",
    "#### 2. [Examples in Data Science](2-2_Examples_in_Data_Science.ipynb)\n",
    "\n",
    "### Chap. 3 - Data Handling with Pandas \n",
    "\n",
    "#### 1. [Pandas](3-1_Pandas.ipynb)\n",
    "#### 2. [Dataframes](3-2_Dataframes.ipynb)\n",
    "#### 3. [Fancy Visualization with Seaborn](3-3_Fancy_Visualization_with_Seaborn.ipynb)\n",
    "\n",
    "### Chap. 4 - Machine Learning with ScikitLearn \n",
    "\n",
    "#### 1. [Scikit Learn](4-1_Scikit_Learn.ipynb)\n",
    "#### 2. [Supervised Learning](4-2_Supervised_Learning.ipynb)\n",
    "#### 3. [Unsupervised Learning](4-3_Unsupervised_Learning.ipynb)\n",
    "#### 4. [Going Further](4-4_Going_Further.ipynb)\n"
   ]
  },
  {
   "cell_type": "markdown",
   "metadata": {
    "deletable": true,
    "editable": true
   },
   "source": [
    "# Credits\n",
    "\n",
    "\n",
    "I am greatly indebted to many people and resources for this course\n",
    "* Alexandre Gramfort for his kind permission tu use some material from his course <a href=\"\">at Telecom ParisTech</a> and its <a href=\"\">scikit-learn tutorial at SciPy 2016</a>.\n",
    "* Adeline Leclerc Samson for giving me the opportunity of teaching this course.\n",
    "* Anatoli Juditski for his advice and the conception of the Operation research course.\n",
    "* Tµhe [Python Data Science Handbook](http://shop.oreilly.com/product/0636920034919.do) by Jake VanderPlas; content is available [on GitHub](https://github.com/jakevdp/PythonDataScienceHandbook).\n",
    "* Many users feedbacks.\n",
    "* the various docs and examples on the websites of Numpy, Scipy, CvxOpt, Pandas, Scikit Learn, TensorFlow\n",
    " * \n",
    "    * [Numpy's quickstart tutorial](https://docs.scipy.org/doc/numpy-dev/user/quickstart.html)\n",
    "    * [Numpy for Matlab users](https://docs.scipy.org/doc/numpy-dev/user/numpy-for-matlab-users.html)\n",
    " \n",
    "<p style=\"text-align: right\">F.I.</p>\n",
    "\n"
   ]
  },
  {
   "cell_type": "markdown",
   "metadata": {
    "deletable": true,
    "editable": true
   },
   "source": [
    "---\n",
    "<div id=\"style\"></div>\n",
    "### Package Check and Styling\n",
    "\n",
    "\n",
    "<p style=\"text-align: right; font-size: 10px;\"><a href=\"#top\">Go to top</a></p>\n"
   ]
  },
  {
   "cell_type": "code",
   "execution_count": null,
   "metadata": {
    "collapsed": true,
    "deletable": true,
    "editable": true
   },
   "outputs": [],
   "source": [
    "import lib.notebook_setting as nbs\n",
    "\n",
    "packageList = ['IPython', 'numpy', 'scipy', 'matplotlib', 'cvxopt', 'pandas', 'seaborn', 'sklearn', 'tensorflow']\n",
    "nbs.packageCheck(packageList)\n",
    "\n",
    "nbs.cssStyling()"
   ]
  }
 ],
 "metadata": {
  "kernelspec": {
   "display_name": "Python 3",
   "language": "python",
   "name": "python3"
  },
  "language_info": {
   "codemirror_mode": {
    "name": "ipython",
    "version": 3
   },
   "file_extension": ".py",
   "mimetype": "text/x-python",
   "name": "python",
   "nbconvert_exporter": "python",
   "pygments_lexer": "ipython3",
   "version": "3.5.6"
  },
  "varInspector": {
   "cols": {
    "lenName": 16,
    "lenType": 16,
    "lenVar": 40
   },
   "kernels_config": {
    "python": {
     "delete_cmd_postfix": "",
     "delete_cmd_prefix": "del ",
     "library": "var_list.py",
     "varRefreshCmd": "print(var_dic_list())"
    },
    "r": {
     "delete_cmd_postfix": ") ",
     "delete_cmd_prefix": "rm(",
     "library": "var_list.r",
     "varRefreshCmd": "cat(var_dic_list()) "
    }
   },
   "types_to_exclude": [
    "module",
    "function",
    "builtin_function_or_method",
    "instance",
    "_Feature"
   ],
   "window_display": false
  }
 },
 "nbformat": 4,
 "nbformat_minor": 2
}
