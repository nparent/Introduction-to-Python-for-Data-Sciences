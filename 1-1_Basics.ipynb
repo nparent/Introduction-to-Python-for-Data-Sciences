{
 "cells": [
  {
   "cell_type": "markdown",
   "metadata": {
    "deletable": true,
    "editable": true
   },
   "source": [
    "\n",
    "<table>\n",
    "<tr>\n",
    "<td width=15%><img src=\"./img/UGA.png\"></img></td>\n",
    "<td><center><h1>Introduction to Python for Data Sciences</h1></center></td>\n",
    "<td width=15%><a href=\"http://www.iutzeler.org\" style=\"font-size: 16px; font-weight: bold\">Franck Iutzeler</a><br/> Fall. 2018 </td>\n",
    "</tr>\n",
    "</table>\n"
   ]
  },
  {
   "cell_type": "markdown",
   "metadata": {
    "deletable": true,
    "editable": true
   },
   "source": [
    "<br/><br/><div id=\"top\"></div>\n",
    "\n",
    "<center><a style=\"font-size: 40pt; font-weight: bold\">Chap. 1 - Introduction to Python </a></center>\n",
    "\n",
    "<br/>\n",
    "\n",
    "# ``1. Basics``\n",
    "\n",
    "---"
   ]
  },
  {
   "cell_type": "markdown",
   "metadata": {
    "deletable": true,
    "editable": true
   },
   "source": [
    "<a href=\"#style\"><b>Package check and Styling</b></a><br/><br/><b>Outline</b><br/><br/>\n",
    "&nbsp;&nbsp;&nbsp; a) <a href=\"#install\"> Install</a><br/>&nbsp;&nbsp;&nbsp; b) <a href=\"#writing\"> Writing Python code</a><br/>&nbsp;&nbsp;&nbsp; c) <a href=\"#jupyter\"> Juyter notebooks</a><br/>&nbsp;&nbsp;&nbsp; d) <a href=\"#baseNum\"> Numbers and Variables</a><br/>&nbsp;&nbsp;&nbsp; e) <a href=\"#baseLoop\"> Branching and Loops</a><br/>&nbsp;&nbsp;&nbsp; f) <a href=\"#baseFun\"> Functions</a><br/>&nbsp;&nbsp;&nbsp; g) <a href=\"#baseClass\"> Classes [*]</a><br/>&nbsp;&nbsp;&nbsp; h) <a href=\"#baseFile\"> Reading and writing files</a><br/>&nbsp;&nbsp;&nbsp; i) <a href=\"#baseExo\"> Exercises</a><br/>"
   ]
  },
  {
   "cell_type": "markdown",
   "metadata": {
    "deletable": true,
    "editable": true
   },
   "source": [
    "## <a id=\"install\"> a) Install</a>  \n",
    "\n",
    "<p style=\"text-align: right; font-size: 10px;\"><a href=\"#top\">Go to top</a></p>\n"
   ]
  },
  {
   "cell_type": "markdown",
   "metadata": {
    "deletable": true,
    "editable": true
   },
   "source": [
    "### Linux\n",
    "\n",
    "Ubuntu: <tt>sudo apt-get install python ipython ipython-notebook python-pip</tt>\n",
    "\n",
    "\n",
    "\n",
    "### Linux, Mac, Windows\n",
    "\n",
    "Recommended install is through [Anaconda CE](http://continuum.io/downloads.html)\n",
    "\n"
   ]
  },
  {
   "cell_type": "markdown",
   "metadata": {
    "deletable": true,
    "editable": true
   },
   "source": [
    "## <a id=\"writing\"> b) Writing Python code</a>\n",
    "<p style=\"text-align: right; font-size: 10px;\"><a href=\"#top\">Go to top</a></p>\n"
   ]
  },
  {
   "cell_type": "markdown",
   "metadata": {
    "deletable": true,
    "editable": true
   },
   "source": [
    "### the python shell \n",
    "\n",
    "The python shell can be launched with the command ``python`` in a terminal. To exit it, type `exit()` or press Ctrl+D\n",
    "\n",
    "<!-- <img src=\"files/images/python-screenshot.jpg\" width=\"600\"> -->\n",
    "<img src=\"./img/python.png\" width=\"600\">\n",
    "\n",
    "<div class=\"warn\"> **Warning:** Python (version 2.x) and Python3 (version 3.x) coexists in most systems as two different softwares, the differences are small but as they are independent, this may cause installation problems. Both versions are supported in this course.</div> "
   ]
  },
  {
   "cell_type": "markdown",
   "metadata": {
    "deletable": true,
    "editable": true
   },
   "source": [
    "### IPython\n",
    "\n",
    "IPython is an advanced python shell (lauchable by typing ``ipython`` in a terminal) that enables\n",
    "* memorizing previously enterered commands (with up and down arrows)\n",
    "* auto-completion with Tab\n",
    "* easy access to the doc and debugging\n",
    "\n",
    "<!-- <img src=\"files/images/ipython-screenshot.jpg\" width=\"600\"> -->\n",
    "<img src=\"./img/ipython.png\" width=\"600\">\n"
   ]
  },
  {
   "cell_type": "markdown",
   "metadata": {
    "deletable": true,
    "editable": true
   },
   "source": [
    "### Spyder\n",
    "\n",
    "\n",
    "[Spyder](http://code.google.com/p/spyderlib/) is an IDE similar to MATLAB or RStudio that contains\n",
    "* color editor\n",
    "* IPython\n",
    "* Debugger\n",
    "\n",
    "<!-- <img src=\"files/images/spyder-screenshot.jpg\" width=\"800\"> -->\n",
    "<img src=\"./img/spyder.png\" width=\"800\">\n",
    "\n"
   ]
  },
  {
   "cell_type": "markdown",
   "metadata": {
    "deletable": true,
    "editable": true
   },
   "source": [
    "### Jupyter notebook\n",
    "\n",
    "\n",
    "[Jupyter notebook](<http://jupyter.org/) is a browser based notebook for Julia, Python, and R. In python, it comes with an ipython shell. To launch: <tt>jupyter-notebook</tt>.\n",
    "\n",
    "from the folder where the notebooks are stored (\\*.ipynb files). This starts a *kernel* (a process that runs and interfaces the notebook content with an (i)python shell) and opens a tab in the *browser*. Then, the whole interface of Jupyter notebook is *web-based* and can be accessed at the address <a href=\"http://localhost:8888\">http://localhost:8888</a>. Closing the tab *do not terminate* the notebook, it can still be access at the above adress. To terminate it, use the interface (<tt>File -> Close and Halt</tt>) or in the kernel terminal type <tt>Ctrl+C</tt>.\n",
    "\n",
    "\n",
    "The main features of jupyter notebooks are\n",
    "* In-browser editing for code, with automatic syntax highlighting, indentation, and tab completion/introspection.\n",
    "* The ability to execute code from the browser and plot inline.\n",
    "* In-browser editing for rich text using the Markdown markup language.\n",
    "* The ability to include mathematical notation within markdown cells using LaTeX, and rendered natively by MathJax.\n",
    "\n",
    "\n",
    "<img src=\"./img/jupyter.png\" width=\"800\">\n"
   ]
  },
  {
   "cell_type": "markdown",
   "metadata": {
    "deletable": true,
    "editable": true
   },
   "source": [
    "## <a id=\"jupyter\"> c) Juyter notebooks</a> \n",
    "<p style=\"text-align: right; font-size: 10px;\"><a href=\"#top\">Go to top</a></p>"
   ]
  },
  {
   "cell_type": "markdown",
   "metadata": {
    "deletable": true,
    "editable": true
   },
   "source": [
    "\n",
    "### Notebooks \n",
    "\n",
    "Notebook documents contains the inputs and outputs of an interactive python shell as well as additional text that accompanies the code but is not meant for execution. In this way, notebook files can serve as a complete computational record of a session, interleaving executable code with explanatory text, mathematics, and representations of resulting objects. These documents are saved with the ``.ipynb`` extension. \n",
    "\n",
    "Notebooks may be exported to a range of static formats, including HTML (for example, for blog posts), LaTeX, PDF, etc by <tt>File->Download as</tt>\n",
    "\n",
    "### Interface \n",
    "\n",
    "##### Accessing notebooks\n",
    "You can open a notebook by the file explorer from the *Home* (welcome) tab or using <tt>File->Open</tt> from an opened notebook. To create a new notebook use the <tt>New</tt> button top-right of *Home* (welcome) tab or using <tt>File->New Notebook</tt> from an opened notebook, the programming language will be asked.\n",
    "\n",
    "##### Editing notebooks\n",
    "You can modify the title (that is the file name) by clicking on it next to the jupyter logo. \n",
    "The notebooks are a succession of *cells*, that can be of four types:\n",
    "* ``code`` for python code (as in ipython)\n",
    "* ``markdown`` for text in Markdown formatting (see this <a href=\"https://github.com/adam-p/markdown-here/wiki/Markdown-Cheatsheet\">cheatsheet</a>). You may additionally use HTML and Latex math formulas.\n",
    "* ``raw`` and ``heading`` are less used for raw text and titles\n",
    "\n",
    "##### Cells\n",
    "You can *edit* a cell by double-clicking on it.\n",
    "You can *run* a cell by using the menu or typing <tt>Ctrl+Enter</tt> (You can also run all cells, all cells above a certain point). It if is a text cell, it will be formatted. If it is a code cell it will run as it was entered in a ipython shell, which means all previous actions, functions, variables defined, are persistent. To get a clean slate, your have to *restart the kernel* by using <tt>Kernel->Restart</tt>.\n",
    "\n",
    "##### Useful commands\n",
    "\n",
    "* <tt>Tab</tt> autocompletes\n",
    "* <tt>Shift+Tab</tt> gives the docstring of the input function\n",
    "* <tt>?</tt> return the help\n",
    "\n"
   ]
  },
  {
   "cell_type": "markdown",
   "metadata": {
    "deletable": true,
    "editable": true
   },
   "source": [
    "## <a id=\"baseNum\"> d) Numbers and Variables</a> \n",
    "\n",
    "<p style=\"text-align: right; font-size: 10px;\"><a href=\"#top\">Go to top</a></p>\n",
    "\n",
    "### Variables\n"
   ]
  },
  {
   "cell_type": "code",
   "execution_count": 1,
   "metadata": {
    "collapsed": false,
    "deletable": true,
    "editable": true
   },
   "outputs": [
    {
     "data": {
      "text/plain": [
       "5"
      ]
     },
     "execution_count": 1,
     "metadata": {},
     "output_type": "execute_result"
    }
   ],
   "source": [
    "2 + 2 + 1 # comment"
   ]
  },
  {
   "cell_type": "code",
   "execution_count": 2,
   "metadata": {
    "collapsed": false,
    "deletable": true,
    "editable": true
   },
   "outputs": [
    {
     "name": "stdout",
     "output_type": "stream",
     "text": [
      "4\n",
      "<class 'int'>\n"
     ]
    }
   ],
   "source": [
    "a = 4\n",
    "print(a)\n",
    "print(type(a))"
   ]
  },
  {
   "cell_type": "code",
   "execution_count": 3,
   "metadata": {
    "collapsed": false,
    "deletable": true,
    "editable": true
   },
   "outputs": [
    {
     "name": "stdout",
     "output_type": "stream",
     "text": [
      "4\n",
      "9000\n"
     ]
    }
   ],
   "source": [
    "a,x = 4, 9000\n",
    "print(a)\n",
    "print(x)"
   ]
  },
  {
   "cell_type": "markdown",
   "metadata": {
    "deletable": true,
    "editable": true
   },
   "source": [
    "Variables names can contain `a-z`, `A-Z`, `0-9` and some special character as `_` but must always begin by a letter. By convention, variables names are smallcase. \n",
    "\n",
    "\n",
    "### Types\n",
    "\n",
    "Variables are *weakly typed* in python which means that their type is deduced from the context: the initialization or the types of the variables used for its computation. Observe the following example."
   ]
  },
  {
   "cell_type": "code",
   "execution_count": 4,
   "metadata": {
    "collapsed": false,
    "deletable": true,
    "editable": true
   },
   "outputs": [
    {
     "name": "stdout",
     "output_type": "stream",
     "text": [
      "Integer\n",
      "3 <class 'int'>\n",
      "\n",
      "Float\n",
      "3.14 <class 'float'>\n",
      "\n",
      "Complex\n",
      "(3.14+2j) <class 'complex'>\n",
      "3.14 <class 'float'>\n",
      "2.0 <class 'float'>\n"
     ]
    }
   ],
   "source": [
    "print(\"Integer\")\n",
    "a = 3\n",
    "print(a,type(a))\n",
    "\n",
    "print(\"\\nFloat\")\n",
    "b = 3.14\n",
    "print(b,type(b))\n",
    "\n",
    "print(\"\\nComplex\")\n",
    "c = 3.14 + 2j\n",
    "print(c,type(c))\n",
    "print(c.real,type(c.real))\n",
    "print(c.imag,type(c.imag))"
   ]
  },
  {
   "cell_type": "markdown",
   "metadata": {
    "deletable": true,
    "editable": true
   },
   "source": [
    "This typing can lead to some variable having unwanted types, which can be resolved by *casting*"
   ]
  },
  {
   "cell_type": "code",
   "execution_count": 5,
   "metadata": {
    "collapsed": false,
    "deletable": true,
    "editable": true
   },
   "outputs": [
    {
     "name": "stdout",
     "output_type": "stream",
     "text": [
      "(-1+0j) <class 'complex'>\n",
      "-1.0 <class 'float'>\n",
      "-1 <class 'int'>\n"
     ]
    }
   ],
   "source": [
    "d = 1j*1j\n",
    "print(d,type(d))\n",
    "d = d.real\n",
    "print(d,type(d))\n",
    "d = int(d)\n",
    "print(d,type(d))"
   ]
  },
  {
   "cell_type": "code",
   "execution_count": 6,
   "metadata": {
    "collapsed": false,
    "deletable": true,
    "editable": true
   },
   "outputs": [
    {
     "name": "stdout",
     "output_type": "stream",
     "text": [
      "3.3333333333333335 <class 'float'>\n",
      "1.0 <class 'float'>\n",
      "1 <class 'int'>\n"
     ]
    }
   ],
   "source": [
    "e = 10/3\n",
    "print(e,type(e))\n",
    "f = (10/3)/(10/3)\n",
    "print(f,type(f))\n",
    "f = int((10/3)/(10/3))\n",
    "print(f,type(f))"
   ]
  },
  {
   "cell_type": "markdown",
   "metadata": {
    "deletable": true,
    "editable": true
   },
   "source": [
    "### Operation on numbers\n",
    "\n",
    "The usual operations are \n",
    "* Multiplication and Division with respecively `*` and `/`\n",
    "* Exponent with `**`\n",
    "* Modulo with `%`"
   ]
  },
  {
   "cell_type": "code",
   "execution_count": 7,
   "metadata": {
    "collapsed": false,
    "deletable": true,
    "editable": true
   },
   "outputs": [
    {
     "name": "stdout",
     "output_type": "stream",
     "text": [
      "21.0 <class 'float'>\n"
     ]
    }
   ],
   "source": [
    "print(7 * 3., type(7 * 3.))  # int x float -> float"
   ]
  },
  {
   "cell_type": "code",
   "execution_count": 8,
   "metadata": {
    "collapsed": false,
    "deletable": true,
    "editable": true
   },
   "outputs": [
    {
     "name": "stdout",
     "output_type": "stream",
     "text": [
      "1.5 <class 'float'>\n",
      "1.5 <class 'float'>\n"
     ]
    }
   ],
   "source": [
    "print(3/2, type(3/2))  # Warning: int in Python 2,  float in Python 3\n",
    "print(3/2., type(3/2.)) # To be sure"
   ]
  },
  {
   "cell_type": "code",
   "execution_count": 9,
   "metadata": {
    "collapsed": false,
    "deletable": true,
    "editable": true
   },
   "outputs": [
    {
     "name": "stdout",
     "output_type": "stream",
     "text": [
      "1024 <class 'int'>\n"
     ]
    }
   ],
   "source": [
    "print(2**10, type(2**10))  "
   ]
  },
  {
   "cell_type": "code",
   "execution_count": 10,
   "metadata": {
    "collapsed": false,
    "deletable": true,
    "editable": true
   },
   "outputs": [
    {
     "name": "stdout",
     "output_type": "stream",
     "text": [
      "0 <class 'int'>\n"
     ]
    }
   ],
   "source": [
    "print(8%2, type(8%2))  "
   ]
  },
  {
   "cell_type": "markdown",
   "metadata": {
    "deletable": true,
    "editable": true
   },
   "source": [
    "### Booleans \n",
    "\n",
    "Boolean is the type of a variable `True` or `False` and thus are extremely useful when coding. \n",
    "* They can be obtained by comparisons  `>`, `>=` (greater, greater or égal), `<`, `<=` (smaller, smaller or equal) or membership `==` , `!=` (equality, different).\n",
    "* They can be manipulated by the logical operations `and`, `not`, `or`. "
   ]
  },
  {
   "cell_type": "code",
   "execution_count": 11,
   "metadata": {
    "collapsed": false,
    "deletable": true,
    "editable": true
   },
   "outputs": [
    {
     "name": "stdout",
     "output_type": "stream",
     "text": [
      "2 > 1\t True\n",
      "2 > 2\t False\n",
      "2 >= 2\t True\n",
      "2 == 2\t True\n",
      "2 == 2.0 True\n",
      "2 != 1.9 True\n"
     ]
    }
   ],
   "source": [
    "print('2 > 1\\t', 2 > 1)   \n",
    "print('2 > 2\\t', 2 > 2) \n",
    "print('2 >= 2\\t',2 >= 2) \n",
    "print('2 == 2\\t',2 == 2) \n",
    "print('2 == 2.0',2 == 2.0) \n",
    "print('2 != 1.9',2 != 1.9) "
   ]
  },
  {
   "cell_type": "code",
   "execution_count": 12,
   "metadata": {
    "collapsed": false,
    "deletable": true,
    "editable": true
   },
   "outputs": [
    {
     "name": "stdout",
     "output_type": "stream",
     "text": [
      "False\n",
      "True\n",
      "True\n"
     ]
    }
   ],
   "source": [
    "print(True and False)\n",
    "print(True or True)\n",
    "print(not False)"
   ]
  },
  {
   "cell_type": "markdown",
   "metadata": {
    "deletable": true,
    "editable": true
   },
   "source": [
    "### Lists \n",
    "\n",
    "Lists are the base element for sequences of variables in python, they are themselves a variable type. \n",
    "* The syntax to write them is `[ ... , ... ]`\n",
    "* The types of the elements may not be all the same\n",
    "* The indices begin at $0$ (`l[0]` is the first element of `l`)\n",
    "* Lists can be nested (lists of lists of ...)\n",
    "\n",
    "\n",
    "<div class=\"warn\"> **Warning:** Another type called *tuple* with the syntax `( ... , ... )` exists in Python. It has almost the same structure than list to the notable exceptions that one cannot add or remove elements from a tuple. We will see them briefly later </div>"
   ]
  },
  {
   "cell_type": "code",
   "execution_count": 13,
   "metadata": {
    "collapsed": false,
    "deletable": true,
    "editable": true
   },
   "outputs": [
    {
     "name": "stdout",
     "output_type": "stream",
     "text": [
      "[1, 2, 3, [4, 8], True, 2.3] <class 'list'>\n"
     ]
    }
   ],
   "source": [
    "l = [1, 2, 3, [4,8] , True , 2.3]\n",
    "print(l, type(l))"
   ]
  },
  {
   "cell_type": "code",
   "execution_count": 14,
   "metadata": {
    "collapsed": false,
    "deletable": true,
    "editable": true
   },
   "outputs": [
    {
     "name": "stdout",
     "output_type": "stream",
     "text": [
      "1 <class 'int'>\n",
      "[4, 8] <class 'list'>\n",
      "8 <class 'int'>\n"
     ]
    }
   ],
   "source": [
    "print(l[0],type(l[0]))\n",
    "print(l[3],type(l[3]))\n",
    "print(l[3][1],type(l[3][1]))"
   ]
  },
  {
   "cell_type": "code",
   "execution_count": 15,
   "metadata": {
    "collapsed": false,
    "deletable": true,
    "editable": true
   },
   "outputs": [
    {
     "name": "stdout",
     "output_type": "stream",
     "text": [
      "[1, 2, 3, [4, 8], True, 2.3]\n",
      "[True, 2.3]\n",
      "[1, 2, 3, [4, 8], True]\n",
      "[True]\n",
      "[2, [4, 8], 2.3]\n",
      "[2.3, True, [4, 8], 3, 2, 1]\n",
      "2.3\n"
     ]
    }
   ],
   "source": [
    "print(l)\n",
    "print(l[4:]) # l[4:] is l from the position 4 (included)\n",
    "print(l[:5]) # l[:5] is l up to position 5 (excluded)\n",
    "print(l[4:5]) # l[4:5] is l between 4 (included) and 5 (excluded) so just 4\n",
    "print(l[1:6:2])  # l[1:6:2] is l between 1 (included) and 6 (excluded) by steps of 2 thus 1,3,5\n",
    "print(l[::-1]) # reversed order\n",
    "print(l[-1]) # last element"
   ]
  },
  {
   "cell_type": "markdown",
   "metadata": {
    "deletable": true,
    "editable": true
   },
   "source": [
    "##### Operations on lists \n",
    "\n",
    "One can add, insert, remove, count, or test if a element is in a list easily"
   ]
  },
  {
   "cell_type": "code",
   "execution_count": 16,
   "metadata": {
    "collapsed": false,
    "deletable": true,
    "editable": true
   },
   "outputs": [
    {
     "name": "stdout",
     "output_type": "stream",
     "text": [
      "[1, 2, 3, [4, 8], True, 2.3, 10]\n"
     ]
    }
   ],
   "source": [
    "l.append(10)   # Add an element to l (the list is not copied, it is actually l that is modified)\n",
    "print(l)"
   ]
  },
  {
   "cell_type": "code",
   "execution_count": 17,
   "metadata": {
    "collapsed": false,
    "deletable": true,
    "editable": true
   },
   "outputs": [
    {
     "name": "stdout",
     "output_type": "stream",
     "text": [
      "[1, 'u', 2, 3, [4, 8], True, 2.3, 10]\n"
     ]
    }
   ],
   "source": [
    "l.insert(1,'u')   # Insert an element at position 1 in l (the list is not copied, it is actually l that is modified)\n",
    "print(l)"
   ]
  },
  {
   "cell_type": "code",
   "execution_count": 18,
   "metadata": {
    "collapsed": false,
    "deletable": true,
    "editable": true
   },
   "outputs": [
    {
     "name": "stdout",
     "output_type": "stream",
     "text": [
      "[1, 'u', 2, 3, [4, 8], True, 2.3]\n"
     ]
    }
   ],
   "source": [
    "l.remove(10) # Remove the first element 10 of l \n",
    "print(l)"
   ]
  },
  {
   "cell_type": "code",
   "execution_count": 19,
   "metadata": {
    "collapsed": false,
    "deletable": true,
    "editable": true
   },
   "outputs": [
    {
     "name": "stdout",
     "output_type": "stream",
     "text": [
      "7\n",
      "True\n"
     ]
    }
   ],
   "source": [
    "print(len(l)) # length of a list\n",
    "print(2 in l)  # test if 2 is in l"
   ]
  },
  {
   "cell_type": "markdown",
   "metadata": {
    "deletable": true,
    "editable": true
   },
   "source": [
    "##### Handling lists\n",
    "\n",
    "Lists are *pointer*-like types. Meaning that if you write `l2=l`, you *do not copy* `l` to `l2` but rather copy the pointer so modifying one, will modify the other.\n",
    "\n",
    "The proper way to copy list is to use the dedicated <tt>copy</tt> method for list variables. "
   ]
  },
  {
   "cell_type": "code",
   "execution_count": 20,
   "metadata": {
    "collapsed": false,
    "deletable": true,
    "editable": true
   },
   "outputs": [
    {
     "name": "stdout",
     "output_type": "stream",
     "text": [
      "[1, 'u', 2, 3, [4, 8], True, 2.3, 'Something'] [1, 'u', 2, 3, [4, 8], True, 2.3, 'Something']\n"
     ]
    }
   ],
   "source": [
    "l2 = l \n",
    "l.append('Something')\n",
    "print(l,l2)"
   ]
  },
  {
   "cell_type": "code",
   "execution_count": 21,
   "metadata": {
    "collapsed": false,
    "deletable": true,
    "editable": true
   },
   "outputs": [
    {
     "name": "stdout",
     "output_type": "stream",
     "text": [
      "[1, 'u', 2, 3, [4, 8], True, 2.3] [1, 'u', 2, 3, [4, 8], True, 2.3, 'Something']\n"
     ]
    }
   ],
   "source": [
    "l3 = list(l) # l.copy() works in Python 3 \n",
    "l.remove('Something')\n",
    "print(l,l3)"
   ]
  },
  {
   "cell_type": "markdown",
   "metadata": {
    "deletable": true,
    "editable": true
   },
   "source": [
    "You can have void lists and concatenate list by simply using the + operator, or even repeat them with * ."
   ]
  },
  {
   "cell_type": "code",
   "execution_count": 22,
   "metadata": {
    "collapsed": false,
    "deletable": true,
    "editable": true
   },
   "outputs": [
    {
     "name": "stdout",
     "output_type": "stream",
     "text": [
      "[1, 'u', 2, 3, [4, 8], True, 2.3, 4, 8, 10.9865]\n",
      "[4, 8, 10.9865, 4, 8, 10.9865, 4, 8, 10.9865]\n"
     ]
    }
   ],
   "source": [
    "l4 = []\n",
    "l5 =[4,8,10.9865]\n",
    "print(l+l4+l5)\n",
    "print(l5*3)"
   ]
  },
  {
   "cell_type": "markdown",
   "metadata": {
    "deletable": true,
    "editable": true
   },
   "source": [
    "### Tuples, Dictionaries [*]\n",
    "\n",
    "**Put links to Python doc**\n",
    "\n",
    "\n",
    "* Tuples are similar to list but are created with `(...,...)` or simply comas. They cannot be changed once created.\n"
   ]
  },
  {
   "cell_type": "code",
   "execution_count": 23,
   "metadata": {
    "collapsed": false,
    "deletable": true,
    "editable": true
   },
   "outputs": [
    {
     "name": "stdout",
     "output_type": "stream",
     "text": [
      "(1, 'b', 876876.908) <class 'tuple'>\n",
      "1\n"
     ]
    }
   ],
   "source": [
    "t = (1,'b',876876.908)\n",
    "print(t,type(t))\n",
    "print(t[0])"
   ]
  },
  {
   "cell_type": "code",
   "execution_count": 24,
   "metadata": {
    "collapsed": false,
    "deletable": true,
    "editable": true
   },
   "outputs": [
    {
     "name": "stdout",
     "output_type": "stream",
     "text": [
      "12 [987, 98987] (12, [987, 98987])\n"
     ]
    }
   ],
   "source": [
    "a,b = 12,[987,98987]\n",
    "u = a,b\n",
    "print(a,b,u)"
   ]
  },
  {
   "cell_type": "code",
   "execution_count": 25,
   "metadata": {
    "collapsed": false,
    "deletable": true,
    "editable": true
   },
   "outputs": [
    {
     "name": "stdout",
     "output_type": "stream",
     "text": [
      "'tuple' object does not support item assignment\n"
     ]
    }
   ],
   "source": [
    "try:\n",
    "    u[1] = 2\n",
    "except Exception as error: \n",
    "    print(error)"
   ]
  },
  {
   "cell_type": "markdown",
   "metadata": {
    "deletable": true,
    "editable": true
   },
   "source": [
    "* Dictionaries are aimed at storing values of the form *key-value* with the syntax `{key1 : value1, ...}`\n",
    "\n",
    "This type is often used as a return type in librairies (ex: <tt> out = lib.fun(arg) </tt> <tt>print(out[\"value\"])</tt>)"
   ]
  },
  {
   "cell_type": "code",
   "execution_count": 26,
   "metadata": {
    "collapsed": false,
    "deletable": true,
    "editable": true
   },
   "outputs": [
    {
     "name": "stdout",
     "output_type": "stream",
     "text": [
      "{'param3': 'red', 'param1': 1.0, 'param2': True} <class 'dict'>\n"
     ]
    }
   ],
   "source": [
    "d = {\"param1\" : 1.0, \"param2\" : True, \"param3\" : \"red\"}\n",
    "print(d,type(d))"
   ]
  },
  {
   "cell_type": "code",
   "execution_count": 27,
   "metadata": {
    "collapsed": false,
    "deletable": true,
    "editable": true
   },
   "outputs": [
    {
     "name": "stdout",
     "output_type": "stream",
     "text": [
      "1.0\n",
      "{'param3': 'red', 'param1': 2.4, 'param2': True}\n"
     ]
    }
   ],
   "source": [
    "print(d[\"param1\"])\n",
    "d[\"param1\"] = 2.4\n",
    "print(d)"
   ]
  },
  {
   "cell_type": "markdown",
   "metadata": {
    "deletable": true,
    "editable": true
   },
   "source": [
    "### Strings and text formatting\n",
    "\n",
    "\n",
    "* Strings are delimited with (double) quotes. They can be handled globally the same way as lists (see above).\n",
    "* <tt>print</tt> displays (tuples of) variables (not necessarily strings).\n",
    "* To include variable into string, it is preferable to use the <tt>format</tt> method.\n",
    "\n",
    "<div class=\"warn\"> **Warning:** text formatting and notably the <tt>print</tt> method is one of the major differences between Python 2 and Python 3. The method presented here is clean and works in both versions. </div>"
   ]
  },
  {
   "cell_type": "code",
   "execution_count": 28,
   "metadata": {
    "collapsed": false,
    "deletable": true,
    "editable": true
   },
   "outputs": [
    {
     "name": "stdout",
     "output_type": "stream",
     "text": [
      "test <class 'str'>\n"
     ]
    }
   ],
   "source": [
    "s = \"test\"\n",
    "print(s,type(s))"
   ]
  },
  {
   "cell_type": "code",
   "execution_count": 29,
   "metadata": {
    "collapsed": false,
    "deletable": true,
    "editable": true
   },
   "outputs": [
    {
     "name": "stdout",
     "output_type": "stream",
     "text": [
      "t\n",
      "test42\n"
     ]
    }
   ],
   "source": [
    "print(s[0])\n",
    "print(s + \"42\")"
   ]
  },
  {
   "cell_type": "code",
   "execution_count": 30,
   "metadata": {
    "collapsed": false,
    "deletable": true,
    "editable": true
   },
   "outputs": [
    {
     "name": "stdout",
     "output_type": "stream",
     "text": [
      "test 42\n",
      "test42\n"
     ]
    }
   ],
   "source": [
    "print(s,42)\n",
    "print(s+\"42\")"
   ]
  },
  {
   "cell_type": "code",
   "execution_count": 31,
   "metadata": {
    "collapsed": false,
    "deletable": true,
    "editable": true
   },
   "outputs": [
    {
     "name": "stdout",
     "output_type": "stream",
     "text": [
      "Can't convert 'int' object to str implicitly\n"
     ]
    }
   ],
   "source": [
    "try:\n",
    "    print(s+42)\n",
    "except Exception as error: \n",
    "    print(error)"
   ]
  },
  {
   "cell_type": "markdown",
   "metadata": {
    "deletable": true,
    "editable": true
   },
   "source": [
    "The <tt>format</tt> method..."
   ]
  },
  {
   "cell_type": "code",
   "execution_count": 32,
   "metadata": {
    "collapsed": false,
    "deletable": true,
    "editable": true
   },
   "outputs": [
    {
     "name": "stdout",
     "output_type": "stream",
     "text": [
      "test 42\n"
     ]
    }
   ],
   "source": [
    "print( \"test {}\".format(42) )"
   ]
  },
  {
   "cell_type": "code",
   "execution_count": 33,
   "metadata": {
    "collapsed": false,
    "deletable": true,
    "editable": true
   },
   "outputs": [
    {
     "name": "stdout",
     "output_type": "stream",
     "text": [
      "test with an int 4, a float 3.141 (or 3.141000e+00 which is roughly 3.1)\n"
     ]
    }
   ],
   "source": [
    "print( \"test with an int {:d}, a float {} (or {:e} which is roughly {:.1f})\".format(4 , 3.141 , 3.141 , 3.141 ))"
   ]
  },
  {
   "cell_type": "markdown",
   "metadata": {
    "deletable": true,
    "editable": true
   },
   "source": [
    "## <a id=\"baseLoop\"> e) Branching and Loops</a> \n",
    "\n",
    "<p style=\"text-align: right; font-size: 10px;\"><a href=\"#top\">Go to top</a></p>\n",
    "\n",
    "### If, Elif, Else \n",
    "\n",
    "In Python, the formulation for branching is <tt>**if** condition:</tt> followed by an indentation of one tab that represents what is executed if the condition is true. **The indentation is primordial and at the core of Python.**  \n",
    "\n"
   ]
  },
  {
   "cell_type": "code",
   "execution_count": 34,
   "metadata": {
    "collapsed": false,
    "deletable": true,
    "editable": true
   },
   "outputs": [
    {
     "name": "stdout",
     "output_type": "stream",
     "text": [
      "statement1 and statement2 are False\n"
     ]
    }
   ],
   "source": [
    "statement1 = False\n",
    "statement2 = False\n",
    "\n",
    "if statement1:\n",
    "    print(\"statement1 is True\")\n",
    "elif statement2:\n",
    "    print(\"statement2 is True\")\n",
    "else:\n",
    "    print(\"statement1 and statement2 are False\")"
   ]
  },
  {
   "cell_type": "code",
   "execution_count": 35,
   "metadata": {
    "collapsed": false,
    "deletable": true,
    "editable": true
   },
   "outputs": [
    {
     "name": "stdout",
     "output_type": "stream",
     "text": [
      "both statement1 and statement2 are True\n"
     ]
    }
   ],
   "source": [
    "statement1 = statement2 = True\n",
    "\n",
    "if statement1:\n",
    "    if statement2:\n",
    "        print(\"both statement1 and statement2 are True\")"
   ]
  },
  {
   "cell_type": "code",
   "execution_count": 36,
   "metadata": {
    "collapsed": false,
    "deletable": true,
    "editable": true
   },
   "outputs": [
    {
     "name": "stdout",
     "output_type": "stream",
     "text": [
      "here it is ok\n",
      "after the previous line, here also\n"
     ]
    }
   ],
   "source": [
    "if statement1:\n",
    "    if statement2: # Bad indentation!\n",
    "    #print(\"both statement1 and statement2 are True\") # Uncommenting Would cause an error\n",
    "        print(\"here it is ok\")\n",
    "    print(\"after the previous line, here also\")"
   ]
  },
  {
   "cell_type": "code",
   "execution_count": 37,
   "metadata": {
    "collapsed": false,
    "deletable": true,
    "editable": true
   },
   "outputs": [
    {
     "name": "stdout",
     "output_type": "stream",
     "text": [
      "printed if statement1 is True\n",
      "still inside the if block\n"
     ]
    }
   ],
   "source": [
    "statement1 = True \n",
    "\n",
    "if statement1:\n",
    "    print(\"printed if statement1 is True\")\n",
    "    \n",
    "    \n",
    "    \n",
    "    print(\"still inside the if block\")"
   ]
  },
  {
   "cell_type": "code",
   "execution_count": 38,
   "metadata": {
    "collapsed": false,
    "deletable": true,
    "editable": true
   },
   "outputs": [
    {
     "name": "stdout",
     "output_type": "stream",
     "text": [
      "outside the if block\n"
     ]
    }
   ],
   "source": [
    "statement1 = False \n",
    "\n",
    "if statement1:\n",
    "    print(\"printed if statement1 is True\")\n",
    "    \n",
    "print(\"outside the if block\")"
   ]
  },
  {
   "cell_type": "markdown",
   "metadata": {
    "deletable": true,
    "editable": true
   },
   "source": [
    "### For loop\n",
    "\n",
    "The syntax of `for` loops is <tt>**for** x **in** something:</tt> followed by an indentation of one tab which represents what will be executed. \n",
    "\n",
    "The <tt>something</tt> above can be of different nature: list, dictionary, etc "
   ]
  },
  {
   "cell_type": "code",
   "execution_count": 39,
   "metadata": {
    "collapsed": false,
    "deletable": true,
    "editable": true
   },
   "outputs": [
    {
     "name": "stdout",
     "output_type": "stream",
     "text": [
      "1\n",
      "2\n",
      "3\n"
     ]
    }
   ],
   "source": [
    "for x in [1, 2, 3]:\n",
    "    print(x)"
   ]
  },
  {
   "cell_type": "code",
   "execution_count": 40,
   "metadata": {
    "collapsed": false,
    "deletable": true,
    "editable": true
   },
   "outputs": [
    {
     "name": "stdout",
     "output_type": "stream",
     "text": [
      "Python for data Science \n"
     ]
    }
   ],
   "source": [
    "sentence = \"\"\n",
    "for word in [\"Python\", \"for\", \"data\", \"Science\"]:\n",
    "    sentence = sentence + word + \" \"\n",
    "print(sentence)"
   ]
  },
  {
   "cell_type": "markdown",
   "metadata": {
    "deletable": true,
    "editable": true
   },
   "source": [
    "A useful function is <tt>range</tt> which generated sequences of numbers that can be used in loops."
   ]
  },
  {
   "cell_type": "code",
   "execution_count": 41,
   "metadata": {
    "collapsed": false,
    "deletable": true,
    "editable": true
   },
   "outputs": [
    {
     "name": "stdout",
     "output_type": "stream",
     "text": [
      "Range (from 0) to 4 (excluded) \n",
      "0\n",
      "1\n",
      "2\n",
      "3\n",
      "Range from 2 (included) to 6 (excluded) \n",
      "2\n",
      "3\n",
      "4\n",
      "5\n",
      "Range from 1 (included) to 12 (excluded) by steps of 3 \n",
      "1\n",
      "4\n",
      "7\n",
      "10\n"
     ]
    }
   ],
   "source": [
    "print(\"Range (from 0) to 4 (excluded) \")\n",
    "for x in range(4): \n",
    "    print(x)   \n",
    "\n",
    "print(\"Range from 2 (included) to 6 (excluded) \")\n",
    "for x in range(2,6): \n",
    "    print(x)\n",
    "\n",
    "print(\"Range from 1 (included) to 12 (excluded) by steps of 3 \")\n",
    "for x in range(1,12,3): \n",
    "    print(x)"
   ]
  },
  {
   "cell_type": "markdown",
   "metadata": {
    "deletable": true,
    "editable": true
   },
   "source": [
    "If the index is needed along with the value, the function <tt>enumerate</tt> is useful."
   ]
  },
  {
   "cell_type": "code",
   "execution_count": 42,
   "metadata": {
    "collapsed": false,
    "deletable": true,
    "editable": true
   },
   "outputs": [
    {
     "name": "stdout",
     "output_type": "stream",
     "text": [
      "0 -3\n",
      "1 -2\n",
      "2 -1\n",
      "3 0\n",
      "4 1\n",
      "5 2\n"
     ]
    }
   ],
   "source": [
    "for idx, x in enumerate(range(-3,3)):\n",
    "    print(idx, x)"
   ]
  },
  {
   "cell_type": "markdown",
   "metadata": {
    "deletable": true,
    "editable": true
   },
   "source": [
    "### While loop\n",
    "\n",
    "Similarly to `for` loops, the syntax is <tt>**while** condition:</tt> followed by an indentation of one tab which represents what will be executed. "
   ]
  },
  {
   "cell_type": "code",
   "execution_count": 43,
   "metadata": {
    "collapsed": false,
    "deletable": true,
    "editable": true
   },
   "outputs": [
    {
     "name": "stdout",
     "output_type": "stream",
     "text": [
      "0\n",
      "1\n",
      "2\n",
      "3\n",
      "4\n"
     ]
    }
   ],
   "source": [
    "i = 0\n",
    "\n",
    "while i<5:\n",
    "    print(i)\n",
    "    i+=1"
   ]
  },
  {
   "cell_type": "markdown",
   "metadata": {
    "deletable": true,
    "editable": true
   },
   "source": [
    "### Try [*]\n",
    "\n",
    "When a command may fail, you can `try` to execute it and optionally catch the `Exception` (i.e. the error).\n",
    "\n"
   ]
  },
  {
   "cell_type": "code",
   "execution_count": 44,
   "metadata": {
    "collapsed": false,
    "deletable": true,
    "editable": true
   },
   "outputs": [
    {
     "name": "stdout",
     "output_type": "stream",
     "text": [
      "[1, 2, 3]\n",
      "command ok\n",
      "[1, 3, 3]\n",
      "list assignment index out of range\n",
      "[1, 3, 3]\n"
     ]
    }
   ],
   "source": [
    "a = [1,2,3]\n",
    "print(a)\n",
    "\n",
    "try:\n",
    "    a[1] = 3\n",
    "    print(\"command ok\")\n",
    "except Exception as error: \n",
    "    print(error)\n",
    "    \n",
    "print(a) # The command went through\n",
    "\n",
    "try:\n",
    "    a[6] = 3\n",
    "    print(\"command ok\")\n",
    "except Exception as error: \n",
    "    print(error)\n",
    "    \n",
    "print(a) # The command failed"
   ]
  },
  {
   "cell_type": "markdown",
   "metadata": {
    "deletable": true,
    "editable": true
   },
   "source": [
    "## <a id=\"baseFun\"> f) Functions</a> \n",
    "\n",
    "<p style=\"text-align: right; font-size: 10px;\"><a href=\"#top\">Go to top</a></p>\n",
    "\n",
    "In Python, a function is defined as <tt>**def** function_name(function_arguments):</tt> followed by an indentation representing what is inside the function. (No return arguments are provided a priori)\n",
    "\n"
   ]
  },
  {
   "cell_type": "code",
   "execution_count": 45,
   "metadata": {
    "collapsed": false,
    "deletable": true,
    "editable": true
   },
   "outputs": [
    {
     "name": "stdout",
     "output_type": "stream",
     "text": [
      "\"fun0\" just prints\n"
     ]
    }
   ],
   "source": [
    "def fun0():\n",
    "    print(\"\\\"fun0\\\" just prints\")\n",
    "\n",
    "fun0()"
   ]
  },
  {
   "cell_type": "markdown",
   "metadata": {
    "deletable": true,
    "editable": true
   },
   "source": [
    "Docstring can be added to document the function, which will appear when calling <tt>help</tt>"
   ]
  },
  {
   "cell_type": "code",
   "execution_count": 46,
   "metadata": {
    "collapsed": false,
    "deletable": true,
    "editable": true
   },
   "outputs": [
    {
     "name": "stdout",
     "output_type": "stream",
     "text": [
      "[1, 'iuoiu', True]  is of length  3\n"
     ]
    }
   ],
   "source": [
    "def fun1(l):\n",
    "    \"\"\"\n",
    "    Prints a list and its length\n",
    "    \"\"\"\n",
    "    print(l, \" is of length \", len(l))\n",
    "    \n",
    "fun1([1,'iuoiu',True])"
   ]
  },
  {
   "cell_type": "code",
   "execution_count": 47,
   "metadata": {
    "collapsed": false,
    "deletable": true,
    "editable": true
   },
   "outputs": [
    {
     "name": "stdout",
     "output_type": "stream",
     "text": [
      "Help on function fun1 in module __main__:\n",
      "\n",
      "fun1(l)\n",
      "    Prints a list and its length\n",
      "\n"
     ]
    }
   ],
   "source": [
    "help(fun1)"
   ]
  },
  {
   "cell_type": "markdown",
   "metadata": {
    "deletable": true,
    "editable": true
   },
   "source": [
    "### Outputs\n",
    "\n",
    "<tt>**return**</tt> outputs a variable, tuple, dictionary, ..."
   ]
  },
  {
   "cell_type": "code",
   "execution_count": 48,
   "metadata": {
    "collapsed": false,
    "deletable": true,
    "editable": true
   },
   "outputs": [
    {
     "name": "stdout",
     "output_type": "stream",
     "text": [
      "Help on function square in module __main__:\n",
      "\n",
      "square(x)\n",
      "    Return x squared.\n",
      "\n",
      "144\n"
     ]
    }
   ],
   "source": [
    "def square(x):\n",
    "    \"\"\"\n",
    "    Return x squared.\n",
    "    \"\"\"\n",
    "    return(x ** 2)\n",
    "\n",
    "help(square)\n",
    "res = square(12)\n",
    "print(res)"
   ]
  },
  {
   "cell_type": "code",
   "execution_count": 49,
   "metadata": {
    "collapsed": false,
    "deletable": true,
    "editable": true
   },
   "outputs": [
    {
     "name": "stdout",
     "output_type": "stream",
     "text": [
      "Help on function powers in module __main__:\n",
      "\n",
      "powers(x)\n",
      "    Return the first powers of x.\n",
      "\n",
      "(144, 1728, 20736) <class 'tuple'>\n",
      "27 <class 'int'>\n"
     ]
    }
   ],
   "source": [
    "def powers(x):\n",
    "    \"\"\"\n",
    "    Return the first powers of x.\n",
    "    \"\"\"\n",
    "    return(x ** 2, x ** 3, x ** 4)\n",
    "\n",
    "help(powers)\n",
    "\n",
    "res = powers(12)\n",
    "print(res, type(res))\n",
    "\n",
    "two,three,four = powers(3)\n",
    "print(three,type(three))"
   ]
  },
  {
   "cell_type": "code",
   "execution_count": 50,
   "metadata": {
    "collapsed": false,
    "deletable": true,
    "editable": true
   },
   "outputs": [
    {
     "name": "stdout",
     "output_type": "stream",
     "text": [
      "{'four': 20736, 'two': 144, 'three': 1728} <class 'dict'>\n",
      "144 <class 'int'>\n"
     ]
    }
   ],
   "source": [
    "def powers_dict(x):\n",
    "    \"\"\"\n",
    "    Return the first powers of x as a dictionary.\n",
    "    \"\"\"\n",
    "    return{\"two\": x ** 2, \"three\": x ** 3,  \"four\": x ** 4}\n",
    "\n",
    "\n",
    "res = powers_dict(12)\n",
    "print(res, type(res))\n",
    "print(res[\"two\"],type(res[\"two\"]))"
   ]
  },
  {
   "cell_type": "markdown",
   "metadata": {
    "deletable": true,
    "editable": true
   },
   "source": [
    "### Arguments\n",
    "\n",
    "It is possible to \n",
    "* Give the arguments in any order provided that you write the corresponding argument variable name\n",
    "* Set defaults values to variables so that they become optional"
   ]
  },
  {
   "cell_type": "code",
   "execution_count": 51,
   "metadata": {
    "collapsed": true,
    "deletable": true,
    "editable": true
   },
   "outputs": [],
   "source": [
    "def fancy_power(x, p=2, debug=False):\n",
    "    \"\"\"\n",
    "    Here is a fancy version of power that computes the square of the argument or other powers if p is set\n",
    "    \"\"\"\n",
    "    if debug:\n",
    "        print( \"\\\"fancy_power\\\" is called with x =\", x, \" and p =\", p)\n",
    "    return(x**p)"
   ]
  },
  {
   "cell_type": "code",
   "execution_count": 52,
   "metadata": {
    "collapsed": false,
    "deletable": true,
    "editable": true
   },
   "outputs": [
    {
     "name": "stdout",
     "output_type": "stream",
     "text": [
      "25\n",
      "125\n"
     ]
    }
   ],
   "source": [
    "print(fancy_power(5))\n",
    "print(fancy_power(5,p=3))"
   ]
  },
  {
   "cell_type": "code",
   "execution_count": 53,
   "metadata": {
    "collapsed": false,
    "deletable": true,
    "editable": true
   },
   "outputs": [
    {
     "name": "stdout",
     "output_type": "stream",
     "text": [
      "\"fancy_power\" is called with x = 2  and p = 8\n",
      "256\n"
     ]
    }
   ],
   "source": [
    "res = fancy_power(p=8,x=2,debug=True)\n",
    "print(res)"
   ]
  },
  {
   "cell_type": "markdown",
   "metadata": {
    "deletable": true,
    "editable": true
   },
   "source": [
    "## <a id=\"baseClass\"> g) Classes [*]</a> \n",
    "\n",
    "<p style=\"text-align: right; font-size: 10px;\"><a href=\"#top\">Go to top</a></p>\n",
    "\n",
    "Classes are at the core of *object-oriented* programming, they are used to represent an object with related *attribues* (variables) and *methods* (functions). \n",
    "\n",
    "They are defined as functions but with the keyword class <tt>**class** my_class(object):</tt> followed by an indentation. The definition of a class usually contains some methods:\n",
    "* The first argument of a method must be `self` in auto-reference.\n",
    "* Some method names have a specific meaning: \n",
    "   * `__init__`: method executed at the creation of the object\n",
    "   * `__str__` : method executed to represent the object as a string for instance when the object is passed ot the function `print`\n",
    "   * see the [documentation](http://docs.python.org/2/reference/datamodel.html#special-method-names) for other special methods names.\n",
    "   "
   ]
  },
  {
   "cell_type": "code",
   "execution_count": 54,
   "metadata": {
    "collapsed": true,
    "deletable": true,
    "editable": true
   },
   "outputs": [],
   "source": [
    "class Point(object):\n",
    "    \"\"\"\n",
    "    Class of a point in the 2D plane.\n",
    "    \"\"\"\n",
    "    def __init__(self, x=0.0, y=0.0):\n",
    "        \"\"\"\n",
    "        Creation of a new point at position (x, y).\n",
    "        \"\"\"\n",
    "        self.x = x\n",
    "        self.y = y\n",
    "        \n",
    "    def translate(self, dx, dy):\n",
    "        \"\"\"\n",
    "        Translate the point by (dx , dy).\n",
    "        \"\"\"\n",
    "        self.x += dx\n",
    "        self.y += dy\n",
    "        \n",
    "    def __str__(self):\n",
    "        return(\"Point: ({:.2f}, {:.2f})\".format(self.x, self.y))"
   ]
  },
  {
   "cell_type": "code",
   "execution_count": 55,
   "metadata": {
    "collapsed": false,
    "deletable": true,
    "editable": true
   },
   "outputs": [
    {
     "name": "stdout",
     "output_type": "stream",
     "text": [
      "Point: (0.00, 0.00)\n",
      "Point: (3.00, 2.00)\n",
      "Point: (1.20, 3.00)\n"
     ]
    }
   ],
   "source": [
    "p1 = Point()\n",
    "print(p1)\n",
    "\n",
    "p1.translate(3,2)\n",
    "print(p1)\n",
    "\n",
    "p2 = Point(1.2,3)\n",
    "print(p2)"
   ]
  },
  {
   "cell_type": "markdown",
   "metadata": {
    "deletable": true,
    "editable": true
   },
   "source": [
    "## <a id=\"baseFile\"> h) Reading and writing files</a> \n",
    "\n",
    "<p style=\"text-align: right; font-size: 10px;\"><a href=\"#top\">Go to top</a></p>\n",
    "\n",
    "<tt>open()</tt> returns a file object, and is most commonly used with two arguments: <tt>open(filename, mode)</tt>.\n",
    "\n",
    "The first argument is a string containing the filename. The second argument is another string containing a few characters describing the way in which the file will be used (optional, 'r' will be assumed if it’s omitted.):\n",
    "* 'r' when the file will only be read\n",
    "* 'w' for only writing (an existing file with the same name will be erased)\n",
    "* 'a' opens the file for appending; any data written to the file is automatically added to the end"
   ]
  },
  {
   "cell_type": "code",
   "execution_count": 56,
   "metadata": {
    "collapsed": false,
    "deletable": true,
    "editable": true
   },
   "outputs": [
    {
     "name": "stdout",
     "output_type": "stream",
     "text": [
      "<_io.TextIOWrapper name='./data/test/testfile' mode='w' encoding='UTF-8'>\n"
     ]
    }
   ],
   "source": [
    "f = open('./data/test/testfile', 'w')\n",
    "print(f)"
   ]
  },
  {
   "cell_type": "markdown",
   "metadata": {
    "deletable": true,
    "editable": true
   },
   "source": [
    "<tt>f.write(string)</tt> writes the contents of string to the file."
   ]
  },
  {
   "cell_type": "code",
   "execution_count": 57,
   "metadata": {
    "collapsed": true,
    "deletable": true,
    "editable": true
   },
   "outputs": [
    {
     "data": {
      "text/plain": [
       "15"
      ]
     },
     "execution_count": 57,
     "metadata": {},
     "output_type": "execute_result"
    }
   ],
   "source": [
    "f.write(\"This is a test\\n\")"
   ]
  },
  {
   "cell_type": "code",
   "execution_count": 58,
   "metadata": {
    "collapsed": true,
    "deletable": true,
    "editable": true
   },
   "outputs": [],
   "source": [
    "f.close()"
   ]
  },
  {
   "cell_type": "markdown",
   "metadata": {
    "deletable": true,
    "editable": true
   },
   "source": [
    "<div class=\"warn\">**Warning:** For the file to be actually written and being able to be opened and modified again without mistakes, it is primordial to close the file handle with <tt>f.close()</tt></div>\n",
    "\n",
    "\n",
    "<tt>f.read()</tt> will read an entire file and put the pointer at the end."
   ]
  },
  {
   "cell_type": "code",
   "execution_count": 59,
   "metadata": {
    "collapsed": false,
    "deletable": true,
    "editable": true
   },
   "outputs": [
    {
     "data": {
      "text/plain": [
       "'Work it\\nMake it\\nDo it\\nMakes us\\nHarder\\nBetter\\nFaster\\nStronger\\nMore than\\nHour\\nOur\\nNever\\nEver\\nAfter\\nWork is\\nOver\\nOver\\n\\nWork it harder, make it better.\\nDo it faster, makes us stronger.\\nMore than ever hour after.\\nOur work is never over.\\n'"
      ]
     },
     "execution_count": 59,
     "metadata": {},
     "output_type": "execute_result"
    }
   ],
   "source": [
    "f = open('./data/test/DaftPunk_lyrics.txt', 'r')\n",
    "f.read()"
   ]
  },
  {
   "cell_type": "code",
   "execution_count": 60,
   "metadata": {
    "collapsed": false,
    "deletable": true,
    "editable": true
   },
   "outputs": [
    {
     "data": {
      "text/plain": [
       "''"
      ]
     },
     "execution_count": 60,
     "metadata": {},
     "output_type": "execute_result"
    }
   ],
   "source": [
    "f.read()"
   ]
  },
  {
   "cell_type": "markdown",
   "metadata": {
    "deletable": true,
    "editable": true
   },
   "source": [
    "The end of the file has be reached so the command return ''. To get to the top, use  <tt>f.seek(offset, from_what)</tt>. The position is computed from adding offset to a reference point; the reference point is selected by the from_what argument. A from_what value of 0 measures from the beginning of the file, 1 uses the current file position, and 2 uses the end of the file as the reference point. from_what can be omitted and defaults to 0, using the beginning of the file as the reference point. Thus <tt>f.seek(0)</tt> goes to the top."
   ]
  },
  {
   "cell_type": "code",
   "execution_count": 61,
   "metadata": {
    "collapsed": true,
    "deletable": true,
    "editable": true
   },
   "outputs": [
    {
     "data": {
      "text/plain": [
       "0"
      ]
     },
     "execution_count": 61,
     "metadata": {},
     "output_type": "execute_result"
    }
   ],
   "source": [
    "f.seek(0)"
   ]
  },
  {
   "cell_type": "markdown",
   "metadata": {
    "deletable": true,
    "editable": true
   },
   "source": [
    "<tt>f.readline()</tt> reads a single line from the file; a newline character (\\n) is left at the end of the string"
   ]
  },
  {
   "cell_type": "code",
   "execution_count": 62,
   "metadata": {
    "collapsed": false,
    "deletable": true,
    "editable": true
   },
   "outputs": [
    {
     "data": {
      "text/plain": [
       "'Work it\\n'"
      ]
     },
     "execution_count": 62,
     "metadata": {},
     "output_type": "execute_result"
    }
   ],
   "source": [
    "f.readline()"
   ]
  },
  {
   "cell_type": "code",
   "execution_count": 63,
   "metadata": {
    "collapsed": false,
    "deletable": true,
    "editable": true
   },
   "outputs": [
    {
     "data": {
      "text/plain": [
       "'Make it\\n'"
      ]
     },
     "execution_count": 63,
     "metadata": {},
     "output_type": "execute_result"
    }
   ],
   "source": [
    "f.readline()"
   ]
  },
  {
   "cell_type": "markdown",
   "metadata": {
    "deletable": true,
    "editable": true
   },
   "source": [
    "For reading lines from a file, you can loop over the file object. This is memory efficient, fast, and leads to simple code:"
   ]
  },
  {
   "cell_type": "code",
   "execution_count": 64,
   "metadata": {
    "collapsed": false,
    "deletable": true,
    "editable": true
   },
   "outputs": [
    {
     "name": "stdout",
     "output_type": "stream",
     "text": [
      "Work it\n",
      "\n",
      "Make it\n",
      "\n",
      "Do it\n",
      "\n",
      "Makes us\n",
      "\n",
      "Harder\n",
      "\n",
      "Better\n",
      "\n",
      "Faster\n",
      "\n",
      "Stronger\n",
      "\n",
      "More than\n",
      "\n",
      "Hour\n",
      "\n",
      "Our\n",
      "\n",
      "Never\n",
      "\n",
      "Ever\n",
      "\n",
      "After\n",
      "\n",
      "Work is\n",
      "\n",
      "Over\n",
      "\n",
      "Over\n",
      "\n",
      "\n",
      "\n",
      "Work it harder, make it better.\n",
      "\n",
      "Do it faster, makes us stronger.\n",
      "\n",
      "More than ever hour after.\n",
      "\n",
      "Our work is never over.\n",
      "\n"
     ]
    }
   ],
   "source": [
    "f.seek(0)\n",
    "for line in f:\n",
    "    print(line)\n",
    "\n",
    "f.close()"
   ]
  },
  {
   "cell_type": "markdown",
   "metadata": {
    "deletable": true,
    "editable": true
   },
   "source": [
    "## <a id=\"baseExo\"> i) Exercises</a> \n",
    "\n",
    "<p style=\"text-align: right; font-size: 10px;\"><a href=\"#top\">Go to top</a></p>"
   ]
  },
  {
   "cell_type": "markdown",
   "metadata": {
    "deletable": true,
    "editable": true
   },
   "source": [
    "\n",
    "\n",
    "<div class=\"exo\">\n",
    "**Exercise 1-1.1:** Odd or Even\n",
    "<br/><br/>\n",
    "\n",
    "The code snippet below enable the user to enter a number. Check if this number is odd or even. Optionnaly, handle bad inputs (character, float, signs, etc)\n",
    "</div>\n"
   ]
  },
  {
   "cell_type": "code",
   "execution_count": 65,
   "metadata": {
    "collapsed": false,
    "deletable": true,
    "editable": true
   },
   "outputs": [],
   "source": [
    "#num = input(\"Enter a number: \")\n",
    "#print(num)"
   ]
  },
  {
   "cell_type": "markdown",
   "metadata": {
    "deletable": true,
    "editable": true
   },
   "source": [
    "---"
   ]
  },
  {
   "cell_type": "markdown",
   "metadata": {
    "deletable": true,
    "editable": true
   },
   "source": [
    "\n",
    "\n",
    "<div class=\"exo\">\n",
    "**Exercise 1-1.2:** Fibonacci \n",
    "<br/><br/>\n",
    "\n",
    "The Fibonacci seqence is a sequence of numbers where the next number in the sequence is the sum of the previous two numbers in the sequence. The sequence looks like this: 1, 1, 2, 3, 5, 8, 13. Write a function that generate a given number of elements of the Fibonacci sequence.\n",
    "\n",
    "</div>\n"
   ]
  },
  {
   "cell_type": "code",
   "execution_count": null,
   "metadata": {
    "collapsed": false,
    "deletable": true,
    "editable": true
   },
   "outputs": [],
   "source": []
  },
  {
   "cell_type": "markdown",
   "metadata": {
    "deletable": true,
    "editable": true
   },
   "source": [
    "---"
   ]
  },
  {
   "cell_type": "markdown",
   "metadata": {
    "deletable": true,
    "editable": true
   },
   "source": [
    "\n",
    "\n",
    "<div class=\"exo\">\n",
    "**Exercise 1-1.3:** Implement *quicksort*\n",
    "<br/><br/>\n",
    "\n",
    "The [wikipedia page](http://en.wikipedia.org/wiki/Quicksort) describing this sorting algorithm gives the following pseudocode:\n",
    "</div>\n",
    "\n",
    "\n",
    "\n",
    "    function quicksort('array')\n",
    "       if length('array') <= 1\n",
    "            return 'array'\n",
    "       select and remove a pivot value 'pivot' from 'array'\n",
    "       create empty lists 'less' and 'greater'\n",
    "       for each 'x' in 'array'\n",
    "           if 'x' <= 'pivot' then append 'x' to 'less'\n",
    "           else append 'x' to 'greater'\n",
    "       return concatenate(quicksort('less'), 'pivot', quicksort('greater'))\n",
    "\n",
    "<div class=\"exo\">\n",
    "Create a function that sorts a list using quicksort\n",
    "</div>\n"
   ]
  },
  {
   "cell_type": "code",
   "execution_count": 66,
   "metadata": {
    "collapsed": false,
    "deletable": true,
    "editable": true
   },
   "outputs": [
    {
     "name": "stdout",
     "output_type": "stream",
     "text": [
      "None\n"
     ]
    }
   ],
   "source": [
    "def quicksort(l):\n",
    "    # ...\n",
    "    return None\n",
    "\n",
    "res = quicksort([-2, 3, 5, 1, 3])\n",
    "print(res)"
   ]
  },
  {
   "cell_type": "markdown",
   "metadata": {
    "deletable": true,
    "editable": true
   },
   "source": [
    "---"
   ]
  },
  {
   "cell_type": "markdown",
   "metadata": {
    "deletable": true,
    "editable": true
   },
   "source": [
    "<div class=\"exo\">\n",
    "**Exercise 1-1.4:** Project Euler\n",
    "<br/><br/>\n",
    "\n",
    "[Project Euler](https://projecteuler.net/) is a website of competitive programming mainly based on solving cleverly otherwise computation-intensive mathematical problems. It is a good way to learn a new scientific programming language.\n",
    "\n",
    "[Problem 1](https://projecteuler.net/problem=1) reads\n",
    "</div>\n",
    "    \n",
    "    If we list all the natural numbers below 10 that are multiples of 3 or 5, we get 3, 5, 6 and 9. The sum of these multiples is 23.\n",
    "\n",
    "    Find the sum of all the multiples of 3 or 5 below 1000.\n",
    "\n",
    "<div class=\"exo\">\n",
    "Write a script that solves this problem.\n",
    "</div>\n"
   ]
  },
  {
   "cell_type": "code",
   "execution_count": null,
   "metadata": {
    "collapsed": true,
    "deletable": true,
    "editable": true
   },
   "outputs": [],
   "source": []
  },
  {
   "cell_type": "markdown",
   "metadata": {
    "deletable": true,
    "editable": true
   },
   "source": [
    "<div class=\"exo\">\n",
    "You can continue by solving other [problems](https://projecteuler.net/archives). The first ones (eg. 4, 31) are the easiest.\n",
    "</div> \n"
   ]
  },
  {
   "cell_type": "code",
   "execution_count": null,
   "metadata": {
    "collapsed": true,
    "deletable": true,
    "editable": true
   },
   "outputs": [],
   "source": []
  },
  {
   "cell_type": "markdown",
   "metadata": {
    "deletable": true,
    "editable": true
   },
   "source": [
    "---"
   ]
  },
  {
   "cell_type": "markdown",
   "metadata": {
    "deletable": true,
    "editable": true
   },
   "source": [
    "<div class=\"exo\">\n",
    "**Exercise 1-1.5:** Random Password generator\n",
    "<br/><br/>\n",
    "\n",
    "From the admissible characters <tt>chars</tt>, and the wanted length <tt>passlen</tt>, write a function that generates a password containing at least one number, one capital letter, and one sign.\n",
    "\n",
    "</div>\n"
   ]
  },
  {
   "cell_type": "code",
   "execution_count": 67,
   "metadata": {
    "collapsed": true,
    "deletable": true,
    "editable": true
   },
   "outputs": [
    {
     "data": {
      "text/plain": [
       "\u001b[0;31mSignature:\u001b[0m \u001b[0mrandom\u001b[0m\u001b[0;34m.\u001b[0m\u001b[0mrandint\u001b[0m\u001b[0;34m(\u001b[0m\u001b[0ma\u001b[0m\u001b[0;34m,\u001b[0m \u001b[0mb\u001b[0m\u001b[0;34m)\u001b[0m\u001b[0;34m\u001b[0m\u001b[0m\n",
       "\u001b[0;31mDocstring:\u001b[0m\n",
       "Return random integer in range [a, b], including both end points.\n",
       "        \n",
       "\u001b[0;31mFile:\u001b[0m      /usr/lib/python3.4/random.py\n",
       "\u001b[0;31mType:\u001b[0m      method\n"
      ]
     },
     "metadata": {},
     "output_type": "display_data"
    }
   ],
   "source": [
    "import random\n",
    "\n",
    "chars = \"abcdefghijklmnopqrstuvwxyz01234567890ABCDEFGHIJKLMNOPQRSTUVWXYZ!@#$%^&*()?\"\n",
    "passlen = 8\n",
    "\n",
    "rn = random.randint?"
   ]
  },
  {
   "cell_type": "code",
   "execution_count": null,
   "metadata": {
    "collapsed": true,
    "deletable": true,
    "editable": true
   },
   "outputs": [],
   "source": [
    "rn = random.randint"
   ]
  },
  {
   "cell_type": "markdown",
   "metadata": {
    "deletable": true,
    "editable": true
   },
   "source": [
    "---"
   ]
  },
  {
   "cell_type": "markdown",
   "metadata": {
    "deletable": true,
    "editable": true
   },
   "source": [
    "---\n",
    "<div id=\"style\"></div>\n",
    "### Package Check and Styling\n",
    "\n",
    "\n",
    "<p style=\"text-align: right; font-size: 10px;\"><a href=\"#top\">Go to top</a></p>\n"
   ]
  },
  {
   "cell_type": "code",
   "execution_count": null,
   "metadata": {
    "collapsed": true,
    "deletable": true,
    "editable": true
   },
   "outputs": [],
   "source": [
    "import lib.notebook_setting as nbs\n",
    "\n",
    "packageList = ['IPython', 'numpy', 'scipy', 'matplotlib', 'cvxopt', 'pandas', 'seaborn', 'sklearn', 'tensorflow']\n",
    "nbs.packageCheck(packageList)\n",
    "\n",
    "nbs.cssStyling()"
   ]
  }
 ],
 "metadata": {
  "kernelspec": {
   "display_name": "Python 3",
   "language": "python",
   "name": "python3"
  },
  "language_info": {
   "codemirror_mode": {
    "name": "ipython",
    "version": 3
   },
   "file_extension": ".py",
   "mimetype": "text/x-python",
   "name": "python",
   "nbconvert_exporter": "python",
   "pygments_lexer": "ipython3",
   "version": "3.5.6"
  },
  "varInspector": {
   "cols": {
    "lenName": 16,
    "lenType": 16,
    "lenVar": 40
   },
   "kernels_config": {
    "python": {
     "delete_cmd_postfix": "",
     "delete_cmd_prefix": "del ",
     "library": "var_list.py",
     "varRefreshCmd": "print(var_dic_list())"
    },
    "r": {
     "delete_cmd_postfix": ") ",
     "delete_cmd_prefix": "rm(",
     "library": "var_list.r",
     "varRefreshCmd": "cat(var_dic_list()) "
    }
   },
   "types_to_exclude": [
    "module",
    "function",
    "builtin_function_or_method",
    "instance",
    "_Feature"
   ],
   "window_display": false
  }
 },
 "nbformat": 4,
 "nbformat_minor": 2
}
